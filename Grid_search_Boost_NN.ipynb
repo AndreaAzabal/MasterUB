{
  "nbformat": 4,
  "nbformat_minor": 0,
  "metadata": {
    "colab": {
      "name": "Azabal_Andrea_M8B1_AI2.ipynb",
      "provenance": [],
      "collapsed_sections": [],
      "toc_visible": true
    },
    "kernelspec": {
      "name": "python3",
      "display_name": "Python 3"
    },
    "language_info": {
      "name": "python"
    }
  },
  "cells": [
    {
      "cell_type": "markdown",
      "metadata": {
        "id": "tW3jK_BDgjno"
      },
      "source": [
        "# **Gestión de Proyectos**\n",
        "\n",
        "##Tarea individual 2 - *Grid, Boosting* y redes neuronales con SciKit-Learn##\n",
        "\n",
        "###Andrea Azábal Lamoso###\n",
        "\n",
        "16 de septiembre de 2021\n",
        "\n",
        "---"
      ]
    },
    {
      "cell_type": "markdown",
      "metadata": {
        "id": "W_o9KYtnGUX_"
      },
      "source": [
        "#Objetivo\n",
        "\n",
        "El objetivo de esta práctica es comprobar cómo diferentes métodos de aprendizaje son capaces de trabajar de distinta manera para clasificar una serie de datos a partir de categorías y hacer un *benchmark* de cada una de las técnicas usadas.\n",
        "\n",
        "Con esta finalidad, se utilizarán técnicas de validación cruzada, en concreto para la obtención de un número óptimo de vecinos K así como la implementación de diferentes *learners* (Redes neuronales, *Ensemble* (*Adaboost*)) sobre dos *dataset* diferentes: uno de dígitos y otro de noticias.\n"
      ]
    },
    {
      "cell_type": "markdown",
      "metadata": {
        "id": "iWpn6mtISeIC"
      },
      "source": [
        "#Preparación del entorno\n",
        "\n",
        "Instalamos los paquetes necesarios:"
      ]
    },
    {
      "cell_type": "code",
      "metadata": {
        "colab": {
          "base_uri": "https://localhost:8080/"
        },
        "id": "l0586mW3SdhB",
        "outputId": "365ec85b-3997-44b2-e2e9-67f7bf5c7a41"
      },
      "source": [
        "!pip install skranger\n",
        "!pip install -U nltk\n",
        "!pip install scikit-learn\n",
        "!pip install seaborn\n",
        "!pip install matplotlib\n",
        "!pip install scikit-plot\n",
        "!pip install numpy\n",
        "!pip install pandas\n",
        "!pip install statsmodels\n",
        "!pip install fitter\n",
        "!pip install graphviz\n",
        "!pip install xgboost\n",
        "!pip install lightgbm"
      ],
      "execution_count": null,
      "outputs": [
        {
          "output_type": "stream",
          "name": "stdout",
          "text": [
            "Collecting skranger\n",
            "  Downloading skranger-0.6.1-cp37-cp37m-manylinux1_x86_64.manylinux_2_5_x86_64.whl (465 kB)\n",
            "\u001b[K     |████████████████████████████████| 465 kB 8.6 MB/s \n",
            "\u001b[?25hCollecting scikit-learn<1,>=0.23.0\n",
            "  Downloading scikit_learn-0.24.2-cp37-cp37m-manylinux2010_x86_64.whl (22.3 MB)\n",
            "\u001b[K     |████████████████████████████████| 22.3 MB 122.1 MB/s \n",
            "\u001b[?25hRequirement already satisfied: joblib>=0.11 in /usr/local/lib/python3.7/dist-packages (from scikit-learn<1,>=0.23.0->skranger) (1.0.1)\n",
            "Requirement already satisfied: numpy>=1.13.3 in /usr/local/lib/python3.7/dist-packages (from scikit-learn<1,>=0.23.0->skranger) (1.19.5)\n",
            "Requirement already satisfied: scipy>=0.19.1 in /usr/local/lib/python3.7/dist-packages (from scikit-learn<1,>=0.23.0->skranger) (1.4.1)\n",
            "Collecting threadpoolctl>=2.0.0\n",
            "  Downloading threadpoolctl-2.2.0-py3-none-any.whl (12 kB)\n",
            "Installing collected packages: threadpoolctl, scikit-learn, skranger\n",
            "  Attempting uninstall: scikit-learn\n",
            "    Found existing installation: scikit-learn 0.22.2.post1\n",
            "    Uninstalling scikit-learn-0.22.2.post1:\n",
            "      Successfully uninstalled scikit-learn-0.22.2.post1\n",
            "Successfully installed scikit-learn-0.24.2 skranger-0.6.1 threadpoolctl-2.2.0\n",
            "Requirement already satisfied: nltk in /usr/local/lib/python3.7/dist-packages (3.2.5)\n",
            "Collecting nltk\n",
            "  Downloading nltk-3.6.2-py3-none-any.whl (1.5 MB)\n",
            "\u001b[K     |████████████████████████████████| 1.5 MB 8.3 MB/s \n",
            "\u001b[?25hRequirement already satisfied: regex in /usr/local/lib/python3.7/dist-packages (from nltk) (2019.12.20)\n",
            "Requirement already satisfied: click in /usr/local/lib/python3.7/dist-packages (from nltk) (7.1.2)\n",
            "Requirement already satisfied: tqdm in /usr/local/lib/python3.7/dist-packages (from nltk) (4.62.0)\n",
            "Requirement already satisfied: joblib in /usr/local/lib/python3.7/dist-packages (from nltk) (1.0.1)\n",
            "Installing collected packages: nltk\n",
            "  Attempting uninstall: nltk\n",
            "    Found existing installation: nltk 3.2.5\n",
            "    Uninstalling nltk-3.2.5:\n",
            "      Successfully uninstalled nltk-3.2.5\n",
            "Successfully installed nltk-3.6.2\n",
            "Requirement already satisfied: scikit-learn in /usr/local/lib/python3.7/dist-packages (0.24.2)\n",
            "Requirement already satisfied: joblib>=0.11 in /usr/local/lib/python3.7/dist-packages (from scikit-learn) (1.0.1)\n",
            "Requirement already satisfied: scipy>=0.19.1 in /usr/local/lib/python3.7/dist-packages (from scikit-learn) (1.4.1)\n",
            "Requirement already satisfied: threadpoolctl>=2.0.0 in /usr/local/lib/python3.7/dist-packages (from scikit-learn) (2.2.0)\n",
            "Requirement already satisfied: numpy>=1.13.3 in /usr/local/lib/python3.7/dist-packages (from scikit-learn) (1.19.5)\n",
            "Requirement already satisfied: seaborn in /usr/local/lib/python3.7/dist-packages (0.11.1)\n",
            "Requirement already satisfied: scipy>=1.0 in /usr/local/lib/python3.7/dist-packages (from seaborn) (1.4.1)\n",
            "Requirement already satisfied: pandas>=0.23 in /usr/local/lib/python3.7/dist-packages (from seaborn) (1.1.5)\n",
            "Requirement already satisfied: numpy>=1.15 in /usr/local/lib/python3.7/dist-packages (from seaborn) (1.19.5)\n",
            "Requirement already satisfied: matplotlib>=2.2 in /usr/local/lib/python3.7/dist-packages (from seaborn) (3.2.2)\n",
            "Requirement already satisfied: cycler>=0.10 in /usr/local/lib/python3.7/dist-packages (from matplotlib>=2.2->seaborn) (0.10.0)\n",
            "Requirement already satisfied: python-dateutil>=2.1 in /usr/local/lib/python3.7/dist-packages (from matplotlib>=2.2->seaborn) (2.8.2)\n",
            "Requirement already satisfied: kiwisolver>=1.0.1 in /usr/local/lib/python3.7/dist-packages (from matplotlib>=2.2->seaborn) (1.3.1)\n",
            "Requirement already satisfied: pyparsing!=2.0.4,!=2.1.2,!=2.1.6,>=2.0.1 in /usr/local/lib/python3.7/dist-packages (from matplotlib>=2.2->seaborn) (2.4.7)\n",
            "Requirement already satisfied: six in /usr/local/lib/python3.7/dist-packages (from cycler>=0.10->matplotlib>=2.2->seaborn) (1.15.0)\n",
            "Requirement already satisfied: pytz>=2017.2 in /usr/local/lib/python3.7/dist-packages (from pandas>=0.23->seaborn) (2018.9)\n",
            "Requirement already satisfied: matplotlib in /usr/local/lib/python3.7/dist-packages (3.2.2)\n",
            "Requirement already satisfied: numpy>=1.11 in /usr/local/lib/python3.7/dist-packages (from matplotlib) (1.19.5)\n",
            "Requirement already satisfied: kiwisolver>=1.0.1 in /usr/local/lib/python3.7/dist-packages (from matplotlib) (1.3.1)\n",
            "Requirement already satisfied: cycler>=0.10 in /usr/local/lib/python3.7/dist-packages (from matplotlib) (0.10.0)\n",
            "Requirement already satisfied: python-dateutil>=2.1 in /usr/local/lib/python3.7/dist-packages (from matplotlib) (2.8.2)\n",
            "Requirement already satisfied: pyparsing!=2.0.4,!=2.1.2,!=2.1.6,>=2.0.1 in /usr/local/lib/python3.7/dist-packages (from matplotlib) (2.4.7)\n",
            "Requirement already satisfied: six in /usr/local/lib/python3.7/dist-packages (from cycler>=0.10->matplotlib) (1.15.0)\n",
            "Collecting scikit-plot\n",
            "  Downloading scikit_plot-0.3.7-py3-none-any.whl (33 kB)\n",
            "Requirement already satisfied: scipy>=0.9 in /usr/local/lib/python3.7/dist-packages (from scikit-plot) (1.4.1)\n",
            "Requirement already satisfied: joblib>=0.10 in /usr/local/lib/python3.7/dist-packages (from scikit-plot) (1.0.1)\n",
            "Requirement already satisfied: matplotlib>=1.4.0 in /usr/local/lib/python3.7/dist-packages (from scikit-plot) (3.2.2)\n",
            "Requirement already satisfied: scikit-learn>=0.18 in /usr/local/lib/python3.7/dist-packages (from scikit-plot) (0.24.2)\n",
            "Requirement already satisfied: kiwisolver>=1.0.1 in /usr/local/lib/python3.7/dist-packages (from matplotlib>=1.4.0->scikit-plot) (1.3.1)\n",
            "Requirement already satisfied: pyparsing!=2.0.4,!=2.1.2,!=2.1.6,>=2.0.1 in /usr/local/lib/python3.7/dist-packages (from matplotlib>=1.4.0->scikit-plot) (2.4.7)\n",
            "Requirement already satisfied: numpy>=1.11 in /usr/local/lib/python3.7/dist-packages (from matplotlib>=1.4.0->scikit-plot) (1.19.5)\n",
            "Requirement already satisfied: cycler>=0.10 in /usr/local/lib/python3.7/dist-packages (from matplotlib>=1.4.0->scikit-plot) (0.10.0)\n",
            "Requirement already satisfied: python-dateutil>=2.1 in /usr/local/lib/python3.7/dist-packages (from matplotlib>=1.4.0->scikit-plot) (2.8.2)\n",
            "Requirement already satisfied: six in /usr/local/lib/python3.7/dist-packages (from cycler>=0.10->matplotlib>=1.4.0->scikit-plot) (1.15.0)\n",
            "Requirement already satisfied: threadpoolctl>=2.0.0 in /usr/local/lib/python3.7/dist-packages (from scikit-learn>=0.18->scikit-plot) (2.2.0)\n",
            "Installing collected packages: scikit-plot\n",
            "Successfully installed scikit-plot-0.3.7\n",
            "Requirement already satisfied: numpy in /usr/local/lib/python3.7/dist-packages (1.19.5)\n",
            "Requirement already satisfied: pandas in /usr/local/lib/python3.7/dist-packages (1.1.5)\n",
            "Requirement already satisfied: pytz>=2017.2 in /usr/local/lib/python3.7/dist-packages (from pandas) (2018.9)\n",
            "Requirement already satisfied: python-dateutil>=2.7.3 in /usr/local/lib/python3.7/dist-packages (from pandas) (2.8.2)\n",
            "Requirement already satisfied: numpy>=1.15.4 in /usr/local/lib/python3.7/dist-packages (from pandas) (1.19.5)\n",
            "Requirement already satisfied: six>=1.5 in /usr/local/lib/python3.7/dist-packages (from python-dateutil>=2.7.3->pandas) (1.15.0)\n",
            "Requirement already satisfied: statsmodels in /usr/local/lib/python3.7/dist-packages (0.10.2)\n",
            "Requirement already satisfied: pandas>=0.19 in /usr/local/lib/python3.7/dist-packages (from statsmodels) (1.1.5)\n",
            "Requirement already satisfied: numpy>=1.11 in /usr/local/lib/python3.7/dist-packages (from statsmodels) (1.19.5)\n",
            "Requirement already satisfied: scipy>=0.18 in /usr/local/lib/python3.7/dist-packages (from statsmodels) (1.4.1)\n",
            "Requirement already satisfied: patsy>=0.4.0 in /usr/local/lib/python3.7/dist-packages (from statsmodels) (0.5.1)\n",
            "Requirement already satisfied: python-dateutil>=2.7.3 in /usr/local/lib/python3.7/dist-packages (from pandas>=0.19->statsmodels) (2.8.2)\n",
            "Requirement already satisfied: pytz>=2017.2 in /usr/local/lib/python3.7/dist-packages (from pandas>=0.19->statsmodels) (2018.9)\n",
            "Requirement already satisfied: six in /usr/local/lib/python3.7/dist-packages (from patsy>=0.4.0->statsmodels) (1.15.0)\n",
            "Collecting fitter\n",
            "  Downloading fitter-1.4.0.tar.gz (27 kB)\n",
            "Collecting easydev\n",
            "  Downloading easydev-0.11.2.tar.gz (47 kB)\n",
            "\u001b[K     |████████████████████████████████| 47 kB 4.5 MB/s \n",
            "\u001b[?25hRequirement already satisfied: numpy in /usr/local/lib/python3.7/dist-packages (from fitter) (1.19.5)\n",
            "Requirement already satisfied: matplotlib in /usr/local/lib/python3.7/dist-packages (from fitter) (3.2.2)\n",
            "Requirement already satisfied: scipy>=0.18 in /usr/local/lib/python3.7/dist-packages (from fitter) (1.4.1)\n",
            "Requirement already satisfied: pandas in /usr/local/lib/python3.7/dist-packages (from fitter) (1.1.5)\n",
            "Requirement already satisfied: click in /usr/local/lib/python3.7/dist-packages (from fitter) (7.1.2)\n",
            "Requirement already satisfied: joblib in /usr/local/lib/python3.7/dist-packages (from fitter) (1.0.1)\n",
            "Collecting colorama\n",
            "  Downloading colorama-0.4.4-py2.py3-none-any.whl (16 kB)\n",
            "Requirement already satisfied: pexpect in /usr/local/lib/python3.7/dist-packages (from easydev->fitter) (4.8.0)\n",
            "Collecting colorlog\n",
            "  Downloading colorlog-6.4.1-py2.py3-none-any.whl (11 kB)\n",
            "Requirement already satisfied: kiwisolver>=1.0.1 in /usr/local/lib/python3.7/dist-packages (from matplotlib->fitter) (1.3.1)\n",
            "Requirement already satisfied: pyparsing!=2.0.4,!=2.1.2,!=2.1.6,>=2.0.1 in /usr/local/lib/python3.7/dist-packages (from matplotlib->fitter) (2.4.7)\n",
            "Requirement already satisfied: cycler>=0.10 in /usr/local/lib/python3.7/dist-packages (from matplotlib->fitter) (0.10.0)\n",
            "Requirement already satisfied: python-dateutil>=2.1 in /usr/local/lib/python3.7/dist-packages (from matplotlib->fitter) (2.8.2)\n",
            "Requirement already satisfied: six in /usr/local/lib/python3.7/dist-packages (from cycler>=0.10->matplotlib->fitter) (1.15.0)\n",
            "Requirement already satisfied: pytz>=2017.2 in /usr/local/lib/python3.7/dist-packages (from pandas->fitter) (2018.9)\n",
            "Requirement already satisfied: ptyprocess>=0.5 in /usr/local/lib/python3.7/dist-packages (from pexpect->easydev->fitter) (0.7.0)\n",
            "Building wheels for collected packages: fitter, easydev\n",
            "  Building wheel for fitter (setup.py) ... \u001b[?25l\u001b[?25hdone\n",
            "  Created wheel for fitter: filename=fitter-1.4.0-py3-none-any.whl size=25025 sha256=c10da8e7c7e2129612514288e1ddcd1a06a79152fb8eec1a2c7c54d21b05fccb\n",
            "  Stored in directory: /root/.cache/pip/wheels/e1/98/16/e5263962f94fbfaad79902aa94652516caccc1f1d51509e853\n",
            "  Building wheel for easydev (setup.py) ... \u001b[?25l\u001b[?25hdone\n",
            "  Created wheel for easydev: filename=easydev-0.11.2-py3-none-any.whl size=64232 sha256=2562776026533b2826282adad22584220e082e33b8a08c4658d555b1c223d9f8\n",
            "  Stored in directory: /root/.cache/pip/wheels/96/cd/8c/c22853ff02639ccd4dfa13a86257ee2cd6457ed6ed9a530bfa\n",
            "Successfully built fitter easydev\n",
            "Installing collected packages: colorlog, colorama, easydev, fitter\n",
            "Successfully installed colorama-0.4.4 colorlog-6.4.1 easydev-0.11.2 fitter-1.4.0\n",
            "Requirement already satisfied: graphviz in /usr/local/lib/python3.7/dist-packages (0.10.1)\n",
            "Requirement already satisfied: xgboost in /usr/local/lib/python3.7/dist-packages (0.90)\n",
            "Requirement already satisfied: numpy in /usr/local/lib/python3.7/dist-packages (from xgboost) (1.19.5)\n",
            "Requirement already satisfied: scipy in /usr/local/lib/python3.7/dist-packages (from xgboost) (1.4.1)\n",
            "Requirement already satisfied: lightgbm in /usr/local/lib/python3.7/dist-packages (2.2.3)\n",
            "Requirement already satisfied: scikit-learn in /usr/local/lib/python3.7/dist-packages (from lightgbm) (0.24.2)\n",
            "Requirement already satisfied: scipy in /usr/local/lib/python3.7/dist-packages (from lightgbm) (1.4.1)\n",
            "Requirement already satisfied: numpy in /usr/local/lib/python3.7/dist-packages (from lightgbm) (1.19.5)\n",
            "Requirement already satisfied: joblib>=0.11 in /usr/local/lib/python3.7/dist-packages (from scikit-learn->lightgbm) (1.0.1)\n",
            "Requirement already satisfied: threadpoolctl>=2.0.0 in /usr/local/lib/python3.7/dist-packages (from scikit-learn->lightgbm) (2.2.0)\n"
          ]
        }
      ]
    },
    {
      "cell_type": "code",
      "metadata": {
        "id": "in32h4WeZSNC"
      },
      "source": [
        "import numpy as np\n",
        "import pandas as pd\n",
        "import seaborn as sn\n",
        "import re\n",
        "import matplotlib.pyplot as plt"
      ],
      "execution_count": null,
      "outputs": []
    },
    {
      "cell_type": "markdown",
      "metadata": {
        "id": "_XVCRXYsoYEH"
      },
      "source": [
        "#*Digits dataset*\n",
        "\n",
        "En primer lugar, vamos a trabajar con el *dataset* de *digits* de Scikit-learn. [Según la documentación](https://scikit-learn.org/stable/modules/generated/sklearn.datasets.load_digits.html), el *dataset* de *digits* contiene 1797 puntos, siendo cada uno de ellos una imagen 8x8 (64 atributos en total) de un número entre el 0 y el 9.\n",
        "\n",
        "    =================   ==============\n",
        "    Classes                         10\n",
        "    Samples per class             ~180\n",
        "    Samples total                 1797\n",
        "    Dimensionality                  64\n",
        "    Features             integers 0-16\n",
        "    =================   =============="
      ]
    },
    {
      "cell_type": "markdown",
      "metadata": {
        "id": "3bhTntV1FfmU"
      },
      "source": [
        "A continuación, se muestra el número de registros para cada una de las clases:"
      ]
    },
    {
      "cell_type": "code",
      "metadata": {
        "colab": {
          "base_uri": "https://localhost:8080/"
        },
        "id": "bTBA_SPL916S",
        "outputId": "9d73e77b-1906-4d62-9496-e605f2e05c84"
      },
      "source": [
        "from sklearn import datasets\n",
        "#Importamos el dataset\n",
        "X_digits, y_digits = datasets.load_digits(return_X_y=True)\n",
        "pd.Series(y_digits).value_counts()"
      ],
      "execution_count": null,
      "outputs": [
        {
          "output_type": "execute_result",
          "data": {
            "text/plain": [
              "3    183\n",
              "5    182\n",
              "1    182\n",
              "6    181\n",
              "4    181\n",
              "9    180\n",
              "7    179\n",
              "0    178\n",
              "2    177\n",
              "8    174\n",
              "dtype: int64"
            ]
          },
          "metadata": {},
          "execution_count": 2
        }
      ]
    },
    {
      "cell_type": "markdown",
      "metadata": {
        "id": "_UlRNs37Fkhc"
      },
      "source": [
        "Comprobamos que se trata de un *dataset* más o menos balanceado. Nos aseguramos de que no existen valores faltantes:"
      ]
    },
    {
      "cell_type": "code",
      "metadata": {
        "colab": {
          "base_uri": "https://localhost:8080/"
        },
        "id": "edsMLLqeSKdj",
        "outputId": "bf6e3349-0a1f-4ee5-d7d3-9c7afae800ee"
      },
      "source": [
        "np.count_nonzero(np.isnan(y_digits))"
      ],
      "execution_count": null,
      "outputs": [
        {
          "output_type": "execute_result",
          "data": {
            "text/plain": [
              "0"
            ]
          },
          "metadata": {},
          "execution_count": 5
        }
      ]
    },
    {
      "cell_type": "markdown",
      "metadata": {
        "id": "SwgvpItNSu8Y"
      },
      "source": [
        "Procedemos a normalizarlo dividiendo por su valor máximo y creamos los subconjuntos de entrenamiento y prueba:"
      ]
    },
    {
      "cell_type": "code",
      "metadata": {
        "id": "tdt4c3L2pSW6"
      },
      "source": [
        "#Normalización del dataset\n",
        "X_digits = X_digits / X_digits.max()\n",
        "n_samples = len(X_digits)\n",
        "\n",
        "#Separación en train y test\n",
        "X_train = X_digits[:int(.8 * n_samples)]\n",
        "y_train = y_digits[:int(.8 * n_samples)]\n",
        "X_test = X_digits[int(.8 * n_samples):]\n",
        "y_test = y_digits[int(.8 * n_samples):]"
      ],
      "execution_count": null,
      "outputs": []
    },
    {
      "cell_type": "markdown",
      "metadata": {
        "id": "T4P0rADdHluP"
      },
      "source": [
        "Vemos que el valor máximo que toman ahora los píxeles es 1:"
      ]
    },
    {
      "cell_type": "code",
      "metadata": {
        "colab": {
          "base_uri": "https://localhost:8080/"
        },
        "id": "Gl9w4TgluTG4",
        "outputId": "931dca92-112d-437e-a8c2-1aaab6c0358e"
      },
      "source": [
        "#Valor máximo\n",
        "X_train.max()"
      ],
      "execution_count": null,
      "outputs": [
        {
          "output_type": "execute_result",
          "data": {
            "text/plain": [
              "1.0"
            ]
          },
          "metadata": {},
          "execution_count": 96
        }
      ]
    },
    {
      "cell_type": "markdown",
      "metadata": {
        "id": "t1H1YatCHryt"
      },
      "source": [
        "También podemos ver cómo ha quedado dividido el conjunto de datos inicial:"
      ]
    },
    {
      "cell_type": "code",
      "metadata": {
        "colab": {
          "base_uri": "https://localhost:8080/"
        },
        "id": "kD_E6BkjHMA4",
        "outputId": "298accc3-5949-47dd-9573-97a3465a12f8"
      },
      "source": [
        "#Train\n",
        "print(X_train.shape)"
      ],
      "execution_count": null,
      "outputs": [
        {
          "output_type": "stream",
          "name": "stdout",
          "text": [
            "(1437, 64)\n"
          ]
        }
      ]
    },
    {
      "cell_type": "code",
      "metadata": {
        "colab": {
          "base_uri": "https://localhost:8080/"
        },
        "id": "7zfdhUnSq_jc",
        "outputId": "a095ef86-224f-4899-a712-b5ee8e503afe"
      },
      "source": [
        "#Test\n",
        "print(X_test.shape)"
      ],
      "execution_count": null,
      "outputs": [
        {
          "output_type": "stream",
          "name": "stdout",
          "text": [
            "(360, 64)\n"
          ]
        }
      ]
    },
    {
      "cell_type": "markdown",
      "metadata": {
        "id": "B0wnOfA4vG99"
      },
      "source": [
        "Por último, comprobamos que las categorías en ambos subconjuntos siguen estando más o menos balanceadas y no se está sobrerrepresentando ninguna de ellas:"
      ]
    },
    {
      "cell_type": "code",
      "metadata": {
        "colab": {
          "base_uri": "https://localhost:8080/"
        },
        "id": "Zi_Yv7tbH3p0",
        "outputId": "2ce0db51-5c3b-4a65-c178-05f4f44c12c5"
      },
      "source": [
        "#Train\n",
        "pd.Series(y_train).value_counts()"
      ],
      "execution_count": null,
      "outputs": [
        {
          "output_type": "execute_result",
          "data": {
            "text/plain": [
              "3    146\n",
              "1    146\n",
              "5    145\n",
              "6    144\n",
              "4    144\n",
              "9    143\n",
              "7    143\n",
              "0    143\n",
              "2    142\n",
              "8    141\n",
              "dtype: int64"
            ]
          },
          "metadata": {},
          "execution_count": 11
        }
      ]
    },
    {
      "cell_type": "code",
      "metadata": {
        "colab": {
          "base_uri": "https://localhost:8080/"
        },
        "id": "8lhqvVeaIEWM",
        "outputId": "6dc04ade-8518-4b2b-93de-01f026a6fe40"
      },
      "source": [
        "#Test\n",
        "pd.Series(y_test).value_counts()"
      ],
      "execution_count": null,
      "outputs": [
        {
          "output_type": "execute_result",
          "data": {
            "text/plain": [
              "9    37\n",
              "6    37\n",
              "5    37\n",
              "4    37\n",
              "3    37\n",
              "7    36\n",
              "1    36\n",
              "2    35\n",
              "0    35\n",
              "8    33\n",
              "dtype: int64"
            ]
          },
          "metadata": {},
          "execution_count": 12
        }
      ]
    },
    {
      "cell_type": "markdown",
      "metadata": {
        "id": "3d3jiMb4JTqd"
      },
      "source": [
        "También podemos representar gráficamente un dígito de cada categoría para ver cómo se muestran:"
      ]
    },
    {
      "cell_type": "code",
      "metadata": {
        "id": "VtOuYRzkJQVb"
      },
      "source": [
        "y_u=pd.DataFrame(y_train).drop_duplicates()\n",
        "X_u=X_train[y_u[0].sort_values().index]"
      ],
      "execution_count": null,
      "outputs": []
    },
    {
      "cell_type": "code",
      "metadata": {
        "colab": {
          "base_uri": "https://localhost:8080/",
          "height": 118
        },
        "id": "z-9yz38TJQ9D",
        "outputId": "1277a441-aed0-4cf5-8454-2ee358fca534"
      },
      "source": [
        "_, axes = plt.subplots(nrows=1, ncols=10, figsize=(15, 15))\n",
        "for ax, image, label in zip(axes, X_u, y_u[0].sort_values()):\n",
        "    ax.set_axis_off()\n",
        "    image = image.reshape(8, 8)\n",
        "    ax.imshow(image, cmap=plt.cm.gray_r, interpolation='nearest')\n",
        "    ax.set_title('Número: %i' % label)"
      ],
      "execution_count": null,
      "outputs": [
        {
          "output_type": "display_data",
          "data": {
            "image/png": "[encoded data removed]",
            "text/plain": [
              "<Figure size 1080x1080 with 10 Axes>"
            ]
          },
          "metadata": {
            "needs_background": "light"
          }
        }
      ]
    },
    {
      "cell_type": "markdown",
      "metadata": {
        "id": "PI_-pimaT1TA"
      },
      "source": [
        "Así, se ve cómo las imágenes de ejemplo están muy pixeladas al tener solamente 8x8 píxeles."
      ]
    },
    {
      "cell_type": "markdown",
      "metadata": {
        "id": "NNB3co5vWmcE"
      },
      "source": [
        "##Método KNN\n",
        "\n",
        "El algoritmo que vamos a implementar en primer lugar para llevar a cabo la predicción es el de los k vecinos más cercanos​. Se trata de un método de clasificación supervisada que estima la probabilidad de que un elemento pertenezca a una determinada clase a partir de la información proporcionada por el conjunto de datos.\n",
        "\n",
        "El algoritmo calcula distancias en espacios n-dimensionales, siendo  *n*  el número de variables predictoras. Para que KNN funcione bien, precisa de calcular las distancias entre puntos que están en una zona común del espacio. Por esta razón, es necesario realizar un escalado previo de los datos de las variables predictoras.\n",
        "\n",
        "Así, vamos a valernos de la función ``KNeighborsClassifier`` y ajustar los parámetros más relevantes:\n",
        "\n",
        "- n_neighbors: número de vecinos cercanos a tener en cuenta para la predicción.\n",
        "\n",
        "- weights o pesos: ponderación de cada punto."
      ]
    },
    {
      "cell_type": "markdown",
      "metadata": {
        "id": "jb_VdF2Gqc3S"
      },
      "source": [
        "Además, procedemos a utilizar la función `GridSearchCV` para hallar la mejor especificación del modelo. Así, vamos a probar con los siguientes parámetros:\n",
        "\n",
        "- k o número de vecinos más próximos: seleccionamos un rango entre 1 y 30.\n",
        "- *weights* o pesos: si seleccionamos *uniform*, a todos los puntos se les ponderará de igual forma. En cambio, si elegimos *distance*, los puntos más próximos serán más relevantes.\n",
        "- leaf_size: seleccionamos valores entre 1 y 50.\n",
        "\n",
        "Además, en la búsqueda vamos a seleccionar `cv=3`, lo cual indica que se va a utilizar el método de *cross validation*, con el objetivo de subdividir el conjunto de entrenamiento en varios *subsets* y conseguir una muestra más representativa de la población. En este caso se ha optado por 3."
      ]
    },
    {
      "cell_type": "code",
      "metadata": {
        "colab": {
          "base_uri": "https://localhost:8080/"
        },
        "id": "GK_TCL72qezk",
        "outputId": "bb01992f-5be7-441d-956a-ca377bfb0a6f"
      },
      "source": [
        "from sklearn.model_selection import GridSearchCV\n",
        "from sklearn.model_selection import cross_val_score\n",
        "from sklearn.neighbors import KNeighborsClassifier\n",
        "\n",
        "#Generate possible values of the exploration Grid\n",
        "k = range(1, 30)\n",
        "weight_options = ['uniform', 'distance']\n",
        "leaf_size = range(1, 50, 10)\n",
        "\n",
        "#Infer all the exploratory surface into parameters struct\n",
        "parameters = dict(n_neighbors=k, weights=weight_options, leaf_size=leaf_size)\n",
        "\n",
        "#Create Learner Factory\n",
        "knearest=KNeighborsClassifier()\n",
        "\n",
        "#Instantiate a GridSearch with the a) Learner Factory b) Exploratory parameters c) CrossValidation param\n",
        "modelo_knn = GridSearchCV(knearest,parameters,cv=3,scoring='accuracy',return_train_score=True)\n",
        "\n",
        "#Perform exploratory grid search over TrainingData\n",
        "modelo_knn.fit(X_train, y_train)"
      ],
      "execution_count": null,
      "outputs": [
        {
          "output_type": "execute_result",
          "data": {
            "text/plain": [
              "GridSearchCV(cv=3, error_score=nan,\n",
              "             estimator=KNeighborsClassifier(algorithm='auto', leaf_size=30,\n",
              "                                            metric='minkowski',\n",
              "                                            metric_params=None, n_jobs=None,\n",
              "                                            n_neighbors=5, p=2,\n",
              "                                            weights='uniform'),\n",
              "             iid='deprecated', n_jobs=None,\n",
              "             param_grid={'leaf_size': range(1, 50, 10),\n",
              "                         'n_neighbors': range(1, 30),\n",
              "                         'weights': ['uniform', 'distance']},\n",
              "             pre_dispatch='2*n_jobs', refit=True, return_train_score=True,\n",
              "             scoring='accuracy', verbose=0)"
            ]
          },
          "metadata": {},
          "execution_count": 13
        }
      ]
    },
    {
      "cell_type": "markdown",
      "metadata": {
        "id": "ayRpDgEVIpQH"
      },
      "source": [
        "Procedemos a mostrar por pantalla los resultados:"
      ]
    },
    {
      "cell_type": "code",
      "metadata": {
        "colab": {
          "base_uri": "https://localhost:8080/"
        },
        "id": "icvPlhKQq2jZ",
        "outputId": "641ebd8f-ba49-4f04-b526-89ecb43f048b"
      },
      "source": [
        "print(modelo_knn.best_score_)\n",
        "print(modelo_knn.best_params_)\n",
        "print(modelo_knn.best_estimator_)"
      ],
      "execution_count": null,
      "outputs": [
        {
          "output_type": "stream",
          "name": "stdout",
          "text": [
            "0.9568545581071678\n",
            "{'leaf_size': 1, 'n_neighbors': 1, 'weights': 'uniform'}\n",
            "KNeighborsClassifier(algorithm='auto', leaf_size=1, metric='minkowski',\n",
            "                     metric_params=None, n_jobs=None, n_neighbors=1, p=2,\n",
            "                     weights='uniform')\n"
          ]
        }
      ]
    },
    {
      "cell_type": "markdown",
      "metadata": {
        "id": "M739NEaIq2ja"
      },
      "source": [
        "Vemos que el mejor modelo es el que tiene los parámetros `'leaf_size': 1`, ` 'n_neighbors': 1` y `'weights': 'uniform'`, con una precisión de aproximadamente el 95.7%.\n",
        "\n",
        "Además, por si queremos profundizar en los resultados, reunimos los más relevantes en un *dataframe*:"
      ]
    },
    {
      "cell_type": "code",
      "metadata": {
        "colab": {
          "base_uri": "https://localhost:8080/",
          "height": 422
        },
        "id": "sV_ogLLoq2ja",
        "outputId": "1bd5884d-60f1-48cd-f93e-f8024bce0e2b"
      },
      "source": [
        "results_knn=pd.DataFrame(modelo_knn.cv_results_)\n",
        "results_knn[['param_n_neighbors','param_leaf_size', 'param_weights', 'mean_test_score', 'mean_fit_time']].sort_values(by=['mean_test_score'], ascending=False)"
      ],
      "execution_count": null,
      "outputs": [
        {
          "output_type": "execute_result",
          "data": {
            "text/html": [
              "<div>\n",
              "<style scoped>\n",
              "    .dataframe tbody tr th:only-of-type {\n",
              "        vertical-align: middle;\n",
              "    }\n",
              "\n",
              "    .dataframe tbody tr th {\n",
              "        vertical-align: top;\n",
              "    }\n",
              "\n",
              "    .dataframe thead th {\n",
              "        text-align: right;\n",
              "    }\n",
              "</style>\n",
              "<table border=\"1\" class=\"dataframe\">\n",
              "  <thead>\n",
              "    <tr style=\"text-align: right;\">\n",
              "      <th></th>\n",
              "      <th>param_n_neighbors</th>\n",
              "      <th>param_leaf_size</th>\n",
              "      <th>param_weights</th>\n",
              "      <th>mean_test_score</th>\n",
              "      <th>mean_fit_time</th>\n",
              "    </tr>\n",
              "  </thead>\n",
              "  <tbody>\n",
              "    <tr>\n",
              "      <th>0</th>\n",
              "      <td>1</td>\n",
              "      <td>1</td>\n",
              "      <td>uniform</td>\n",
              "      <td>0.956855</td>\n",
              "      <td>0.010555</td>\n",
              "    </tr>\n",
              "    <tr>\n",
              "      <th>235</th>\n",
              "      <td>2</td>\n",
              "      <td>41</td>\n",
              "      <td>distance</td>\n",
              "      <td>0.956855</td>\n",
              "      <td>0.004248</td>\n",
              "    </tr>\n",
              "    <tr>\n",
              "      <th>119</th>\n",
              "      <td>2</td>\n",
              "      <td>21</td>\n",
              "      <td>distance</td>\n",
              "      <td>0.956855</td>\n",
              "      <td>0.005443</td>\n",
              "    </tr>\n",
              "    <tr>\n",
              "      <th>1</th>\n",
              "      <td>1</td>\n",
              "      <td>1</td>\n",
              "      <td>distance</td>\n",
              "      <td>0.956855</td>\n",
              "      <td>0.009383</td>\n",
              "    </tr>\n",
              "    <tr>\n",
              "      <th>174</th>\n",
              "      <td>1</td>\n",
              "      <td>31</td>\n",
              "      <td>uniform</td>\n",
              "      <td>0.956855</td>\n",
              "      <td>0.004316</td>\n",
              "    </tr>\n",
              "    <tr>\n",
              "      <th>...</th>\n",
              "      <td>...</td>\n",
              "      <td>...</td>\n",
              "      <td>...</td>\n",
              "      <td>...</td>\n",
              "      <td>...</td>\n",
              "    </tr>\n",
              "    <tr>\n",
              "      <th>114</th>\n",
              "      <td>29</td>\n",
              "      <td>11</td>\n",
              "      <td>uniform</td>\n",
              "      <td>0.919276</td>\n",
              "      <td>0.005852</td>\n",
              "    </tr>\n",
              "    <tr>\n",
              "      <th>56</th>\n",
              "      <td>29</td>\n",
              "      <td>1</td>\n",
              "      <td>uniform</td>\n",
              "      <td>0.919276</td>\n",
              "      <td>0.009554</td>\n",
              "    </tr>\n",
              "    <tr>\n",
              "      <th>172</th>\n",
              "      <td>29</td>\n",
              "      <td>21</td>\n",
              "      <td>uniform</td>\n",
              "      <td>0.919276</td>\n",
              "      <td>0.005196</td>\n",
              "    </tr>\n",
              "    <tr>\n",
              "      <th>230</th>\n",
              "      <td>29</td>\n",
              "      <td>31</td>\n",
              "      <td>uniform</td>\n",
              "      <td>0.919276</td>\n",
              "      <td>0.004336</td>\n",
              "    </tr>\n",
              "    <tr>\n",
              "      <th>288</th>\n",
              "      <td>29</td>\n",
              "      <td>41</td>\n",
              "      <td>uniform</td>\n",
              "      <td>0.919276</td>\n",
              "      <td>0.004263</td>\n",
              "    </tr>\n",
              "  </tbody>\n",
              "</table>\n",
              "<p>290 rows × 5 columns</p>\n",
              "</div>"
            ],
            "text/plain": [
              "    param_n_neighbors param_leaf_size  ... mean_test_score  mean_fit_time\n",
              "0                   1               1  ...        0.956855       0.010555\n",
              "235                 2              41  ...        0.956855       0.004248\n",
              "119                 2              21  ...        0.956855       0.005443\n",
              "1                   1               1  ...        0.956855       0.009383\n",
              "174                 1              31  ...        0.956855       0.004316\n",
              "..                ...             ...  ...             ...            ...\n",
              "114                29              11  ...        0.919276       0.005852\n",
              "56                 29               1  ...        0.919276       0.009554\n",
              "172                29              21  ...        0.919276       0.005196\n",
              "230                29              31  ...        0.919276       0.004336\n",
              "288                29              41  ...        0.919276       0.004263\n",
              "\n",
              "[290 rows x 5 columns]"
            ]
          },
          "metadata": {},
          "execution_count": 21
        }
      ]
    },
    {
      "cell_type": "markdown",
      "metadata": {
        "id": "HqpWGFfdq2ja"
      },
      "source": [
        "De esta forma vemos que, por ejemplo, el mejor resultado ha tenido un tiempo de ejecución de 0.01 segundos. Además, hay otras opciones con la misma *accuracy*, todas ellas con un bajo número de vecinos más cercanos. Otros datos relevantes son:"
      ]
    },
    {
      "cell_type": "code",
      "metadata": {
        "colab": {
          "base_uri": "https://localhost:8080/",
          "height": 222
        },
        "id": "Pgz9JwBpKPFh",
        "outputId": "9f5447b8-92cb-48c1-88a4-cb273ebe3130"
      },
      "source": [
        "print(\"Los modelos más imprecisos son:\")\n",
        "results_knn[results_knn.mean_test_score == results_knn.mean_test_score.min()][['param_n_neighbors','param_leaf_size', 'param_weights', 'mean_test_score', 'mean_fit_time']]"
      ],
      "execution_count": null,
      "outputs": [
        {
          "output_type": "stream",
          "name": "stdout",
          "text": [
            "Los modelos más imprecisos son:\n"
          ]
        },
        {
          "output_type": "execute_result",
          "data": {
            "text/html": [
              "<div>\n",
              "<style scoped>\n",
              "    .dataframe tbody tr th:only-of-type {\n",
              "        vertical-align: middle;\n",
              "    }\n",
              "\n",
              "    .dataframe tbody tr th {\n",
              "        vertical-align: top;\n",
              "    }\n",
              "\n",
              "    .dataframe thead th {\n",
              "        text-align: right;\n",
              "    }\n",
              "</style>\n",
              "<table border=\"1\" class=\"dataframe\">\n",
              "  <thead>\n",
              "    <tr style=\"text-align: right;\">\n",
              "      <th></th>\n",
              "      <th>param_n_neighbors</th>\n",
              "      <th>param_leaf_size</th>\n",
              "      <th>param_weights</th>\n",
              "      <th>mean_test_score</th>\n",
              "      <th>mean_fit_time</th>\n",
              "    </tr>\n",
              "  </thead>\n",
              "  <tbody>\n",
              "    <tr>\n",
              "      <th>56</th>\n",
              "      <td>29</td>\n",
              "      <td>1</td>\n",
              "      <td>uniform</td>\n",
              "      <td>0.919276</td>\n",
              "      <td>0.009554</td>\n",
              "    </tr>\n",
              "    <tr>\n",
              "      <th>114</th>\n",
              "      <td>29</td>\n",
              "      <td>11</td>\n",
              "      <td>uniform</td>\n",
              "      <td>0.919276</td>\n",
              "      <td>0.005852</td>\n",
              "    </tr>\n",
              "    <tr>\n",
              "      <th>172</th>\n",
              "      <td>29</td>\n",
              "      <td>21</td>\n",
              "      <td>uniform</td>\n",
              "      <td>0.919276</td>\n",
              "      <td>0.005196</td>\n",
              "    </tr>\n",
              "    <tr>\n",
              "      <th>230</th>\n",
              "      <td>29</td>\n",
              "      <td>31</td>\n",
              "      <td>uniform</td>\n",
              "      <td>0.919276</td>\n",
              "      <td>0.004336</td>\n",
              "    </tr>\n",
              "    <tr>\n",
              "      <th>288</th>\n",
              "      <td>29</td>\n",
              "      <td>41</td>\n",
              "      <td>uniform</td>\n",
              "      <td>0.919276</td>\n",
              "      <td>0.004263</td>\n",
              "    </tr>\n",
              "  </tbody>\n",
              "</table>\n",
              "</div>"
            ],
            "text/plain": [
              "    param_n_neighbors param_leaf_size  ... mean_test_score  mean_fit_time\n",
              "56                 29               1  ...        0.919276       0.009554\n",
              "114                29              11  ...        0.919276       0.005852\n",
              "172                29              21  ...        0.919276       0.005196\n",
              "230                29              31  ...        0.919276       0.004336\n",
              "288                29              41  ...        0.919276       0.004263\n",
              "\n",
              "[5 rows x 5 columns]"
            ]
          },
          "metadata": {},
          "execution_count": 30
        }
      ]
    },
    {
      "cell_type": "code",
      "metadata": {
        "colab": {
          "base_uri": "https://localhost:8080/",
          "height": 97
        },
        "id": "YpLIaOGZLPzj",
        "outputId": "31cd097a-5762-4592-80c5-50a02683c5e3"
      },
      "source": [
        "print(\"El modelo más lento es:\")\n",
        "results_knn[results_knn.mean_fit_time == results_knn.mean_fit_time.max()][['param_n_neighbors','param_leaf_size', 'param_weights', 'mean_test_score', 'mean_fit_time']]"
      ],
      "execution_count": null,
      "outputs": [
        {
          "output_type": "stream",
          "name": "stdout",
          "text": [
            "El modelo más lento es:\n"
          ]
        },
        {
          "output_type": "execute_result",
          "data": {
            "text/html": [
              "<div>\n",
              "<style scoped>\n",
              "    .dataframe tbody tr th:only-of-type {\n",
              "        vertical-align: middle;\n",
              "    }\n",
              "\n",
              "    .dataframe tbody tr th {\n",
              "        vertical-align: top;\n",
              "    }\n",
              "\n",
              "    .dataframe thead th {\n",
              "        text-align: right;\n",
              "    }\n",
              "</style>\n",
              "<table border=\"1\" class=\"dataframe\">\n",
              "  <thead>\n",
              "    <tr style=\"text-align: right;\">\n",
              "      <th></th>\n",
              "      <th>param_n_neighbors</th>\n",
              "      <th>param_leaf_size</th>\n",
              "      <th>param_weights</th>\n",
              "      <th>mean_test_score</th>\n",
              "      <th>mean_fit_time</th>\n",
              "    </tr>\n",
              "  </thead>\n",
              "  <tbody>\n",
              "    <tr>\n",
              "      <th>34</th>\n",
              "      <td>18</td>\n",
              "      <td>1</td>\n",
              "      <td>uniform</td>\n",
              "      <td>0.92206</td>\n",
              "      <td>0.010948</td>\n",
              "    </tr>\n",
              "  </tbody>\n",
              "</table>\n",
              "</div>"
            ],
            "text/plain": [
              "   param_n_neighbors param_leaf_size  ... mean_test_score  mean_fit_time\n",
              "34                18               1  ...         0.92206       0.010948\n",
              "\n",
              "[1 rows x 5 columns]"
            ]
          },
          "metadata": {},
          "execution_count": 31
        }
      ]
    },
    {
      "cell_type": "markdown",
      "metadata": {
        "id": "8FSviU3dLcXv"
      },
      "source": [
        "Así, por ejemplo, comprobamos que el modelo más lento ha tardado 10 veces más que el modelo más impreciso, siendo su *accuracy*, no obstante, casi un 5% superior."
      ]
    },
    {
      "cell_type": "markdown",
      "metadata": {
        "id": "6Omy1LyIq2jb"
      },
      "source": [
        "Para ver la evolución de la precisión de manera más intuitiva, creamos la siguiente función, la cual nos va a permitir representar la evolución de la *accuracy* según los parámetros de la implementación:"
      ]
    },
    {
      "cell_type": "code",
      "metadata": {
        "id": "btf2gDuxq2jc"
      },
      "source": [
        "def plot_search_results(grid):\n",
        "    \"\"\"\n",
        "    Params: \n",
        "        grid: A trained GridSearchCV object.\n",
        "    \"\"\"\n",
        "    ## Results from grid search\n",
        "    results = grid.cv_results_\n",
        "    means_test = results['mean_test_score']\n",
        "    stds_test = results['std_test_score']\n",
        "    means_train = results['mean_train_score']\n",
        "    stds_train = results['std_train_score']\n",
        "\n",
        "    ## Getting indexes of values per hyper-parameter\n",
        "    masks=[]\n",
        "    masks_names= list(grid.best_params_.keys())\n",
        "    for p_k, p_v in grid.best_params_.items():\n",
        "        masks.append(list(results['param_'+p_k].data==p_v))\n",
        "\n",
        "    params=grid.param_grid\n",
        "\n",
        "    ## Ploting results\n",
        "    fig, ax = plt.subplots(1,len(params),sharex='none', sharey='all',figsize=(20,5))\n",
        "    fig.suptitle('Score per parameter')\n",
        "    fig.text(0.04, 0.5, 'MEAN SCORE', va='center', rotation='vertical')\n",
        "    pram_preformace_in_best = {}\n",
        "    for i, p in enumerate(masks_names):\n",
        "        m = np.stack(masks[:i] + masks[i+1:])\n",
        "        pram_preformace_in_best\n",
        "        best_parms_mask = m.all(axis=0)\n",
        "        best_index = np.where(best_parms_mask)[0]\n",
        "        x = np.array(params[p])\n",
        "        y_1 = np.array(means_test[best_index])\n",
        "        e_1 = np.array(stds_test[best_index])\n",
        "        y_2 = np.array(means_train[best_index])\n",
        "        e_2 = np.array(stds_train[best_index])\n",
        "        ax[i].errorbar(x, y_1, e_1, linestyle='--', marker='o', label='test')\n",
        "        ax[i].errorbar(x, y_2, e_2, linestyle='-', marker='^',label='train' )\n",
        "        ax[i].set_xlabel(p.upper())\n",
        "\n",
        "    plt.legend()\n",
        "    plt.show()"
      ],
      "execution_count": null,
      "outputs": []
    },
    {
      "cell_type": "markdown",
      "metadata": {
        "id": "pBuSABVydAxy"
      },
      "source": [
        "Las gráficas que se obtienen son las siguientes:"
      ]
    },
    {
      "cell_type": "code",
      "metadata": {
        "colab": {
          "base_uri": "https://localhost:8080/",
          "height": 371
        },
        "id": "QNOO54kkq2jc",
        "outputId": "bfc26a8d-b679-43cb-fec8-dc185001b5e3"
      },
      "source": [
        "plot_search_results(modelo_knn)"
      ],
      "execution_count": null,
      "outputs": [
        {
          "output_type": "display_data",
          "data": {
            "image/png": "[encoded data removed]",
            "text/plain": [
              "<Figure size 1440x360 with 3 Axes>"
            ]
          },
          "metadata": {
            "needs_background": "light"
          }
        }
      ]
    },
    {
      "cell_type": "markdown",
      "metadata": {
        "id": "6djCIsOXq2jc"
      },
      "source": [
        "De esta forma, comprobamos que tanto el parámetro `leaf_size` como el parámetro `weights` son irrelevantes a la hora de escoger el modelo con mayor precisión para este *dataset*, por lo que podemos ignorarlos.\n",
        "\n",
        "Por otra parte, la precisión sobre el subconjunto de entrenamiento es mayor que para el subconjunto *test* durante la *cross validation*. Esto se debe a que el modelo se ajusta muy bien a los datos sobre los que está aprendiendo, pero luego no es capaz de generalizar tan bien con los datos de prueba.\n",
        "\n",
        "Asimismo, se observa que a mayor número de vecinos, la precisión tiende a disminuir tanto para el subconjunto de entrenamiento como para el de *test* durante la *cross validation*, teniendo este último un máximo en *k=1* como ya habíamos obtenido. Este hecho se traduce en la presencia de *underfitting* y se debe a que, cuantos más vecinos se tienen en cuenta para el aprendizaje, más imprecisa se vuelve la distinción entre clases. El **número óptimo es, por tanto, $k=1$**."
      ]
    },
    {
      "cell_type": "markdown",
      "metadata": {
        "id": "QymIXCkWq2jd"
      },
      "source": [
        "Por último, una vez conocido el comportamiento sobre el subconjunto de entrenamiento, procedemos a aplicar el modelo sobre el subconjunto de validación (20% del *dataset* original), valiéndonos de nuevo del método de validación cruzada para hallar tanto las predicciones como las precisiones."
      ]
    },
    {
      "cell_type": "code",
      "metadata": {
        "id": "zL0PNwrsq2jd"
      },
      "source": [
        "from sklearn.model_selection import cross_val_predict, cross_val_score\n",
        "preds_test_knn = cross_val_predict(modelo_knn, X_test,y_test, cv=3, method=\"predict\", n_jobs=-1)\n",
        "score_knn = cross_val_score(modelo_knn, X_test,y_test, cv=3, scoring=\"accuracy\")"
      ],
      "execution_count": null,
      "outputs": []
    },
    {
      "cell_type": "markdown",
      "metadata": {
        "id": "03WqpwbcSeH-"
      },
      "source": [
        "Los tres resultados devueltos por la *cross validation* son:"
      ]
    },
    {
      "cell_type": "code",
      "metadata": {
        "colab": {
          "base_uri": "https://localhost:8080/"
        },
        "id": "5EAoY0aju8Fi",
        "outputId": "c099af51-068a-43c8-a1be-54214e9fe089"
      },
      "source": [
        "score_knn"
      ],
      "execution_count": null,
      "outputs": [
        {
          "output_type": "execute_result",
          "data": {
            "text/plain": [
              "array([0.79166667, 0.80833333, 0.93333333])"
            ]
          },
          "metadata": {},
          "execution_count": 42
        }
      ]
    },
    {
      "cell_type": "markdown",
      "metadata": {
        "id": "FNfFH0K8ShtG"
      },
      "source": [
        "En promedio se tiene una **precisión** sobre el subconjunto de validación de **aproximadamente un 84%.**"
      ]
    },
    {
      "cell_type": "code",
      "metadata": {
        "colab": {
          "base_uri": "https://localhost:8080/"
        },
        "id": "wKDQpcB3q2jd",
        "outputId": "e274ed6c-3a50-409a-edf2-8b72b03e94dd"
      },
      "source": [
        "score_knn.mean()"
      ],
      "execution_count": null,
      "outputs": [
        {
          "output_type": "execute_result",
          "data": {
            "text/plain": [
              "0.8444444444444444"
            ]
          },
          "metadata": {},
          "execution_count": 43
        }
      ]
    },
    {
      "cell_type": "markdown",
      "metadata": {
        "id": "6YzzW8wzsi-T"
      },
      "source": [
        "| *Accuracy* sobre *test*|  Tiempo(s)  |\n",
        "|:----------------------:|:-----------:|\n",
        "|          84.4%         |    0.01     |   \n",
        " "
      ]
    },
    {
      "cell_type": "markdown",
      "metadata": {
        "id": "NpDpb0S8q2je"
      },
      "source": [
        "###Matriz de confusión\n",
        "\n",
        "A continuación, con el objetivo de averiguar qué números se están clasificando mejor y con cuáles tiene más problemas el algoritmo, creamos la matriz de confusión:"
      ]
    },
    {
      "cell_type": "code",
      "metadata": {
        "colab": {
          "base_uri": "https://localhost:8080/",
          "height": 282
        },
        "id": "uoNITw8qq2je",
        "outputId": "81e88863-051e-49a0-8f60-bfb6c4da74d4"
      },
      "source": [
        "from sklearn.metrics import confusion_matrix, classification_report\n",
        "matriz=confusion_matrix(y_test, preds_test_knn)\n",
        "sn.heatmap(pd.DataFrame(matriz), \n",
        "           annot=True,fmt='g'\n",
        "           )"
      ],
      "execution_count": null,
      "outputs": [
        {
          "output_type": "execute_result",
          "data": {
            "text/plain": [
              "<matplotlib.axes._subplots.AxesSubplot at 0x7f1befa0c5d0>"
            ]
          },
          "metadata": {},
          "execution_count": 44
        },
        {
          "output_type": "display_data",
          "data": {
            "image/png": "[encoded data removed]",
            "text/plain": [
              "<Figure size 432x288 with 2 Axes>"
            ]
          },
          "metadata": {
            "needs_background": "light"
          }
        }
      ]
    },
    {
      "cell_type": "markdown",
      "metadata": {
        "id": "LTmavHcgS-Ju"
      },
      "source": [
        "Cada columna de la matriz representa el número de predicciones de cada clase, mientras que las filas representan la clase real. Así, se ve que el dígito 1 se está clasificando mal, pues en un alto número de ocasiones se está confundiendo con un 9. Lo mismo sucede con el número 8, que también se ha confundido en 5 ocasiones con un 1. Además, de todas las veces que el algoritmo ha predicho un 8, una cantidad significativa de ellas en realidad se trataba de un 9.\n",
        "\n",
        "En resumen, **el algoritmo tiene dificultades para distinguir los dígitos 1, 8 y 9 entre sí.** Tiene sentido, pues al poseer las imágenes una resolución tan baja, estos dígitos son los menos legibles.\n",
        "\n",
        "Podemos calcular la *precision* y el *recall* de una de las categorías de la siguiente forma. Si, por ejemplo, nos fijamos en el dígito 1:\n",
        "\n",
        "$$ Precision_1 =  \\frac{TP}{TP+FP} = \\frac{23}{23+1+1+5}=0.767 $$ \n",
        "\n",
        "$$ Recall_1 =  \\frac{TP}{TP+FN}=\\frac{23}{23+1+2+10}=0.638$$ \n",
        "\n",
        "Por tanto, para esta clase se están generando bastantes falsos negativos pues el *recall* es bajo. De manera análoga, se están dando algunos falsos positivos por lo que la *precision* se ve afectada aunque en menor medida.\n",
        "\n"
      ]
    },
    {
      "cell_type": "markdown",
      "metadata": {
        "id": "dQ3Mm-MJq2je"
      },
      "source": [
        "### *Classification report*\n",
        "\n",
        "En esta sección procedemos a aunar todos los resultados de la matriz de confusión para todas las categorías del *dataset* de validación:\n"
      ]
    },
    {
      "cell_type": "code",
      "metadata": {
        "colab": {
          "base_uri": "https://localhost:8080/"
        },
        "id": "osxq-TCOq2je",
        "outputId": "50162327-4e07-4d8f-812f-4ba048f1dae8"
      },
      "source": [
        "print(f\"Informe de Clasificación:\\n\"\n",
        "      f\"{classification_report(y_test, preds_test_knn)}\")"
      ],
      "execution_count": null,
      "outputs": [
        {
          "output_type": "stream",
          "name": "stdout",
          "text": [
            "Informe de Clasificación:\n",
            "              precision    recall  f1-score   support\n",
            "\n",
            "           0       0.97      0.97      0.97        35\n",
            "           1       0.77      0.64      0.70        36\n",
            "           2       1.00      0.94      0.97        35\n",
            "           3       0.91      0.86      0.89        37\n",
            "           4       0.97      0.92      0.94        37\n",
            "           5       0.90      0.95      0.92        37\n",
            "           6       0.92      0.97      0.95        37\n",
            "           7       0.95      0.97      0.96        36\n",
            "           8       0.57      0.39      0.46        33\n",
            "           9       0.54      0.78      0.64        37\n",
            "\n",
            "    accuracy                           0.84       360\n",
            "   macro avg       0.85      0.84      0.84       360\n",
            "weighted avg       0.85      0.84      0.84       360\n",
            "\n"
          ]
        }
      ]
    },
    {
      "cell_type": "markdown",
      "metadata": {
        "id": "rYzypBeeVzWe"
      },
      "source": [
        "Se concluye, por tanto, que **mediante el método KNN se tienen dificultades para clasificar los dígitos 1, 8 y 9**, siendo el 8 el dígito que peor *F1 Score* presenta (46%) debido tanto a un bajo *recall* (muchos falsos negativos) como a una baja *precision* (muchos falsos positivos)."
      ]
    },
    {
      "cell_type": "markdown",
      "metadata": {
        "id": "tm65KVqW481T"
      },
      "source": [
        "| *Accuracy* sobre *test*|  Tiempo(s)  |\n",
        "|:----------------------:|:-----------:|\n",
        "|          84.4%         |    0.01     |   "
      ]
    },
    {
      "cell_type": "markdown",
      "metadata": {
        "id": "tHWPkR7Ws3uy"
      },
      "source": [
        "## Red neuronal\n",
        "\n",
        "Para este segundo método, se propone utilizar como clasificador un perceptrón multicapa con el *learner* `MLPClassifier()`. Los parámetros que vamos a ajustar en esta ocasión con la *Grid Search* son:\n",
        "\n",
        "- *Solver* u optimizador: especifica la forma en la que se alcanza el mínimo de la función de coste. Hay 3 posibilidades: \n",
        "\n",
        " - ‘lbfgs’\n",
        "\n",
        " - ‘sgd’ (*stochastic gradient descent*)\n",
        "\n",
        " - ‘adam’ \n",
        "\n",
        "- *Learning rate*: tasa de aprendizaje de la red neuronal, un valor demasiado bajo puede causar *underfitting* (el algoritmo no se ajusta lo suficiente a los datos) mientras que un valor excesivamente alto puede evitar que converja. Se seleccionan valores en el intervalo (0,1].\n",
        "\n",
        "Además, se define `hidden_layer_sizes=(200,)` (una capa de dimensión 200) y `max_iter=500`, es decir, el número máximo de iteraciones o *epochs*. Con todos estos parámetros, se procede a utilizar de nuevo el método de *cross validation* con `cv=3`.\n"
      ]
    },
    {
      "cell_type": "code",
      "metadata": {
        "colab": {
          "base_uri": "https://localhost:8080/"
        },
        "id": "1OhI-H6gs_HO",
        "outputId": "239fd5b6-51c3-493d-ade9-2f3c79f1f489"
      },
      "source": [
        "from sklearn.neural_network import MLPClassifier\n",
        "#Generate possible values of the exploration Grid\n",
        "learning_rate = np.linspace(0.1,1,10)\n",
        "solver=['lbfgs', 'sgd', 'adam']\n",
        "\n",
        "#Infer all the exploratory surface into parameters struct\n",
        "parameters = dict(learning_rate_init=learning_rate, solver=solver)\n",
        "\n",
        "#Create Learner Factory\n",
        "nn = MLPClassifier(hidden_layer_sizes=(200,), max_iter=500)\n",
        "\n",
        "#Instantiate a GridSearch with the a) Learner Factory b) Exploratory parameters c) CrossValidation param\n",
        "modelo_rn = GridSearchCV(nn,parameters,cv=3,scoring='accuracy',return_train_score=True)\n",
        "\n",
        "#Perform exploratory grid search over TrainingData\n",
        "modelo_rn.fit(X_train, y_train)"
      ],
      "execution_count": null,
      "outputs": [
        {
          "output_type": "execute_result",
          "data": {
            "text/plain": [
              "GridSearchCV(cv=3, error_score=nan,\n",
              "             estimator=MLPClassifier(activation='relu', alpha=0.0001,\n",
              "                                     batch_size='auto', beta_1=0.9,\n",
              "                                     beta_2=0.999, early_stopping=False,\n",
              "                                     epsilon=1e-08, hidden_layer_sizes=(200,),\n",
              "                                     learning_rate='constant',\n",
              "                                     learning_rate_init=0.001, max_fun=15000,\n",
              "                                     max_iter=500, momentum=0.9,\n",
              "                                     n_iter_no_change=10,\n",
              "                                     nesterovs_momentum=True, power_t=0.5,\n",
              "                                     random_state=None, shuffle=True,\n",
              "                                     solver='adam', tol=0.0001,\n",
              "                                     validation_fraction=0.1, verbose=False,\n",
              "                                     warm_start=False),\n",
              "             iid='deprecated', n_jobs=None,\n",
              "             param_grid={'learning_rate_init': array([0.1, 0.2, 0.3, 0.4, 0.5, 0.6, 0.7, 0.8, 0.9, 1. ]),\n",
              "                         'solver': ['lbfgs', 'sgd', 'adam']},\n",
              "             pre_dispatch='2*n_jobs', refit=True, return_train_score=True,\n",
              "             scoring='accuracy', verbose=0)"
            ]
          },
          "metadata": {},
          "execution_count": 60
        }
      ]
    },
    {
      "cell_type": "markdown",
      "metadata": {
        "id": "IBVNbSqybCw2"
      },
      "source": [
        "A continuación se muestran los valores más óptimos devueltos por la *Grid Search*:"
      ]
    },
    {
      "cell_type": "code",
      "metadata": {
        "colab": {
          "base_uri": "https://localhost:8080/"
        },
        "id": "7zjcL3qUs_HP",
        "outputId": "4b36f800-d211-4de1-cfe6-d44ef5c02fbc"
      },
      "source": [
        "print(modelo_rn.best_score_)\n",
        "print(modelo_rn.best_params_)\n",
        "print(modelo_rn.best_estimator_)"
      ],
      "execution_count": null,
      "outputs": [
        {
          "output_type": "stream",
          "name": "stdout",
          "text": [
            "0.9505915100904664\n",
            "{'learning_rate_init': 0.7000000000000001, 'solver': 'sgd'}\n",
            "MLPClassifier(activation='relu', alpha=0.0001, batch_size='auto', beta_1=0.9,\n",
            "              beta_2=0.999, early_stopping=False, epsilon=1e-08,\n",
            "              hidden_layer_sizes=(200,), learning_rate='constant',\n",
            "              learning_rate_init=0.7000000000000001, max_fun=15000,\n",
            "              max_iter=500, momentum=0.9, n_iter_no_change=10,\n",
            "              nesterovs_momentum=True, power_t=0.5, random_state=None,\n",
            "              shuffle=True, solver='sgd', tol=0.0001, validation_fraction=0.1,\n",
            "              verbose=False, warm_start=False)\n"
          ]
        }
      ]
    },
    {
      "cell_type": "markdown",
      "metadata": {
        "id": "HJJooNx1b1uN"
      },
      "source": [
        "Así, el mejor ***learning rate* es 0.7** mientras que el mejor *solver* u optimizador es el ***sdg*** o *Stochastic Gradient Descent*. Almacenamos los detalles en el *dataframe* a continuación:"
      ]
    },
    {
      "cell_type": "code",
      "metadata": {
        "colab": {
          "base_uri": "https://localhost:8080/",
          "height": 987
        },
        "id": "sx94aDDQs_HP",
        "outputId": "a710b75d-428c-4e82-d11d-d9397a12a38c"
      },
      "source": [
        "results_rn=pd.DataFrame(modelo_rn.cv_results_)\n",
        "results_rn[['param_learning_rate_init','param_solver',  'mean_test_score', 'mean_fit_time']].sort_values(by=['mean_test_score'], ascending=False)"
      ],
      "execution_count": null,
      "outputs": [
        {
          "output_type": "execute_result",
          "data": {
            "text/html": [
              "<div>\n",
              "<style scoped>\n",
              "    .dataframe tbody tr th:only-of-type {\n",
              "        vertical-align: middle;\n",
              "    }\n",
              "\n",
              "    .dataframe tbody tr th {\n",
              "        vertical-align: top;\n",
              "    }\n",
              "\n",
              "    .dataframe thead th {\n",
              "        text-align: right;\n",
              "    }\n",
              "</style>\n",
              "<table border=\"1\" class=\"dataframe\">\n",
              "  <thead>\n",
              "    <tr style=\"text-align: right;\">\n",
              "      <th></th>\n",
              "      <th>param_learning_rate_init</th>\n",
              "      <th>param_solver</th>\n",
              "      <th>mean_test_score</th>\n",
              "      <th>mean_fit_time</th>\n",
              "    </tr>\n",
              "  </thead>\n",
              "  <tbody>\n",
              "    <tr>\n",
              "      <th>19</th>\n",
              "      <td>0.7</td>\n",
              "      <td>sgd</td>\n",
              "      <td>0.950592</td>\n",
              "      <td>0.566488</td>\n",
              "    </tr>\n",
              "    <tr>\n",
              "      <th>13</th>\n",
              "      <td>0.5</td>\n",
              "      <td>sgd</td>\n",
              "      <td>0.949896</td>\n",
              "      <td>0.765982</td>\n",
              "    </tr>\n",
              "    <tr>\n",
              "      <th>16</th>\n",
              "      <td>0.6</td>\n",
              "      <td>sgd</td>\n",
              "      <td>0.948504</td>\n",
              "      <td>0.590032</td>\n",
              "    </tr>\n",
              "    <tr>\n",
              "      <th>2</th>\n",
              "      <td>0.1</td>\n",
              "      <td>adam</td>\n",
              "      <td>0.947808</td>\n",
              "      <td>0.668995</td>\n",
              "    </tr>\n",
              "    <tr>\n",
              "      <th>4</th>\n",
              "      <td>0.2</td>\n",
              "      <td>sgd</td>\n",
              "      <td>0.947112</td>\n",
              "      <td>1.489808</td>\n",
              "    </tr>\n",
              "    <tr>\n",
              "      <th>7</th>\n",
              "      <td>0.3</td>\n",
              "      <td>sgd</td>\n",
              "      <td>0.947112</td>\n",
              "      <td>1.147975</td>\n",
              "    </tr>\n",
              "    <tr>\n",
              "      <th>10</th>\n",
              "      <td>0.4</td>\n",
              "      <td>sgd</td>\n",
              "      <td>0.945720</td>\n",
              "      <td>0.902235</td>\n",
              "    </tr>\n",
              "    <tr>\n",
              "      <th>1</th>\n",
              "      <td>0.1</td>\n",
              "      <td>sgd</td>\n",
              "      <td>0.945720</td>\n",
              "      <td>2.221762</td>\n",
              "    </tr>\n",
              "    <tr>\n",
              "      <th>0</th>\n",
              "      <td>0.1</td>\n",
              "      <td>lbfgs</td>\n",
              "      <td>0.940153</td>\n",
              "      <td>0.638219</td>\n",
              "    </tr>\n",
              "    <tr>\n",
              "      <th>15</th>\n",
              "      <td>0.6</td>\n",
              "      <td>lbfgs</td>\n",
              "      <td>0.939457</td>\n",
              "      <td>0.653895</td>\n",
              "    </tr>\n",
              "    <tr>\n",
              "      <th>22</th>\n",
              "      <td>0.8</td>\n",
              "      <td>sgd</td>\n",
              "      <td>0.938761</td>\n",
              "      <td>0.571025</td>\n",
              "    </tr>\n",
              "    <tr>\n",
              "      <th>21</th>\n",
              "      <td>0.8</td>\n",
              "      <td>lbfgs</td>\n",
              "      <td>0.936674</td>\n",
              "      <td>0.635734</td>\n",
              "    </tr>\n",
              "    <tr>\n",
              "      <th>12</th>\n",
              "      <td>0.5</td>\n",
              "      <td>lbfgs</td>\n",
              "      <td>0.935282</td>\n",
              "      <td>0.642494</td>\n",
              "    </tr>\n",
              "    <tr>\n",
              "      <th>3</th>\n",
              "      <td>0.2</td>\n",
              "      <td>lbfgs</td>\n",
              "      <td>0.935282</td>\n",
              "      <td>0.581002</td>\n",
              "    </tr>\n",
              "    <tr>\n",
              "      <th>24</th>\n",
              "      <td>0.9</td>\n",
              "      <td>lbfgs</td>\n",
              "      <td>0.934586</td>\n",
              "      <td>0.566762</td>\n",
              "    </tr>\n",
              "    <tr>\n",
              "      <th>6</th>\n",
              "      <td>0.3</td>\n",
              "      <td>lbfgs</td>\n",
              "      <td>0.934586</td>\n",
              "      <td>0.552206</td>\n",
              "    </tr>\n",
              "    <tr>\n",
              "      <th>27</th>\n",
              "      <td>1</td>\n",
              "      <td>lbfgs</td>\n",
              "      <td>0.931106</td>\n",
              "      <td>0.667708</td>\n",
              "    </tr>\n",
              "    <tr>\n",
              "      <th>18</th>\n",
              "      <td>0.7</td>\n",
              "      <td>lbfgs</td>\n",
              "      <td>0.929019</td>\n",
              "      <td>0.596175</td>\n",
              "    </tr>\n",
              "    <tr>\n",
              "      <th>9</th>\n",
              "      <td>0.4</td>\n",
              "      <td>lbfgs</td>\n",
              "      <td>0.927627</td>\n",
              "      <td>0.554869</td>\n",
              "    </tr>\n",
              "    <tr>\n",
              "      <th>5</th>\n",
              "      <td>0.2</td>\n",
              "      <td>adam</td>\n",
              "      <td>0.924148</td>\n",
              "      <td>1.011737</td>\n",
              "    </tr>\n",
              "    <tr>\n",
              "      <th>25</th>\n",
              "      <td>0.9</td>\n",
              "      <td>sgd</td>\n",
              "      <td>0.906054</td>\n",
              "      <td>1.542228</td>\n",
              "    </tr>\n",
              "    <tr>\n",
              "      <th>8</th>\n",
              "      <td>0.3</td>\n",
              "      <td>adam</td>\n",
              "      <td>0.807933</td>\n",
              "      <td>1.580407</td>\n",
              "    </tr>\n",
              "    <tr>\n",
              "      <th>28</th>\n",
              "      <td>1</td>\n",
              "      <td>sgd</td>\n",
              "      <td>0.695894</td>\n",
              "      <td>0.643692</td>\n",
              "    </tr>\n",
              "    <tr>\n",
              "      <th>11</th>\n",
              "      <td>0.4</td>\n",
              "      <td>adam</td>\n",
              "      <td>0.541406</td>\n",
              "      <td>1.187969</td>\n",
              "    </tr>\n",
              "    <tr>\n",
              "      <th>14</th>\n",
              "      <td>0.5</td>\n",
              "      <td>adam</td>\n",
              "      <td>0.503132</td>\n",
              "      <td>0.811571</td>\n",
              "    </tr>\n",
              "    <tr>\n",
              "      <th>17</th>\n",
              "      <td>0.6</td>\n",
              "      <td>adam</td>\n",
              "      <td>0.402227</td>\n",
              "      <td>1.003832</td>\n",
              "    </tr>\n",
              "    <tr>\n",
              "      <th>23</th>\n",
              "      <td>0.8</td>\n",
              "      <td>adam</td>\n",
              "      <td>0.273486</td>\n",
              "      <td>0.621176</td>\n",
              "    </tr>\n",
              "    <tr>\n",
              "      <th>20</th>\n",
              "      <td>0.7</td>\n",
              "      <td>adam</td>\n",
              "      <td>0.247042</td>\n",
              "      <td>0.942470</td>\n",
              "    </tr>\n",
              "    <tr>\n",
              "      <th>26</th>\n",
              "      <td>0.9</td>\n",
              "      <td>adam</td>\n",
              "      <td>0.217119</td>\n",
              "      <td>0.745529</td>\n",
              "    </tr>\n",
              "    <tr>\n",
              "      <th>29</th>\n",
              "      <td>1</td>\n",
              "      <td>adam</td>\n",
              "      <td>0.157968</td>\n",
              "      <td>0.687650</td>\n",
              "    </tr>\n",
              "  </tbody>\n",
              "</table>\n",
              "</div>"
            ],
            "text/plain": [
              "   param_learning_rate_init param_solver  mean_test_score  mean_fit_time\n",
              "19                      0.7          sgd         0.950592       0.566488\n",
              "13                      0.5          sgd         0.949896       0.765982\n",
              "16                      0.6          sgd         0.948504       0.590032\n",
              "2                       0.1         adam         0.947808       0.668995\n",
              "4                       0.2          sgd         0.947112       1.489808\n",
              "7                       0.3          sgd         0.947112       1.147975\n",
              "10                      0.4          sgd         0.945720       0.902235\n",
              "1                       0.1          sgd         0.945720       2.221762\n",
              "0                       0.1        lbfgs         0.940153       0.638219\n",
              "15                      0.6        lbfgs         0.939457       0.653895\n",
              "22                      0.8          sgd         0.938761       0.571025\n",
              "21                      0.8        lbfgs         0.936674       0.635734\n",
              "12                      0.5        lbfgs         0.935282       0.642494\n",
              "3                       0.2        lbfgs         0.935282       0.581002\n",
              "24                      0.9        lbfgs         0.934586       0.566762\n",
              "6                       0.3        lbfgs         0.934586       0.552206\n",
              "27                        1        lbfgs         0.931106       0.667708\n",
              "18                      0.7        lbfgs         0.929019       0.596175\n",
              "9                       0.4        lbfgs         0.927627       0.554869\n",
              "5                       0.2         adam         0.924148       1.011737\n",
              "25                      0.9          sgd         0.906054       1.542228\n",
              "8                       0.3         adam         0.807933       1.580407\n",
              "28                        1          sgd         0.695894       0.643692\n",
              "11                      0.4         adam         0.541406       1.187969\n",
              "14                      0.5         adam         0.503132       0.811571\n",
              "17                      0.6         adam         0.402227       1.003832\n",
              "23                      0.8         adam         0.273486       0.621176\n",
              "20                      0.7         adam         0.247042       0.942470\n",
              "26                      0.9         adam         0.217119       0.745529\n",
              "29                        1         adam         0.157968       0.687650"
            ]
          },
          "metadata": {},
          "execution_count": 66
        }
      ]
    },
    {
      "cell_type": "markdown",
      "metadata": {
        "id": "HNAfFrcjcEqY"
      },
      "source": [
        "Comprobamos así que el mejor método tarda 0.57 segundos en ejecutarse, mucho más que en el caso del clasificador KNN con una *accuracy* similar del 95%.\n",
        "\n",
        "Procedemos a representar la precisión en función de los parámetros de la búsqueda:"
      ]
    },
    {
      "cell_type": "code",
      "metadata": {
        "colab": {
          "base_uri": "https://localhost:8080/",
          "height": 371
        },
        "id": "PRZlB3cGs_HQ",
        "outputId": "fc88788f-f817-4cc1-d205-600829ce0bf1"
      },
      "source": [
        "plot_search_results(modelo_rn)"
      ],
      "execution_count": null,
      "outputs": [
        {
          "output_type": "display_data",
          "data": {
            "image/png": "[encoded data removed]",
            "text/plain": [
              "<Figure size 1440x360 with 2 Axes>"
            ]
          },
          "metadata": {
            "needs_background": "light"
          }
        }
      ]
    },
    {
      "cell_type": "markdown",
      "metadata": {
        "id": "p_GL01n4coTm"
      },
      "source": [
        "Vemos que la precisión se mantiene más o menos constante hasta un *learning* *rate* de aproximadamente 0.8. A partir de ahí, tanto la precisión sobre el subconjunto de entrenamiento como sobre el subconjunto de *test* de la validación cruzada disminuyen considerablemente. Es decir, estamos ante la presencia de *underfitting*. Esto probablemente se deba a que, para tasas de aprendizaje tan altas, el descenso del gradiente no es capaz de encontrar un mínimo y oscila demasiado.\n",
        "\n",
        "Si nos fijamos ahora en el optimizador, vemos que tanto *lbgfs* como *sgd* funcionan bastante bien, siendo la precisión de este último ligeramente superior sobre el subconjunto de prueba. El optimizador *adam*, que es el que se utiliza por defecto, en este caso no es una buena elección y se descarta.\n",
        "\n",
        "Por último, aplicamos la red entrenada sobre el subconjunto de validación inicial para ver cómo se comporta sobre nuevos *datasets*:"
      ]
    },
    {
      "cell_type": "code",
      "metadata": {
        "id": "KbV3MWEVs_HQ"
      },
      "source": [
        "preds_test_rn = cross_val_predict(modelo_rn, X_test,y_test, cv=3, method=\"predict\", n_jobs=-1)\n",
        "score_rn = cross_val_score(modelo_rn, X_test,y_test, cv=3, scoring=\"accuracy\")"
      ],
      "execution_count": null,
      "outputs": []
    },
    {
      "cell_type": "code",
      "metadata": {
        "colab": {
          "base_uri": "https://localhost:8080/"
        },
        "id": "NtsGyD__s_HQ",
        "outputId": "8eed8b55-c615-499a-f539-724a614dc9b2"
      },
      "source": [
        "score_rn"
      ],
      "execution_count": null,
      "outputs": [
        {
          "output_type": "execute_result",
          "data": {
            "text/plain": [
              "array([0.73333333, 0.825     , 0.88333333])"
            ]
          },
          "metadata": {},
          "execution_count": 65
        }
      ]
    },
    {
      "cell_type": "markdown",
      "metadata": {
        "id": "B2uWYa1Qdqlb"
      },
      "source": [
        "Se tiene que **el promedio al realizar una validación cruzada es del 81.4%, inferior a la precisión alcanzada por el método KNN**:"
      ]
    },
    {
      "cell_type": "code",
      "metadata": {
        "colab": {
          "base_uri": "https://localhost:8080/"
        },
        "id": "CHzJQaWodmIA",
        "outputId": "462c38a1-12ae-49c7-d4de-21dce6fac30a"
      },
      "source": [
        "score_rn.mean()"
      ],
      "execution_count": null,
      "outputs": [
        {
          "output_type": "execute_result",
          "data": {
            "text/plain": [
              "0.8138888888888888"
            ]
          },
          "metadata": {},
          "execution_count": 74
        }
      ]
    },
    {
      "cell_type": "markdown",
      "metadata": {
        "id": "XV_fDr6vvVY6"
      },
      "source": [
        "###Matriz de confusión\n",
        "\n",
        "A continuación, con el objetivo de averiguar qué números se están clasificando mejor y con cuáles tiene más problemas el algoritmo, generamos la matriz de confusión:"
      ]
    },
    {
      "cell_type": "code",
      "metadata": {
        "colab": {
          "base_uri": "https://localhost:8080/",
          "height": 282
        },
        "id": "-vJaemcRvVir",
        "outputId": "dae7efe0-7811-4d5b-e3fa-1ea85913ce6f"
      },
      "source": [
        "matriz=confusion_matrix(y_test, preds_test_rn)\n",
        "sn.heatmap(pd.DataFrame(matriz), \n",
        "           annot=True,fmt='g'\n",
        "           )"
      ],
      "execution_count": null,
      "outputs": [
        {
          "output_type": "execute_result",
          "data": {
            "text/plain": [
              "<matplotlib.axes._subplots.AxesSubplot at 0x7f1be4287a90>"
            ]
          },
          "metadata": {},
          "execution_count": 75
        },
        {
          "output_type": "display_data",
          "data": {
            "image/png": "[encoded data removed]",
            "text/plain": [
              "<Figure size 432x288 with 2 Axes>"
            ]
          },
          "metadata": {
            "needs_background": "light"
          }
        }
      ]
    },
    {
      "cell_type": "markdown",
      "metadata": {
        "id": "bacFLcXT6gRz"
      },
      "source": [
        "A primera vista, se observa que, de manera similar a lo ocurrido con la modelización anterior, de nuevo los dígitos más problemáticos son **el 1** (con 16 falsos negativos), **el 8** (con 18 falsos negativos y 14 falsos positivos) **y el 9** (con 24 falsos positivos). Se concluye así que este modelo, al igual que el KNN, **tiene dificultades a la hora de distinguir esos tres dígitos** entre sí."
      ]
    },
    {
      "cell_type": "markdown",
      "metadata": {
        "id": "qcYJorkivVir"
      },
      "source": [
        "### *Classification report*\n",
        "\n",
        "En esta sección procedemos a aunar todos los resultados de la matriz de confusión para todas las categorías del *dataset* de validación:"
      ]
    },
    {
      "cell_type": "code",
      "metadata": {
        "colab": {
          "base_uri": "https://localhost:8080/"
        },
        "id": "HeKkKuwLvVir",
        "outputId": "7ccbf3dd-d350-4b42-e904-2bc042440eb8"
      },
      "source": [
        "print(f\"Informe de Clasificación:\\n\"\n",
        "      f\"{classification_report(y_test, preds_test_rn)}\")"
      ],
      "execution_count": null,
      "outputs": [
        {
          "output_type": "stream",
          "name": "stdout",
          "text": [
            "Informe de Clasificación:\n",
            "              precision    recall  f1-score   support\n",
            "\n",
            "           0       0.94      0.97      0.96        35\n",
            "           1       0.74      0.56      0.63        36\n",
            "           2       0.97      0.94      0.96        35\n",
            "           3       0.89      0.84      0.86        37\n",
            "           4       0.86      0.86      0.86        37\n",
            "           5       1.00      0.84      0.91        37\n",
            "           6       0.92      0.97      0.95        37\n",
            "           7       0.82      0.75      0.78        36\n",
            "           8       0.52      0.45      0.48        33\n",
            "           9       0.51      0.81      0.62        37\n",
            "\n",
            "    accuracy                           0.80       360\n",
            "   macro avg       0.82      0.80      0.80       360\n",
            "weighted avg       0.82      0.80      0.80       360\n",
            "\n"
          ]
        }
      ]
    },
    {
      "cell_type": "markdown",
      "metadata": {
        "id": "SJeUThnJ71nN"
      },
      "source": [
        "Otra vez se confirma que el dígito 8 es el que peor está siendo clasificado, pues más de la mitad de las veces se predice como otro número (*recall* del 45%). Además, de todas las veces que se ha predicho 8, solo la mitad de las veces era correcto. Después del 8, los dígitos 1 y 9 son los que peores resultados arrojan, destacando el alto número de falsos negativos del 1 y el alto número de falsos positivos del 9.\n",
        "\n",
        "El resto de dígitos tienen un comportamiento bueno, siendo en su mayoría clasificados correctamente."
      ]
    },
    {
      "cell_type": "markdown",
      "metadata": {
        "id": "kJvLI0IK344m"
      },
      "source": [
        "| *Accuracy* sobre *test*|  Tiempo(s)  |\n",
        "|:----------------------:|:-----------:|\n",
        "|          81.4%         |    0.57     |   "
      ]
    },
    {
      "cell_type": "markdown",
      "metadata": {
        "id": "jT4uxxAPv-Mj"
      },
      "source": [
        "## *AdaBoost*\n",
        "\n",
        "AdaBoost es un algoritmo ensamblado mediante el cual se lanzan varios árboles de decisión en serie tratando de mejorar el ajuste del modelo a los datos de entrenamiento. Así, cada instancia tiene un peso asociado, siendo inicialmente el mismo para todas. Conforme avanza el entrenamiento, los pesos se van modificando de manera que los de las filas mejor estimadas disminuyen y los de las peores predicciones aumentan. A continuación, se vuelve a lanzar un nuevo árbol de decisión. El proceso se repite hasta alcanzar el número máximo de iteraciones.\n",
        "\n",
        "En este caso, los parámetros que vamos a tratar de ajustar mediante la *Grid Search* son los siguientes:\n",
        "\n",
        "- *n_estimators*: número de árboles de decisión que se lanzarán en serie. Seleccionamos los valores 200, 300, 400 y 500.\n",
        "- *Learning rate*: al igual que para la red neuronal, se establece una tasa de aprendizaje que determinará la velocidad con la que se aproximará al mínimo de la función de coste. Se seleccionan valores en el intervalo (0,1].\n",
        "\n",
        "Además, se define el método de validación cruzada con `cv=3`, es decir, con 3 *subsets*.\n"
      ]
    },
    {
      "cell_type": "code",
      "metadata": {
        "colab": {
          "base_uri": "https://localhost:8080/"
        },
        "id": "XeJUiy6zwB90",
        "outputId": "995ff66e-9cef-4cc6-9c2e-b5f70cbc691d"
      },
      "source": [
        "from sklearn.ensemble import AdaBoostClassifier\n",
        "#Generate possible values of the exploration Grid\n",
        "n_estimators=range(200,501,100)\n",
        "learning_rate = np.linspace(0.1,1,10)\n",
        "\n",
        "#Infer all the exploratory surface into parameters struct\n",
        "parameters = dict(n_estimators=n_estimators, learning_rate=learning_rate)\n",
        "\n",
        "#Create Learner Factory\n",
        "ab = AdaBoostClassifier()\n",
        "\n",
        "#Instantiate a GridSearch with the a) Learner Factory b) Exploratory parameters c) CrossValidation param\n",
        "modelo_ab = GridSearchCV(ab,parameters,cv=3,scoring='accuracy',return_train_score=True)\n",
        "\n",
        "#Perform exploratory grid search over TrainingData\n",
        "modelo_ab.fit(X_train, y_train)"
      ],
      "execution_count": null,
      "outputs": [
        {
          "output_type": "execute_result",
          "data": {
            "text/plain": [
              "GridSearchCV(cv=3, estimator=AdaBoostClassifier(),\n",
              "             param_grid={'learning_rate': array([0.1, 0.2, 0.3, 0.4, 0.5, 0.6, 0.7, 0.8, 0.9, 1. ]),\n",
              "                         'n_estimators': range(200, 501, 100)},\n",
              "             return_train_score=True, scoring='accuracy')"
            ]
          },
          "metadata": {},
          "execution_count": 35
        }
      ]
    },
    {
      "cell_type": "markdown",
      "metadata": {
        "id": "OOz1uxpNxPly"
      },
      "source": [
        "Una vez entrenado el modelo, comprobamos que la combinación de parámetros más óptima es:"
      ]
    },
    {
      "cell_type": "code",
      "metadata": {
        "colab": {
          "base_uri": "https://localhost:8080/"
        },
        "id": "ROKHaCW_wB91",
        "outputId": "1c2a95aa-9b6c-4a43-9510-3c030ff315dc"
      },
      "source": [
        "print(modelo_ab.best_score_)\n",
        "print(modelo_ab.best_params_)\n",
        "print(modelo_ab.best_estimator_)"
      ],
      "execution_count": null,
      "outputs": [
        {
          "output_type": "stream",
          "name": "stdout",
          "text": [
            "0.8183716075156576\n",
            "{'learning_rate': 0.5, 'n_estimators': 500}\n",
            "AdaBoostClassifier(learning_rate=0.5, n_estimators=500)\n"
          ]
        }
      ]
    },
    {
      "cell_type": "markdown",
      "metadata": {
        "id": "fi96KO27xeUv"
      },
      "source": [
        "Es decir, el modelo con `learning_rate': 0.5` y `n_estimators: 500` es el que mayor *accuracy* alcanza: **81.8% sobre el subconjunto de entrenamiento.** En comparación con las otras dos modelizaciones propuestas, esta es la que menos precisión alcanza con diferencia, siendo casi un 15% inferior.\n",
        "\n",
        "Si recopilamos los resultados de la *Grid Search* en un *dataframe*:"
      ]
    },
    {
      "cell_type": "code",
      "metadata": {
        "colab": {
          "base_uri": "https://localhost:8080/",
          "height": 1000
        },
        "id": "OChvJzkZwB91",
        "outputId": "522f3142-a659-4553-e2f4-0f4e33f2a27a"
      },
      "source": [
        "results_ab=pd.DataFrame(modelo_ab.cv_results_)\n",
        "results_ab[['param_n_estimators','param_learning_rate','mean_fit_time', 'mean_test_score']].sort_values(by=['mean_test_score'], ascending=False)"
      ],
      "execution_count": null,
      "outputs": [
        {
          "output_type": "execute_result",
          "data": {
            "text/html": [
              "<div>\n",
              "<style scoped>\n",
              "    .dataframe tbody tr th:only-of-type {\n",
              "        vertical-align: middle;\n",
              "    }\n",
              "\n",
              "    .dataframe tbody tr th {\n",
              "        vertical-align: top;\n",
              "    }\n",
              "\n",
              "    .dataframe thead th {\n",
              "        text-align: right;\n",
              "    }\n",
              "</style>\n",
              "<table border=\"1\" class=\"dataframe\">\n",
              "  <thead>\n",
              "    <tr style=\"text-align: right;\">\n",
              "      <th></th>\n",
              "      <th>param_n_estimators</th>\n",
              "      <th>param_learning_rate</th>\n",
              "      <th>mean_fit_time</th>\n",
              "      <th>mean_test_score</th>\n",
              "    </tr>\n",
              "  </thead>\n",
              "  <tbody>\n",
              "    <tr>\n",
              "      <th>19</th>\n",
              "      <td>500</td>\n",
              "      <td>0.5</td>\n",
              "      <td>1.811855</td>\n",
              "      <td>0.818372</td>\n",
              "    </tr>\n",
              "    <tr>\n",
              "      <th>31</th>\n",
              "      <td>500</td>\n",
              "      <td>0.8</td>\n",
              "      <td>1.809209</td>\n",
              "      <td>0.814196</td>\n",
              "    </tr>\n",
              "    <tr>\n",
              "      <th>11</th>\n",
              "      <td>500</td>\n",
              "      <td>0.3</td>\n",
              "      <td>1.790633</td>\n",
              "      <td>0.807237</td>\n",
              "    </tr>\n",
              "    <tr>\n",
              "      <th>18</th>\n",
              "      <td>400</td>\n",
              "      <td>0.5</td>\n",
              "      <td>1.442329</td>\n",
              "      <td>0.806541</td>\n",
              "    </tr>\n",
              "    <tr>\n",
              "      <th>15</th>\n",
              "      <td>500</td>\n",
              "      <td>0.4</td>\n",
              "      <td>1.788003</td>\n",
              "      <td>0.805150</td>\n",
              "    </tr>\n",
              "    <tr>\n",
              "      <th>10</th>\n",
              "      <td>400</td>\n",
              "      <td>0.3</td>\n",
              "      <td>1.426936</td>\n",
              "      <td>0.799582</td>\n",
              "    </tr>\n",
              "    <tr>\n",
              "      <th>14</th>\n",
              "      <td>400</td>\n",
              "      <td>0.4</td>\n",
              "      <td>1.410440</td>\n",
              "      <td>0.798887</td>\n",
              "    </tr>\n",
              "    <tr>\n",
              "      <th>23</th>\n",
              "      <td>500</td>\n",
              "      <td>0.6</td>\n",
              "      <td>1.801394</td>\n",
              "      <td>0.797495</td>\n",
              "    </tr>\n",
              "    <tr>\n",
              "      <th>17</th>\n",
              "      <td>300</td>\n",
              "      <td>0.5</td>\n",
              "      <td>1.062264</td>\n",
              "      <td>0.791232</td>\n",
              "    </tr>\n",
              "    <tr>\n",
              "      <th>13</th>\n",
              "      <td>300</td>\n",
              "      <td>0.4</td>\n",
              "      <td>1.061577</td>\n",
              "      <td>0.789144</td>\n",
              "    </tr>\n",
              "    <tr>\n",
              "      <th>26</th>\n",
              "      <td>400</td>\n",
              "      <td>0.7</td>\n",
              "      <td>1.435472</td>\n",
              "      <td>0.787752</td>\n",
              "    </tr>\n",
              "    <tr>\n",
              "      <th>27</th>\n",
              "      <td>500</td>\n",
              "      <td>0.7</td>\n",
              "      <td>1.801892</td>\n",
              "      <td>0.785665</td>\n",
              "    </tr>\n",
              "    <tr>\n",
              "      <th>22</th>\n",
              "      <td>400</td>\n",
              "      <td>0.6</td>\n",
              "      <td>1.430948</td>\n",
              "      <td>0.782185</td>\n",
              "    </tr>\n",
              "    <tr>\n",
              "      <th>30</th>\n",
              "      <td>400</td>\n",
              "      <td>0.8</td>\n",
              "      <td>1.448075</td>\n",
              "      <td>0.781489</td>\n",
              "    </tr>\n",
              "    <tr>\n",
              "      <th>9</th>\n",
              "      <td>300</td>\n",
              "      <td>0.3</td>\n",
              "      <td>1.077937</td>\n",
              "      <td>0.776618</td>\n",
              "    </tr>\n",
              "    <tr>\n",
              "      <th>7</th>\n",
              "      <td>500</td>\n",
              "      <td>0.2</td>\n",
              "      <td>1.828577</td>\n",
              "      <td>0.768963</td>\n",
              "    </tr>\n",
              "    <tr>\n",
              "      <th>12</th>\n",
              "      <td>200</td>\n",
              "      <td>0.4</td>\n",
              "      <td>0.709599</td>\n",
              "      <td>0.766180</td>\n",
              "    </tr>\n",
              "    <tr>\n",
              "      <th>25</th>\n",
              "      <td>300</td>\n",
              "      <td>0.7</td>\n",
              "      <td>1.086962</td>\n",
              "      <td>0.766180</td>\n",
              "    </tr>\n",
              "    <tr>\n",
              "      <th>29</th>\n",
              "      <td>300</td>\n",
              "      <td>0.8</td>\n",
              "      <td>1.100559</td>\n",
              "      <td>0.759916</td>\n",
              "    </tr>\n",
              "    <tr>\n",
              "      <th>20</th>\n",
              "      <td>200</td>\n",
              "      <td>0.6</td>\n",
              "      <td>0.710379</td>\n",
              "      <td>0.752262</td>\n",
              "    </tr>\n",
              "    <tr>\n",
              "      <th>16</th>\n",
              "      <td>200</td>\n",
              "      <td>0.5</td>\n",
              "      <td>0.719749</td>\n",
              "      <td>0.750870</td>\n",
              "    </tr>\n",
              "    <tr>\n",
              "      <th>21</th>\n",
              "      <td>300</td>\n",
              "      <td>0.6</td>\n",
              "      <td>1.074111</td>\n",
              "      <td>0.748086</td>\n",
              "    </tr>\n",
              "    <tr>\n",
              "      <th>8</th>\n",
              "      <td>200</td>\n",
              "      <td>0.3</td>\n",
              "      <td>0.733349</td>\n",
              "      <td>0.733473</td>\n",
              "    </tr>\n",
              "    <tr>\n",
              "      <th>6</th>\n",
              "      <td>400</td>\n",
              "      <td>0.2</td>\n",
              "      <td>1.455571</td>\n",
              "      <td>0.729297</td>\n",
              "    </tr>\n",
              "    <tr>\n",
              "      <th>28</th>\n",
              "      <td>200</td>\n",
              "      <td>0.8</td>\n",
              "      <td>0.735401</td>\n",
              "      <td>0.723034</td>\n",
              "    </tr>\n",
              "    <tr>\n",
              "      <th>5</th>\n",
              "      <td>300</td>\n",
              "      <td>0.2</td>\n",
              "      <td>1.171476</td>\n",
              "      <td>0.723034</td>\n",
              "    </tr>\n",
              "    <tr>\n",
              "      <th>24</th>\n",
              "      <td>200</td>\n",
              "      <td>0.7</td>\n",
              "      <td>0.726382</td>\n",
              "      <td>0.718163</td>\n",
              "    </tr>\n",
              "    <tr>\n",
              "      <th>3</th>\n",
              "      <td>500</td>\n",
              "      <td>0.1</td>\n",
              "      <td>1.850000</td>\n",
              "      <td>0.713292</td>\n",
              "    </tr>\n",
              "    <tr>\n",
              "      <th>4</th>\n",
              "      <td>200</td>\n",
              "      <td>0.2</td>\n",
              "      <td>0.772376</td>\n",
              "      <td>0.704245</td>\n",
              "    </tr>\n",
              "    <tr>\n",
              "      <th>2</th>\n",
              "      <td>400</td>\n",
              "      <td>0.1</td>\n",
              "      <td>1.444961</td>\n",
              "      <td>0.700765</td>\n",
              "    </tr>\n",
              "    <tr>\n",
              "      <th>1</th>\n",
              "      <td>300</td>\n",
              "      <td>0.1</td>\n",
              "      <td>1.272455</td>\n",
              "      <td>0.690327</td>\n",
              "    </tr>\n",
              "    <tr>\n",
              "      <th>0</th>\n",
              "      <td>200</td>\n",
              "      <td>0.1</td>\n",
              "      <td>0.815701</td>\n",
              "      <td>0.677801</td>\n",
              "    </tr>\n",
              "    <tr>\n",
              "      <th>35</th>\n",
              "      <td>500</td>\n",
              "      <td>0.9</td>\n",
              "      <td>1.753400</td>\n",
              "      <td>0.537926</td>\n",
              "    </tr>\n",
              "    <tr>\n",
              "      <th>34</th>\n",
              "      <td>400</td>\n",
              "      <td>0.9</td>\n",
              "      <td>1.408527</td>\n",
              "      <td>0.536534</td>\n",
              "    </tr>\n",
              "    <tr>\n",
              "      <th>33</th>\n",
              "      <td>300</td>\n",
              "      <td>0.9</td>\n",
              "      <td>1.047396</td>\n",
              "      <td>0.523312</td>\n",
              "    </tr>\n",
              "    <tr>\n",
              "      <th>32</th>\n",
              "      <td>200</td>\n",
              "      <td>0.9</td>\n",
              "      <td>0.729877</td>\n",
              "      <td>0.486430</td>\n",
              "    </tr>\n",
              "    <tr>\n",
              "      <th>36</th>\n",
              "      <td>200</td>\n",
              "      <td>1</td>\n",
              "      <td>0.747570</td>\n",
              "      <td>0.288100</td>\n",
              "    </tr>\n",
              "    <tr>\n",
              "      <th>37</th>\n",
              "      <td>300</td>\n",
              "      <td>1</td>\n",
              "      <td>1.081403</td>\n",
              "      <td>0.288100</td>\n",
              "    </tr>\n",
              "    <tr>\n",
              "      <th>38</th>\n",
              "      <td>400</td>\n",
              "      <td>1</td>\n",
              "      <td>1.452809</td>\n",
              "      <td>0.288100</td>\n",
              "    </tr>\n",
              "    <tr>\n",
              "      <th>39</th>\n",
              "      <td>500</td>\n",
              "      <td>1</td>\n",
              "      <td>1.741549</td>\n",
              "      <td>0.288100</td>\n",
              "    </tr>\n",
              "  </tbody>\n",
              "</table>\n",
              "</div>"
            ],
            "text/plain": [
              "   param_n_estimators param_learning_rate  mean_fit_time  mean_test_score\n",
              "19                500                 0.5       1.811855         0.818372\n",
              "31                500                 0.8       1.809209         0.814196\n",
              "11                500                 0.3       1.790633         0.807237\n",
              "18                400                 0.5       1.442329         0.806541\n",
              "15                500                 0.4       1.788003         0.805150\n",
              "10                400                 0.3       1.426936         0.799582\n",
              "14                400                 0.4       1.410440         0.798887\n",
              "23                500                 0.6       1.801394         0.797495\n",
              "17                300                 0.5       1.062264         0.791232\n",
              "13                300                 0.4       1.061577         0.789144\n",
              "26                400                 0.7       1.435472         0.787752\n",
              "27                500                 0.7       1.801892         0.785665\n",
              "22                400                 0.6       1.430948         0.782185\n",
              "30                400                 0.8       1.448075         0.781489\n",
              "9                 300                 0.3       1.077937         0.776618\n",
              "7                 500                 0.2       1.828577         0.768963\n",
              "12                200                 0.4       0.709599         0.766180\n",
              "25                300                 0.7       1.086962         0.766180\n",
              "29                300                 0.8       1.100559         0.759916\n",
              "20                200                 0.6       0.710379         0.752262\n",
              "16                200                 0.5       0.719749         0.750870\n",
              "21                300                 0.6       1.074111         0.748086\n",
              "8                 200                 0.3       0.733349         0.733473\n",
              "6                 400                 0.2       1.455571         0.729297\n",
              "28                200                 0.8       0.735401         0.723034\n",
              "5                 300                 0.2       1.171476         0.723034\n",
              "24                200                 0.7       0.726382         0.718163\n",
              "3                 500                 0.1       1.850000         0.713292\n",
              "4                 200                 0.2       0.772376         0.704245\n",
              "2                 400                 0.1       1.444961         0.700765\n",
              "1                 300                 0.1       1.272455         0.690327\n",
              "0                 200                 0.1       0.815701         0.677801\n",
              "35                500                 0.9       1.753400         0.537926\n",
              "34                400                 0.9       1.408527         0.536534\n",
              "33                300                 0.9       1.047396         0.523312\n",
              "32                200                 0.9       0.729877         0.486430\n",
              "36                200                   1       0.747570         0.288100\n",
              "37                300                   1       1.081403         0.288100\n",
              "38                400                   1       1.452809         0.288100\n",
              "39                500                   1       1.741549         0.288100"
            ]
          },
          "metadata": {},
          "execution_count": 37
        }
      ]
    },
    {
      "cell_type": "markdown",
      "metadata": {
        "id": "5X12Q9RbxyTa"
      },
      "source": [
        "Comprobamos que el modelo más preciso tarda 1.8 segundos en ajustarse. De hecho, parece que el tiempo de ejecución es directamente proporcional al número de árboles de decisión empleados en el entrenamiento:"
      ]
    },
    {
      "cell_type": "code",
      "metadata": {
        "colab": {
          "base_uri": "https://localhost:8080/"
        },
        "id": "Lv1cM_zVyn8G",
        "outputId": "81535f53-13c0-4d88-dc4c-8fcd4dc25a3b"
      },
      "source": [
        "print(\"200 estimadores:\")\n",
        "results_ab[results_ab.param_n_estimators == 200].mean_fit_time.mean()\n"
      ],
      "execution_count": null,
      "outputs": [
        {
          "output_type": "stream",
          "name": "stdout",
          "text": [
            "200 estimadores:\n"
          ]
        },
        {
          "output_type": "execute_result",
          "data": {
            "text/plain": [
              "0.7400383472442627"
            ]
          },
          "metadata": {},
          "execution_count": 40
        }
      ]
    },
    {
      "cell_type": "code",
      "metadata": {
        "colab": {
          "base_uri": "https://localhost:8080/"
        },
        "id": "qR9JXd7AZlIP",
        "outputId": "ccc2cbc6-fb06-4c24-c186-cb9d78b0dc7a"
      },
      "source": [
        "print(\"400 estimadores:\")\n",
        "results_ab[results_ab.param_n_estimators == 400].mean_fit_time.mean()"
      ],
      "execution_count": null,
      "outputs": [
        {
          "output_type": "stream",
          "name": "stdout",
          "text": [
            "400 estimadores:\n"
          ]
        },
        {
          "output_type": "execute_result",
          "data": {
            "text/plain": [
              "1.4356066942214967"
            ]
          },
          "metadata": {},
          "execution_count": 41
        }
      ]
    },
    {
      "cell_type": "markdown",
      "metadata": {
        "id": "mLqtVzA_y6jb"
      },
      "source": [
        "Efectivamente, los tiempos de ejecución aumentan linealmente conforme aumenta el número de árboles de decisión en serie calculados por el modelo. \n",
        "\n",
        "Además, podemos representar gráficamente la evolución de la precisión en función de la tasa de aprendizaje y el número de árboles de decisión."
      ]
    },
    {
      "cell_type": "code",
      "metadata": {
        "colab": {
          "base_uri": "https://localhost:8080/",
          "height": 371
        },
        "id": "pQOyNXMvwB92",
        "outputId": "f6de08bb-1a6b-4cb1-c405-a8adcd69b4f5"
      },
      "source": [
        "plot_search_results(modelo_ab)"
      ],
      "execution_count": null,
      "outputs": [
        {
          "output_type": "display_data",
          "data": {
            "image/png": "[encoded data removed]",
            "text/plain": [
              "<Figure size 1440x360 with 2 Axes>"
            ]
          },
          "metadata": {
            "needs_background": "light"
          }
        }
      ]
    },
    {
      "cell_type": "markdown",
      "metadata": {
        "id": "65MVal52zDNa"
      },
      "source": [
        "Como cabía esperar, un mayor número de árboles de decisión supone un mejor ajuste. Si no hay suficientes árboles, el modelo no es capaz de alcanzar el mínimo de la función de coste, por lo que existe un *underfitting*, hecho que estamos observando pues no se ha alcanzado todavía un máximo en la precisión.\n",
        "\n",
        "Por otra parte, la tasa de aprendizaje o *learning rate* fluctúa bastante para valores inferiores a 0.8, punto a partir del cual sufre una disminución drástica. Este hecho es probablemente debido a que, al ser la tasa de aprendizaje tan grande, el algoritmo oscila en torno al mínimo de la función de coste sin ser capaz alcanzarlo de manera precisa.\n",
        "\n",
        "Por último, aplicamos el modelo sobre el subconjunto de entrenamiento y calculamos la precisión mediante el método de validación cruzada:"
      ]
    },
    {
      "cell_type": "code",
      "metadata": {
        "id": "lCklHM-OwB92"
      },
      "source": [
        "preds_test_ab = cross_val_predict(modelo_ab, X_test,y_test, cv=3, method=\"predict\", n_jobs=-1)\n",
        "score_ab = cross_val_score(modelo_ab, X_test,y_test, cv=3, scoring=\"accuracy\")"
      ],
      "execution_count": null,
      "outputs": []
    },
    {
      "cell_type": "code",
      "metadata": {
        "colab": {
          "base_uri": "https://localhost:8080/"
        },
        "id": "OC-bsok1wB92",
        "outputId": "7438d4e6-3da1-4136-f01d-175c779e7204"
      },
      "source": [
        "score_ab"
      ],
      "execution_count": null,
      "outputs": [
        {
          "output_type": "execute_result",
          "data": {
            "text/plain": [
              "array([0.68333333, 0.66666667, 0.68333333])"
            ]
          },
          "metadata": {},
          "execution_count": 46
        }
      ]
    },
    {
      "cell_type": "markdown",
      "metadata": {
        "id": "zn1d225X8Xkj"
      },
      "source": [
        "**La precisión promedio del *Ada Boost* sobre el subconjunto de prueba es del 67.8%**."
      ]
    },
    {
      "cell_type": "code",
      "metadata": {
        "colab": {
          "base_uri": "https://localhost:8080/"
        },
        "id": "oTnDEDqkZsj5",
        "outputId": "b1a3f85b-4303-4183-d0de-22560cfaf74f"
      },
      "source": [
        "score_ab.mean()"
      ],
      "execution_count": null,
      "outputs": [
        {
          "output_type": "execute_result",
          "data": {
            "text/plain": [
              "0.6777777777777777"
            ]
          },
          "metadata": {},
          "execution_count": 47
        }
      ]
    },
    {
      "cell_type": "markdown",
      "metadata": {
        "id": "Fon_bbpAwso0"
      },
      "source": [
        "###Matriz de confusión\n",
        "\n",
        "A continuación, con el objetivo de averiguar qué números se están clasificando mejor y con cuáles tiene más problemas el algoritmo, generamos la matriz de confusión:"
      ]
    },
    {
      "cell_type": "code",
      "metadata": {
        "colab": {
          "base_uri": "https://localhost:8080/",
          "height": 282
        },
        "id": "PWFsnKEFwso1",
        "outputId": "f3a39ff2-2898-457f-e625-656c1b58571e"
      },
      "source": [
        "matriz=confusion_matrix(y_test, preds_test_ab)\n",
        "sn.heatmap(pd.DataFrame(matriz), \n",
        "           annot=True,fmt='g'\n",
        "           )"
      ],
      "execution_count": null,
      "outputs": [
        {
          "output_type": "execute_result",
          "data": {
            "text/plain": [
              "<matplotlib.axes._subplots.AxesSubplot at 0x7f236357ca10>"
            ]
          },
          "metadata": {},
          "execution_count": 48
        },
        {
          "output_type": "display_data",
          "data": {
            "image/png": "[encoded data removed]",
            "text/plain": [
              "<Figure size 432x288 with 2 Axes>"
            ]
          },
          "metadata": {
            "needs_background": "light"
          }
        }
      ]
    },
    {
      "cell_type": "markdown",
      "metadata": {
        "id": "vQB_D26O8lZ6"
      },
      "source": [
        "En esta tercera modelización observamos un mayor número de observaciones fuera de la diagonal de la matriz, es decir, **el modelo no es tan buen clasificador como el algoritmo KNN o la red neuronal** propuesta. En concreto, vemos cómo los dígitos 7, 8 y 9 presentan una gran cantidad de falsos positivos. Por su parte, el dígito 1 está siendo clasificado incorrectamente como un 8 o un 9 en la mayoría de casos."
      ]
    },
    {
      "cell_type": "markdown",
      "metadata": {
        "id": "O4k5ceNYwso1"
      },
      "source": [
        "### *Classification report*\n",
        "\n",
        "En esta sección procedemos a aunar todos los resultados de la matriz de confusión para todas las categorías del *dataset* de validación:\n"
      ]
    },
    {
      "cell_type": "code",
      "metadata": {
        "colab": {
          "base_uri": "https://localhost:8080/"
        },
        "id": "7Cqq_9F9wso1",
        "outputId": "32cb97c5-dee3-44f6-f259-d30921ef414c"
      },
      "source": [
        "print(f\"Informe de Clasificación:\\n\"\n",
        "      f\"{classification_report(y_test, preds_test_ab)}\")"
      ],
      "execution_count": null,
      "outputs": [
        {
          "output_type": "stream",
          "name": "stdout",
          "text": [
            "Informe de Clasificación:\n",
            "              precision    recall  f1-score   support\n",
            "\n",
            "           0       1.00      0.86      0.92        35\n",
            "           1       0.52      0.36      0.43        36\n",
            "           2       1.00      0.69      0.81        35\n",
            "           3       0.45      0.70      0.55        37\n",
            "           4       0.95      0.57      0.71        37\n",
            "           5       0.86      0.81      0.83        37\n",
            "           6       0.92      0.89      0.90        37\n",
            "           7       0.57      0.64      0.61        36\n",
            "           8       0.42      0.67      0.51        33\n",
            "           9       0.49      0.49      0.49        37\n",
            "\n",
            "    accuracy                           0.67       360\n",
            "   macro avg       0.72      0.67      0.68       360\n",
            "weighted avg       0.72      0.67      0.68       360\n",
            "\n"
          ]
        }
      ]
    },
    {
      "cell_type": "markdown",
      "metadata": {
        "id": "sLRhd-eN9OMy"
      },
      "source": [
        "En la tabla se ve que los resultados son muy dispares entre dígitos. Por ejemplo, los dígitos 0 y 2 tienen una *precision* del 100%, indicando que ninguna otra categoría está siendo confundida con las suyas. En el otro extremo están los números 3 y 8, con una *precision* inferior al 50%. \n",
        "\n",
        "Cabe destacar, además, que el dígito 1 es el que más problemas presenta a la hora de ser clasificado, puesto que con un *recall* del 36%, prácticamente 2/3 del número total de instancias de esta categoría están siendo incorrectamente clasificadas."
      ]
    },
    {
      "cell_type": "markdown",
      "metadata": {
        "id": "slmJy5VA4GzH"
      },
      "source": [
        "| *Accuracy* sobre *test*|  Tiempo(s)  |\n",
        "|:----------------------:|:-----------:|\n",
        "|          67.8%         |    1.8     |   "
      ]
    },
    {
      "cell_type": "markdown",
      "metadata": {
        "id": "8JXBegg9-mCI"
      },
      "source": [
        "## Comparación entre modelos\n",
        "\n",
        "La siguiente tabla recoge los principales resultados alcanzados:"
      ]
    },
    {
      "cell_type": "markdown",
      "metadata": {
        "id": "MM0KMZHr5D_G"
      },
      "source": [
        "| Algoritmo        | *Accuracy* sobre *test*|  Tiempo(s)  |\n",
        "|------------------|:----------------------:|:-----------:|\n",
        "|  KNN             |          84.4%         |    0.01     | \n",
        "|  Red neuronal    |          81.4%         |    0.57     |   \n",
        "|  *AdaBoost*      |          67.8%         |   1.8     | "
      ]
    },
    {
      "cell_type": "markdown",
      "metadata": {
        "id": "gCUr3NW95p1_"
      },
      "source": [
        "De los tres clasificadores implementados, el método KNN es el que presenta mejores resultados (84% de precisión) en un tiempo de ejecución inferior. Le sigue la red neuronal, con una precisión ligeramente inferior (-3%) y un tiempo de ejecución considerablemente más alto. Por último, el método que peores resultados arroja es el ensamblado *AdaBoost*, con un descenso radical de la precisión de aproximadamente un 15%.\n",
        "\n",
        "Este hecho probablemente se deba a que no hemos seleccionado un número de árboles de decisión lo suficientemente alto para el *AdaBoost*. Además, este algoritmo es más sensible a los conjuntos de datos \"ruidosos\" que el método KNN, por ejemplo.\n",
        "\n",
        "En conclusión, el claro **vencedor** a la hora de modelizar el *set* de datos es el método de **K *nearest neighbors* con *k=1***, pues consigue la mayor precisión con un tiempo de ejecución muchísimo más reducido que la red neuronal."
      ]
    },
    {
      "cell_type": "markdown",
      "metadata": {
        "id": "5j8iSVZEPW_u"
      },
      "source": [
        "#*20 newsgroups text dataset*\n",
        "\n",
        "En esta seguna parte de la tarea, vamos a repetir los mismos pasos sobre un nuevo conjunto de datos, *20newsgroups*, el cual comprende alrededor de 18.000 publicaciones de grupos de noticias sobre 20 temas divididos en dos subconjuntos: *training* y *test*.\n",
        "\n",
        "A continuación se importa el subconjunto de entrenamiento y se muestran las categorías de cada tipo de noticia:\n",
        "\n",
        "\n"
      ]
    },
    {
      "cell_type": "code",
      "metadata": {
        "colab": {
          "base_uri": "https://localhost:8080/"
        },
        "id": "Hi5ZaekSSaSK",
        "outputId": "7c467bf0-f7df-4664-b0ec-5a497512be95"
      },
      "source": [
        "from sklearn.datasets import fetch_20newsgroups\n",
        "newsgroups_train = fetch_20newsgroups(subset='train')\n",
        "\n",
        "from pprint import pprint\n",
        "pprint(list(newsgroups_train.target_names))"
      ],
      "execution_count": null,
      "outputs": [
        {
          "output_type": "stream",
          "name": "stderr",
          "text": [
            "Downloading 20news dataset. This may take a few minutes.\n",
            "Downloading dataset from https://ndownloader.figshare.com/files/5975967 (14 MB)\n"
          ]
        },
        {
          "output_type": "stream",
          "name": "stdout",
          "text": [
            "['alt.atheism',\n",
            " 'comp.graphics',\n",
            " 'comp.os.ms-windows.misc',\n",
            " 'comp.sys.ibm.pc.hardware',\n",
            " 'comp.sys.mac.hardware',\n",
            " 'comp.windows.x',\n",
            " 'misc.forsale',\n",
            " 'rec.autos',\n",
            " 'rec.motorcycles',\n",
            " 'rec.sport.baseball',\n",
            " 'rec.sport.hockey',\n",
            " 'sci.crypt',\n",
            " 'sci.electronics',\n",
            " 'sci.med',\n",
            " 'sci.space',\n",
            " 'soc.religion.christian',\n",
            " 'talk.politics.guns',\n",
            " 'talk.politics.mideast',\n",
            " 'talk.politics.misc',\n",
            " 'talk.religion.misc']\n"
          ]
        }
      ]
    },
    {
      "cell_type": "markdown",
      "metadata": {
        "id": "aatX2yj5lpPD"
      },
      "source": [
        "La correspondencia entre cada categoría y su identificador es:\n",
        "\n",
        "- alt.atheism: 0\n",
        "- comp.graphics: 1\n",
        "- comp.os.ms-windows.misc: 2\n",
        "- comp.sys.ibm.pc.hardware:  \n",
        "- comp.sys.mac.hardware: 4\n",
        "- comp.windows.x: 5\n",
        "- misc.forsale: 6\n",
        "- rec.autos: 7\n",
        "- rec.motorcycles: 8\n",
        "- rec.sport.baseball: 9\n",
        "- rec.sport.hockey: 10\n",
        "- sci.crypt: 11\n",
        "- sci.electronics: 12\n",
        "- sci.med: 13\n",
        "- sci.space: 14\n",
        "- soc.religion.christian: 15\n",
        "- talk.politics.guns: 16\n",
        "- talk.politics.mideast: 17\n",
        "- talk.politics.misc: 18\n",
        "- talk.religion.misc: 19\n",
        "\n",
        "Comprobamos que no hay nulos en al subconjunto de entrenamiento:"
      ]
    },
    {
      "cell_type": "code",
      "metadata": {
        "colab": {
          "base_uri": "https://localhost:8080/"
        },
        "id": "DhaBqPFKzXO6",
        "outputId": "95d4782d-61ea-4542-d78f-fc9fa9971da1"
      },
      "source": [
        "pd.DataFrame(newsgroups_train.target).isnull().sum()"
      ],
      "execution_count": null,
      "outputs": [
        {
          "output_type": "execute_result",
          "data": {
            "text/plain": [
              "0    0\n",
              "dtype: int64"
            ]
          },
          "metadata": {},
          "execution_count": 15
        }
      ]
    },
    {
      "cell_type": "markdown",
      "metadata": {
        "id": "kSMAH1xa0W8j"
      },
      "source": [
        "Por otra parte, comprobamos que hay categorías de noticias que contienen una muestra considerablemente mayor de noticias que otras:"
      ]
    },
    {
      "cell_type": "code",
      "metadata": {
        "colab": {
          "base_uri": "https://localhost:8080/"
        },
        "id": "0nVlD37p0NP6",
        "outputId": "0bf587f5-0ed2-4e2c-d46a-60e402bd8a7f"
      },
      "source": [
        "pd.DataFrame(newsgroups_train.target).value_counts()"
      ],
      "execution_count": null,
      "outputs": [
        {
          "output_type": "execute_result",
          "data": {
            "text/plain": [
              "10    600\n",
              "15    599\n",
              "8     598\n",
              "9     597\n",
              "11    595\n",
              "13    594\n",
              "7     594\n",
              "14    593\n",
              "5     593\n",
              "12    591\n",
              "2     591\n",
              "3     590\n",
              "6     585\n",
              "1     584\n",
              "4     578\n",
              "17    564\n",
              "16    546\n",
              "0     480\n",
              "18    465\n",
              "19    377\n",
              "dtype: int64"
            ]
          },
          "metadata": {},
          "execution_count": 19
        }
      ]
    },
    {
      "cell_type": "markdown",
      "metadata": {
        "id": "JP5lwxYDvHAp"
      },
      "source": [
        "Así, en total hay 11314 instancias en el subconjunto de entrenamiento."
      ]
    },
    {
      "cell_type": "code",
      "metadata": {
        "colab": {
          "base_uri": "https://localhost:8080/"
        },
        "id": "_GAlTAn8THoJ",
        "outputId": "d41c9751-2530-4c0a-fb0e-3772a62db8ac"
      },
      "source": [
        "newsgroups_train.filenames.shape"
      ],
      "execution_count": null,
      "outputs": [
        {
          "output_type": "execute_result",
          "data": {
            "text/plain": [
              "(11314,)"
            ]
          },
          "metadata": {},
          "execution_count": 33
        }
      ]
    },
    {
      "cell_type": "markdown",
      "metadata": {
        "id": "Jh6AZhwZvvQA"
      },
      "source": [
        "Por último, nos valemos de `TfidfVectorizer()` para vectorizar los atributos y poder trabajar con las muestras:"
      ]
    },
    {
      "cell_type": "code",
      "metadata": {
        "id": "zFNRALtDTLIY"
      },
      "source": [
        "from sklearn.feature_extraction.text import TfidfVectorizer\n",
        "vectorizer = TfidfVectorizer()\n",
        "vectors = vectorizer.fit_transform(newsgroups_train.data)"
      ],
      "execution_count": null,
      "outputs": []
    },
    {
      "cell_type": "code",
      "metadata": {
        "colab": {
          "base_uri": "https://localhost:8080/"
        },
        "id": "38zl5CD1UnaU",
        "outputId": "a401ce83-6a5d-4bc0-9bc2-cec1c8b65fba"
      },
      "source": [
        "vectors.shape"
      ],
      "execution_count": null,
      "outputs": [
        {
          "output_type": "execute_result",
          "data": {
            "text/plain": [
              "(11314, 101631)"
            ]
          },
          "metadata": {},
          "execution_count": 7
        }
      ]
    },
    {
      "cell_type": "markdown",
      "metadata": {
        "id": "e1_UE-1Vv6RE"
      },
      "source": [
        "Se repite el mismo procedimiento sobre el subconjunto de prueba:"
      ]
    },
    {
      "cell_type": "code",
      "metadata": {
        "id": "ddnf7Cumv9cy"
      },
      "source": [
        "newsgroups_test = fetch_20newsgroups(subset='test')\n",
        "vectors_test = vectorizer.transform(newsgroups_test.data)"
      ],
      "execution_count": null,
      "outputs": []
    },
    {
      "cell_type": "markdown",
      "metadata": {
        "id": "p6jQTm-WwFLQ"
      },
      "source": [
        "Comprobamos que en el subconjunto de entrenamiento existen 7.534 registros:"
      ]
    },
    {
      "cell_type": "code",
      "metadata": {
        "colab": {
          "base_uri": "https://localhost:8080/"
        },
        "id": "cQAYTRTHUj9s",
        "outputId": "3410be02-3b87-44a4-d45b-8a66d420567d"
      },
      "source": [
        "vectors_test.shape"
      ],
      "execution_count": null,
      "outputs": [
        {
          "output_type": "execute_result",
          "data": {
            "text/plain": [
              "(7532, 101631)"
            ]
          },
          "metadata": {},
          "execution_count": 10
        }
      ]
    },
    {
      "cell_type": "markdown",
      "metadata": {
        "id": "n4SfiPkF0wO3"
      },
      "source": [
        "Comprobamos que no hay nulos en al subconjunto de validación:"
      ]
    },
    {
      "cell_type": "code",
      "metadata": {
        "colab": {
          "base_uri": "https://localhost:8080/"
        },
        "id": "a5lK0HYt0wO4",
        "outputId": "f418d247-1833-4ae0-a0e9-515fe3b989d2"
      },
      "source": [
        "pd.DataFrame(newsgroups_test.target).isnull().sum()"
      ],
      "execution_count": null,
      "outputs": [
        {
          "output_type": "execute_result",
          "data": {
            "text/plain": [
              "0    0\n",
              "dtype: int64"
            ]
          },
          "metadata": {},
          "execution_count": 22
        }
      ]
    },
    {
      "cell_type": "markdown",
      "metadata": {
        "id": "5Grfzz0y0wO4"
      },
      "source": [
        "De igual forma, las distintas categorías tambien presentan un desbalance notable en este *subset*:"
      ]
    },
    {
      "cell_type": "code",
      "metadata": {
        "colab": {
          "base_uri": "https://localhost:8080/"
        },
        "id": "1S0YmIr-0wO4",
        "outputId": "d53095cc-567b-472b-eb1d-fbddbe1c4741"
      },
      "source": [
        "pd.DataFrame(newsgroups_test.target).value_counts()"
      ],
      "execution_count": null,
      "outputs": [
        {
          "output_type": "execute_result",
          "data": {
            "text/plain": [
              "10    399\n",
              "8     398\n",
              "15    398\n",
              "9     397\n",
              "13    396\n",
              "7     396\n",
              "11    396\n",
              "5     395\n",
              "2     394\n",
              "14    394\n",
              "12    393\n",
              "3     392\n",
              "6     390\n",
              "1     389\n",
              "4     385\n",
              "17    376\n",
              "16    364\n",
              "0     319\n",
              "18    310\n",
              "19    251\n",
              "dtype: int64"
            ]
          },
          "metadata": {},
          "execution_count": 23
        }
      ]
    },
    {
      "cell_type": "markdown",
      "metadata": {
        "id": "D9P1zP2Wpgwi"
      },
      "source": [
        "##Método KNN\n",
        "\n",
        "Comenzamos, de nuevo, entrenando el método de *K nearest neighbors* como clasificador. Para este *dataset*, al haber vectorizado las instancias del conjunto de datos, no es necesario realizar la normalización que sí se llevó a cabo para el *dataset* de *digits*:"
      ]
    },
    {
      "cell_type": "code",
      "metadata": {
        "colab": {
          "base_uri": "https://localhost:8080/"
        },
        "id": "9qxbMal-Tjsu",
        "outputId": "61b7e47e-dcfc-41d6-a6dc-d1a6dc874e42"
      },
      "source": [
        "print(vectors)"
      ],
      "execution_count": null,
      "outputs": [
        {
          "output_type": "stream",
          "name": "stdout",
          "text": [
            "  (0, 70)\t0.10710818409513174\n",
            "  (0, 1621)\t0.05048478633457054\n",
            "  (0, 2126)\t0.11661288826747816\n",
            "  (0, 2224)\t0.0922603829190838\n",
            "  (0, 2362)\t0.33627370633912945\n",
            "  (0, 2476)\t0.1346278818996714\n",
            "  (0, 2918)\t0.08678050128011777\n",
            "  (0, 2963)\t0.09472446806841893\n",
            "  (0, 4215)\t0.04903015241243261\n",
            "  (0, 4236)\t0.025816004726883307\n",
            "  (0, 4289)\t0.10201333563299075\n",
            "  (0, 4729)\t0.03806017753517864\n",
            "  (0, 4964)\t0.05219897871168181\n",
            "  (0, 5217)\t0.01593007970839202\n",
            "  (0, 5384)\t0.07231773328089483\n",
            "  (0, 5622)\t0.043930294370510284\n",
            "  (0, 6129)\t0.04763380958348832\n",
            "  (0, 6503)\t0.020144959348380453\n",
            "  (0, 7639)\t0.021817035554324272\n",
            "  (0, 8057)\t0.07352454384491992\n",
            "  (0, 8288)\t0.10710818409513174\n",
            "  (0, 10841)\t0.07987666689237097\n",
            "  (0, 11075)\t0.05478870477075606\n",
            "  (0, 11329)\t0.04101486592796915\n",
            "  (0, 11837)\t0.06432965559695256\n",
            "  :\t:\n",
            "  (2033, 29602)\t0.2405557556448496\n",
            "  (2033, 29644)\t0.013860800100857015\n",
            "  (2033, 30320)\t0.0971477585076707\n",
            "  (2033, 30641)\t0.03603008394748872\n",
            "  (2033, 30643)\t0.04378526188891377\n",
            "  (2033, 30662)\t0.03459320673504703\n",
            "  (2033, 30700)\t0.05006260423642478\n",
            "  (2033, 30741)\t0.04077150601163974\n",
            "  (2033, 30993)\t0.030483888035046508\n",
            "  (2033, 31061)\t0.06551211250609124\n",
            "  (2033, 31075)\t0.06468845635363629\n",
            "  (2033, 31315)\t0.1002407066662323\n",
            "  (2033, 32015)\t0.027512754877631038\n",
            "  (2033, 32240)\t0.038499889213069495\n",
            "  (2033, 32246)\t0.06608972942056321\n",
            "  (2033, 32290)\t0.09462063585487265\n",
            "  (2033, 32505)\t0.04012238672825511\n",
            "  (2033, 33040)\t0.08290504877286425\n",
            "  (2033, 33217)\t0.035700129896113715\n",
            "  (2033, 33391)\t0.0292597801145296\n",
            "  (2033, 33494)\t0.06993778678269888\n",
            "  (2033, 33695)\t0.04463300156902054\n",
            "  (2033, 33918)\t0.04919678780929165\n",
            "  (2033, 33920)\t0.07661153413739813\n",
            "  (2033, 33957)\t0.02087330672368326\n"
          ]
        }
      ]
    },
    {
      "cell_type": "markdown",
      "metadata": {
        "id": "YLWZ44YiUADG"
      },
      "source": [
        "Procedemos a utilizar la función `GridSearchCV` para hallar la mejor especificación del modelo. Así, vamos a probar con los siguientes parámetros:\n",
        "\n",
        "- k o número de vecinos más próximos: seleccionamos un rango entre 1 y 10.\n",
        "- *weights* o pesos: si seleccionamos *uniform*, a todos los puntos se les ponderará de igual forma. En cambio, si elegimos *distance*, los puntos más próximos serán más relevantes.\n",
        "\n",
        "Se ha decidido descartar el parámetro `leafsize` empleado con el *dataset* anterior debido al gran coste computacional que supone sin aportar ninguna mejoría al modelo.\n",
        "\n",
        "Además, en la búsqueda vamos a seleccionar `cv=3`, lo cual indica que se va a utilizar el método de *cross validation*, con el objetivo de subdividir el conjunto de entrenamiento en varios *subsets* y conseguir una muestra más representativa de la población."
      ]
    },
    {
      "cell_type": "code",
      "metadata": {
        "colab": {
          "base_uri": "https://localhost:8080/"
        },
        "id": "r0G38IQkWuvy",
        "outputId": "d6400175-e914-470a-ebce-bc7d5158a407"
      },
      "source": [
        "from sklearn.model_selection import GridSearchCV\n",
        "from sklearn.model_selection import cross_val_score\n",
        "from sklearn.neighbors import KNeighborsClassifier\n",
        "\n",
        "#Generate possible values of the exploration Grid\n",
        "k = range(1, 10)\n",
        "weight_options = ['uniform', 'distance']\n",
        "\n",
        "#Infer all the exploratory surface into parameters struct\n",
        "parameters = dict(n_neighbors=k, weights=weight_options)\n",
        "\n",
        "#Create Learner Factory\n",
        "knearest=KNeighborsClassifier()\n",
        "\n",
        "#Instantiate a GridSearch with the a) Learner Factory b) Exploratory parameters c) CrossValidation param\n",
        "clf = GridSearchCV(knearest,parameters,cv=3,scoring='accuracy',return_train_score=True)\n",
        "\n",
        "#Perform exploratory grid search over TrainingData\n",
        "clf.fit(vectors, newsgroups_train.target)"
      ],
      "execution_count": null,
      "outputs": [
        {
          "output_type": "execute_result",
          "data": {
            "text/plain": [
              "GridSearchCV(cv=3, estimator=KNeighborsClassifier(),\n",
              "             param_grid={'n_neighbors': range(1, 10),\n",
              "                         'weights': ['uniform', 'distance']},\n",
              "             return_train_score=True, scoring='accuracy')"
            ]
          },
          "metadata": {},
          "execution_count": 12
        }
      ]
    },
    {
      "cell_type": "markdown",
      "metadata": {
        "id": "-ejLq-AGVoLz"
      },
      "source": [
        "Una vez ha finalizado la búsqueda, podemos averiguar qué parametrización ha alcanzado una *accuracy* superior:"
      ]
    },
    {
      "cell_type": "code",
      "metadata": {
        "colab": {
          "base_uri": "https://localhost:8080/"
        },
        "id": "LR1U17Sb5Ugs",
        "outputId": "214df0d5-7e66-40ba-e95b-4326a69ee04c"
      },
      "source": [
        "print(clf.best_score_)\n",
        "print(clf.best_params_)\n",
        "print(clf.best_estimator_)"
      ],
      "execution_count": null,
      "outputs": [
        {
          "output_type": "stream",
          "name": "stdout",
          "text": [
            "0.8048436004750211\n",
            "{'n_neighbors': 1, 'weights': 'uniform'}\n",
            "KNeighborsClassifier(n_neighbors=1)\n"
          ]
        }
      ]
    },
    {
      "cell_type": "markdown",
      "metadata": {
        "id": "ZbW8gf51WZ7u"
      },
      "source": [
        "Vemos que el mejor modelo es el que tiene los parámetros ` 'n_neighbors': 1` y `'weights': 'uniform'`, con una precisión del 80.5%. Este resultado para la parametrización más óptima es **el mismo que se alcanzó con el conjunto de datos de** ***digits***.\n",
        "\n",
        "Además, por si queremos profundizar en los resultados, reunimos los más relevantes en un *dataframe*:"
      ]
    },
    {
      "cell_type": "code",
      "metadata": {
        "colab": {
          "base_uri": "https://localhost:8080/",
          "height": 607
        },
        "id": "4Gi-XykJC2FD",
        "outputId": "3c909b96-1a29-4c80-c876-e42a74576ada"
      },
      "source": [
        "results=pd.DataFrame(clf.cv_results_)\n",
        "results[['param_n_neighbors', 'param_weights', 'mean_test_score', 'mean_fit_time']].sort_values(by=['mean_test_score'], ascending=False)"
      ],
      "execution_count": null,
      "outputs": [
        {
          "output_type": "execute_result",
          "data": {
            "text/html": [
              "<div>\n",
              "<style scoped>\n",
              "    .dataframe tbody tr th:only-of-type {\n",
              "        vertical-align: middle;\n",
              "    }\n",
              "\n",
              "    .dataframe tbody tr th {\n",
              "        vertical-align: top;\n",
              "    }\n",
              "\n",
              "    .dataframe thead th {\n",
              "        text-align: right;\n",
              "    }\n",
              "</style>\n",
              "<table border=\"1\" class=\"dataframe\">\n",
              "  <thead>\n",
              "    <tr style=\"text-align: right;\">\n",
              "      <th></th>\n",
              "      <th>param_n_neighbors</th>\n",
              "      <th>param_weights</th>\n",
              "      <th>mean_test_score</th>\n",
              "      <th>mean_fit_time</th>\n",
              "    </tr>\n",
              "  </thead>\n",
              "  <tbody>\n",
              "    <tr>\n",
              "      <th>0</th>\n",
              "      <td>1</td>\n",
              "      <td>uniform</td>\n",
              "      <td>0.804844</td>\n",
              "      <td>0.013628</td>\n",
              "    </tr>\n",
              "    <tr>\n",
              "      <th>1</th>\n",
              "      <td>1</td>\n",
              "      <td>distance</td>\n",
              "      <td>0.804844</td>\n",
              "      <td>0.012885</td>\n",
              "    </tr>\n",
              "    <tr>\n",
              "      <th>3</th>\n",
              "      <td>2</td>\n",
              "      <td>distance</td>\n",
              "      <td>0.804844</td>\n",
              "      <td>0.012874</td>\n",
              "    </tr>\n",
              "    <tr>\n",
              "      <th>5</th>\n",
              "      <td>3</td>\n",
              "      <td>distance</td>\n",
              "      <td>0.794060</td>\n",
              "      <td>0.012830</td>\n",
              "    </tr>\n",
              "    <tr>\n",
              "      <th>7</th>\n",
              "      <td>4</td>\n",
              "      <td>distance</td>\n",
              "      <td>0.790966</td>\n",
              "      <td>0.012858</td>\n",
              "    </tr>\n",
              "    <tr>\n",
              "      <th>9</th>\n",
              "      <td>5</td>\n",
              "      <td>distance</td>\n",
              "      <td>0.781774</td>\n",
              "      <td>0.012989</td>\n",
              "    </tr>\n",
              "    <tr>\n",
              "      <th>11</th>\n",
              "      <td>6</td>\n",
              "      <td>distance</td>\n",
              "      <td>0.777355</td>\n",
              "      <td>0.012688</td>\n",
              "    </tr>\n",
              "    <tr>\n",
              "      <th>13</th>\n",
              "      <td>7</td>\n",
              "      <td>distance</td>\n",
              "      <td>0.773996</td>\n",
              "      <td>0.013000</td>\n",
              "    </tr>\n",
              "    <tr>\n",
              "      <th>15</th>\n",
              "      <td>8</td>\n",
              "      <td>distance</td>\n",
              "      <td>0.773289</td>\n",
              "      <td>0.012172</td>\n",
              "    </tr>\n",
              "    <tr>\n",
              "      <th>17</th>\n",
              "      <td>9</td>\n",
              "      <td>distance</td>\n",
              "      <td>0.769754</td>\n",
              "      <td>0.011876</td>\n",
              "    </tr>\n",
              "    <tr>\n",
              "      <th>4</th>\n",
              "      <td>3</td>\n",
              "      <td>uniform</td>\n",
              "      <td>0.765069</td>\n",
              "      <td>0.012921</td>\n",
              "    </tr>\n",
              "    <tr>\n",
              "      <th>2</th>\n",
              "      <td>2</td>\n",
              "      <td>uniform</td>\n",
              "      <td>0.761887</td>\n",
              "      <td>0.013304</td>\n",
              "    </tr>\n",
              "    <tr>\n",
              "      <th>6</th>\n",
              "      <td>4</td>\n",
              "      <td>uniform</td>\n",
              "      <td>0.760031</td>\n",
              "      <td>0.012727</td>\n",
              "    </tr>\n",
              "    <tr>\n",
              "      <th>8</th>\n",
              "      <td>5</td>\n",
              "      <td>uniform</td>\n",
              "      <td>0.755258</td>\n",
              "      <td>0.013878</td>\n",
              "    </tr>\n",
              "    <tr>\n",
              "      <th>10</th>\n",
              "      <td>6</td>\n",
              "      <td>uniform</td>\n",
              "      <td>0.753844</td>\n",
              "      <td>0.012734</td>\n",
              "    </tr>\n",
              "    <tr>\n",
              "      <th>12</th>\n",
              "      <td>7</td>\n",
              "      <td>uniform</td>\n",
              "      <td>0.752518</td>\n",
              "      <td>0.013520</td>\n",
              "    </tr>\n",
              "    <tr>\n",
              "      <th>14</th>\n",
              "      <td>8</td>\n",
              "      <td>uniform</td>\n",
              "      <td>0.748099</td>\n",
              "      <td>0.012800</td>\n",
              "    </tr>\n",
              "    <tr>\n",
              "      <th>16</th>\n",
              "      <td>9</td>\n",
              "      <td>uniform</td>\n",
              "      <td>0.747481</td>\n",
              "      <td>0.011826</td>\n",
              "    </tr>\n",
              "  </tbody>\n",
              "</table>\n",
              "</div>"
            ],
            "text/plain": [
              "   param_n_neighbors param_weights  mean_test_score  mean_fit_time\n",
              "0                  1       uniform         0.804844       0.013628\n",
              "1                  1      distance         0.804844       0.012885\n",
              "3                  2      distance         0.804844       0.012874\n",
              "5                  3      distance         0.794060       0.012830\n",
              "7                  4      distance         0.790966       0.012858\n",
              "9                  5      distance         0.781774       0.012989\n",
              "11                 6      distance         0.777355       0.012688\n",
              "13                 7      distance         0.773996       0.013000\n",
              "15                 8      distance         0.773289       0.012172\n",
              "17                 9      distance         0.769754       0.011876\n",
              "4                  3       uniform         0.765069       0.012921\n",
              "2                  2       uniform         0.761887       0.013304\n",
              "6                  4       uniform         0.760031       0.012727\n",
              "8                  5       uniform         0.755258       0.013878\n",
              "10                 6       uniform         0.753844       0.012734\n",
              "12                 7       uniform         0.752518       0.013520\n",
              "14                 8       uniform         0.748099       0.012800\n",
              "16                 9       uniform         0.747481       0.011826"
            ]
          },
          "metadata": {},
          "execution_count": 14
        }
      ]
    },
    {
      "cell_type": "markdown",
      "metadata": {
        "id": "rGyGYZmOXC4n"
      },
      "source": [
        "De esta forma vemos que, por ejemplo, el mejor resultado ha tenido un tiempo de ejecución de 0.01 segundos, exactamente el mismo resultado que se obtuvo para el *dataset* anterior. Además, vemos que hay otras dos opciones más con la misma *accuracy* y tiempos muy similares."
      ]
    },
    {
      "cell_type": "markdown",
      "metadata": {
        "id": "TiO3YjauXWjU"
      },
      "source": [
        "Para verlo de manera más intuitiva,  representamos la evolución de la *accuracy* según los parámetros de la implementación:"
      ]
    },
    {
      "cell_type": "code",
      "metadata": {
        "colab": {
          "base_uri": "https://localhost:8080/",
          "height": 371
        },
        "id": "tXCwvjM4_qKM",
        "outputId": "39068dd0-8781-42c2-fb9f-b65ee010c942"
      },
      "source": [
        "plot_search_results(clf)"
      ],
      "execution_count": null,
      "outputs": [
        {
          "output_type": "display_data",
          "data": {
            "image/png": "[encoded data removed]",
            "text/plain": [
              "<Figure size 1440x360 with 2 Axes>"
            ]
          },
          "metadata": {
            "needs_background": "light"
          }
        }
      ]
    },
    {
      "cell_type": "markdown",
      "metadata": {
        "id": "Cmhg4d9RXhOz"
      },
      "source": [
        "De esta forma, comprobamos que el parámetro `weights` es irrelevante a la hora de escoger el modelo con mayor precisión. Es decir, el hecho de ponderar o no los puntos en función de su distancia no aporta una mejora significativa al modelo. Asimismo, se observa que a mayor número de vecinos, la precisión tiende a disminuir tanto para el subconjunto de entrenamiento como para el de *test* durante la *cross validation*, como es lógico. Este hecho se debe a que, cuantos más vecinos se tienen en cuenta, menos exacta es la predicción, llegando a darse *underfitting* si se seleccionan demasiados."
      ]
    },
    {
      "cell_type": "markdown",
      "metadata": {
        "id": "rAZArF68Y2me"
      },
      "source": [
        "Por último, una vez conocido el comportamiento sobre el subconjunto de entrenamiento, procedemos a aplicar el modelo sobre el subconjunto de validación, valiéndonos de nuevo del método de validación cruzada para hallar tanto las predicciones como las precisiones."
      ]
    },
    {
      "cell_type": "code",
      "metadata": {
        "id": "d_cXuMvX8otV"
      },
      "source": [
        "from sklearn.model_selection import cross_val_predict, cross_val_score\n",
        "preds_test = cross_val_predict(clf, vectors_test,newsgroups_test.target, cv=2, method=\"predict\", n_jobs=-1)\n",
        "score = cross_val_score(clf, vectors_test,newsgroups_test.target, cv=2, scoring=\"accuracy\")"
      ],
      "execution_count": null,
      "outputs": []
    },
    {
      "cell_type": "code",
      "metadata": {
        "colab": {
          "base_uri": "https://localhost:8080/"
        },
        "id": "065IrpDgEsn-",
        "outputId": "8742e4ae-618a-438b-ac60-3ae002765749"
      },
      "source": [
        "score"
      ],
      "execution_count": null,
      "outputs": [
        {
          "output_type": "execute_result",
          "data": {
            "text/plain": [
              "array([0.74641529, 0.73659055])"
            ]
          },
          "metadata": {},
          "execution_count": 20
        }
      ]
    },
    {
      "cell_type": "markdown",
      "metadata": {
        "id": "49U7sE82H6sb"
      },
      "source": [
        "**La precisión promedio sobre el subconjunto de validación es 74.1%,** un 10% inferior a la obtenida mediante la misma parametrización sobre el conjunto de datos *digits*."
      ]
    },
    {
      "cell_type": "code",
      "metadata": {
        "colab": {
          "base_uri": "https://localhost:8080/"
        },
        "id": "5BES8QjnEz1w",
        "outputId": "90f007c3-4de1-4cc0-cda5-220cb269e743"
      },
      "source": [
        "score.mean()"
      ],
      "execution_count": null,
      "outputs": [
        {
          "output_type": "execute_result",
          "data": {
            "text/plain": [
              "0.7415029208709506"
            ]
          },
          "metadata": {},
          "execution_count": 21
        }
      ]
    },
    {
      "cell_type": "markdown",
      "metadata": {
        "id": "SzbRDqvRZI0I"
      },
      "source": [
        "###Matriz de confusión\n",
        "\n",
        "A continuación, con el objetivo de averiguar qué números se están clasificando mejor y con cuáles tiene más problemas el algoritmo, generamos la matriz de confusión:"
      ]
    },
    {
      "cell_type": "code",
      "metadata": {
        "id": "bofUF5oPZcaB",
        "colab": {
          "base_uri": "https://localhost:8080/",
          "height": 734
        },
        "outputId": "c87655c8-0a95-409f-daf3-758a46839a16"
      },
      "source": [
        "from sklearn.metrics import confusion_matrix, classification_report\n",
        "matriz=confusion_matrix(newsgroups_test.target, preds_test)\n",
        "fig, ax = plt.subplots(figsize=(12,10))  \n",
        "sn.heatmap(pd.DataFrame(matriz), \n",
        "           annot=True,fmt='g'\n",
        "           , xticklabels=newsgroups_test.target_names,yticklabels=newsgroups_test.target_names\n",
        "           )"
      ],
      "execution_count": null,
      "outputs": [
        {
          "output_type": "execute_result",
          "data": {
            "text/plain": [
              "<matplotlib.axes._subplots.AxesSubplot at 0x7f4dd7a8b110>"
            ]
          },
          "metadata": {},
          "execution_count": 26
        },
        {
          "output_type": "display_data",
          "data": {
            "image/png": "[encoded data removed]",
            "text/plain": [
              "<Figure size 864x720 with 2 Axes>"
            ]
          },
          "metadata": {
            "needs_background": "light"
          }
        }
      ]
    },
    {
      "cell_type": "markdown",
      "metadata": {
        "id": "uXtzFjsuIPIa"
      },
      "source": [
        "En este caso, es difícil ver a simple vista qué categorías están funcionando mejor y cuáles están funcionando peor. Procedemos por tanto a generar el *classification report*:"
      ]
    },
    {
      "cell_type": "markdown",
      "metadata": {
        "id": "FsprVy23ZL4y"
      },
      "source": [
        "### *Classification report*\n"
      ]
    },
    {
      "cell_type": "code",
      "metadata": {
        "id": "iWWG5EbPZwAG",
        "colab": {
          "base_uri": "https://localhost:8080/"
        },
        "outputId": "9ff6c102-1efa-460c-9393-20cfb84c7609"
      },
      "source": [
        "print(f\"Informe de Clasificación:\\n\"\n",
        "      f\"{classification_report(newsgroups_test.target, preds_test, target_names=newsgroups_test.target_names)}\")"
      ],
      "execution_count": null,
      "outputs": [
        {
          "output_type": "stream",
          "name": "stdout",
          "text": [
            "Informe de Clasificación:\n",
            "                          precision    recall  f1-score   support\n",
            "\n",
            "             alt.atheism       0.77      0.78      0.77       319\n",
            "           comp.graphics       0.66      0.58      0.62       389\n",
            " comp.os.ms-windows.misc       0.73      0.67      0.70       394\n",
            "comp.sys.ibm.pc.hardware       0.63      0.66      0.64       392\n",
            "   comp.sys.mac.hardware       0.66      0.61      0.63       385\n",
            "          comp.windows.x       0.72      0.59      0.65       395\n",
            "            misc.forsale       0.63      0.51      0.56       390\n",
            "               rec.autos       0.83      0.77      0.80       396\n",
            "         rec.motorcycles       0.85      0.88      0.87       398\n",
            "      rec.sport.baseball       0.84      0.80      0.82       397\n",
            "        rec.sport.hockey       0.84      0.88      0.86       399\n",
            "               sci.crypt       0.74      0.83      0.79       396\n",
            "         sci.electronics       0.73      0.70      0.72       393\n",
            "                 sci.med       0.85      0.72      0.78       396\n",
            "               sci.space       0.83      0.82      0.83       394\n",
            "  soc.religion.christian       0.80      0.86      0.83       398\n",
            "      talk.politics.guns       0.81      0.77      0.79       364\n",
            "   talk.politics.mideast       0.86      0.93      0.89       376\n",
            "      talk.politics.misc       0.46      0.85      0.60       310\n",
            "      talk.religion.misc       0.65      0.60      0.62       251\n",
            "\n",
            "                accuracy                           0.74      7532\n",
            "               macro avg       0.74      0.74      0.74      7532\n",
            "            weighted avg       0.75      0.74      0.74      7532\n",
            "\n"
          ]
        }
      ]
    },
    {
      "cell_type": "markdown",
      "metadata": {
        "id": "wmwVynxyIbvH"
      },
      "source": [
        "Vemos que la *F1-Score* está entre el 60% y el 80% para la mayoría de categorías. Destaca **talk.politics.mideast** por sus buenos resultados, siendo la categoría que menos falsos positivos y menos falsos negativos arroja (mayor *precision* y *recall*).\n",
        "\n",
        "Por otra parte, la categoría **misc.forsale** es incorrectamente clasificada en un gran número de casos (*recall* del 51%, es decir, la mitad de las noticias de esta categoría se clasifica como otro tipo)."
      ]
    },
    {
      "cell_type": "markdown",
      "metadata": {
        "id": "i1kOOCogl72O"
      },
      "source": [
        "| *Accuracy* sobre *test*|  Tiempo(s)  |\n",
        "|:----------------------:|:-----------:|\n",
        "|          74.2%         |    0.01     |   "
      ]
    },
    {
      "cell_type": "markdown",
      "metadata": {
        "id": "G0aQNlG9GcRd"
      },
      "source": [
        "## Red neuronal\n",
        "\n",
        "A continuación, vamos a proceder a implementar una red neuronal con una capa de dimensión 200 igual que la entrenada en el *dataset* anterior. Además, con el fin de poder **comparar el comportamiento al modelizar sobre distintos *datasets***, vamos a seleccionar la **combinación de parámetros que obtuvimos con la *Grid Search* del *dataset* de *digits***, es decir: `learning_rate_init=0.7`, `max_iter = 500` y `solver='sgd'`."
      ]
    },
    {
      "cell_type": "code",
      "metadata": {
        "colab": {
          "base_uri": "https://localhost:8080/"
        },
        "id": "yuPTHLNwGw1N",
        "outputId": "3aa28168-deb5-4c5b-fd76-f1c98f447295"
      },
      "source": [
        "from sklearn.neural_network import MLPClassifier\n",
        "\n",
        "clf2 = MLPClassifier(activation='relu', alpha=0.0001, batch_size='auto', beta_1=0.9,\n",
        "              beta_2=0.999, early_stopping=False, epsilon=1e-08,\n",
        "              hidden_layer_sizes=(200,), learning_rate='constant',\n",
        "              learning_rate_init=0.7, max_fun=15000,\n",
        "              max_iter=500, momentum=0.9, n_iter_no_change=10,\n",
        "              nesterovs_momentum=True, power_t=0.5, random_state=None,\n",
        "              shuffle=True, solver='sgd', tol=0.0001, validation_fraction=0.1,\n",
        "              verbose=False, warm_start=False)\n",
        "\n",
        "clf2.fit(vectors, newsgroups_train.target)"
      ],
      "execution_count": null,
      "outputs": [
        {
          "output_type": "execute_result",
          "data": {
            "text/plain": [
              "MLPClassifier(hidden_layer_sizes=(200,), learning_rate_init=0.7000000000000001,\n",
              "              max_iter=500, solver='sgd')"
            ]
          },
          "metadata": {},
          "execution_count": 22
        }
      ]
    },
    {
      "cell_type": "markdown",
      "metadata": {
        "id": "cQxS3RWgEHkU"
      },
      "source": [
        "Una vez ajustado el modelo, obtenemos la precisión sobre el subconjunto de entrenamiento gracias al método de validación cruzada:"
      ]
    },
    {
      "cell_type": "code",
      "metadata": {
        "id": "-JKdP2k6JEWD"
      },
      "source": [
        "score2_train = cross_val_score(clf2, vectors, newsgroups_train.target, cv=2, scoring=\"accuracy\")"
      ],
      "execution_count": null,
      "outputs": []
    },
    {
      "cell_type": "code",
      "metadata": {
        "colab": {
          "base_uri": "https://localhost:8080/"
        },
        "id": "yTB-7gOuCpM8",
        "outputId": "a8078cf4-7662-4183-9607-3937aef51375"
      },
      "source": [
        "score2_train"
      ],
      "execution_count": null,
      "outputs": [
        {
          "output_type": "execute_result",
          "data": {
            "text/plain": [
              "array([0.89641153, 0.88173944])"
            ]
          },
          "metadata": {},
          "execution_count": 27
        }
      ]
    },
    {
      "cell_type": "markdown",
      "metadata": {
        "id": "_z_QagNnEQvt"
      },
      "source": [
        "Vemos que la precisión alcanzada para dicho subconjunto es del 89%. Procedemos ahora a averiguar la capacidad de generalización el modelo, calculando la *accuracy* sobre el subconjunto de prueba:"
      ]
    },
    {
      "cell_type": "code",
      "metadata": {
        "id": "c7vGidw3JEWF"
      },
      "source": [
        "from sklearn.model_selection import cross_val_predict, cross_val_score\n",
        "preds_test2 = cross_val_predict(clf2, vectors_test,newsgroups_test.target, cv=2, method=\"predict\", n_jobs=-1)\n",
        "score2 = cross_val_score(clf2, vectors_test,newsgroups_test.target, cv=2, scoring=\"accuracy\")"
      ],
      "execution_count": null,
      "outputs": []
    },
    {
      "cell_type": "code",
      "metadata": {
        "colab": {
          "base_uri": "https://localhost:8080/"
        },
        "id": "WODnQz0XJEWF",
        "outputId": "f1cdb2ee-a934-43e4-97b8-f2f465ba8c57"
      },
      "source": [
        "score2"
      ],
      "execution_count": null,
      "outputs": [
        {
          "output_type": "execute_result",
          "data": {
            "text/plain": [
              "array([0.87758895, 0.89166224])"
            ]
          },
          "metadata": {},
          "execution_count": 25
        }
      ]
    },
    {
      "cell_type": "markdown",
      "metadata": {
        "id": "EzhqnQyAFLH2"
      },
      "source": [
        "Vemos que se obtiene un resultado muy similar al alcanzado sobre el ***subset* de *training*: 88.4%**. Este resultado supera considerablemente todos los obtenidos hasta ahora, si bien el coste computacional es muy superior al empleado en las modelizaciones previas."
      ]
    },
    {
      "cell_type": "code",
      "metadata": {
        "colab": {
          "base_uri": "https://localhost:8080/"
        },
        "id": "i0LwBKzf-bEp",
        "outputId": "5bb55907-1510-4f98-b614-39c9e39196a2"
      },
      "source": [
        "score2.mean()"
      ],
      "execution_count": null,
      "outputs": [
        {
          "output_type": "execute_result",
          "data": {
            "text/plain": [
              "0.8846255974508763"
            ]
          },
          "metadata": {},
          "execution_count": 26
        }
      ]
    },
    {
      "cell_type": "markdown",
      "metadata": {
        "id": "V4gX1O2H-etW"
      },
      "source": [
        "###Matriz de confusión\n",
        "\n",
        "A continuación, con el objetivo de averiguar qué noticias se están clasificando mejor y con cuáles tiene más problemas el algoritmo, creamos la matriz de confusión:"
      ]
    },
    {
      "cell_type": "code",
      "metadata": {
        "colab": {
          "base_uri": "https://localhost:8080/",
          "height": 733
        },
        "id": "xqFMkaGh-etW",
        "outputId": "8e5e56fb-3641-4059-b401-f4b3c60705ae"
      },
      "source": [
        "from sklearn.metrics import confusion_matrix, classification_report\n",
        "matriz=confusion_matrix(newsgroups_test.target, preds_test2)\n",
        "fig, ax = plt.subplots(figsize=(12,10)) \n",
        "sn.heatmap(pd.DataFrame(matriz), \n",
        "           annot=True,fmt='g'\n",
        "           , xticklabels=newsgroups_test.target_names,yticklabels=newsgroups_test.target_names\n",
        "           )"
      ],
      "execution_count": null,
      "outputs": [
        {
          "output_type": "execute_result",
          "data": {
            "text/plain": [
              "<matplotlib.axes._subplots.AxesSubplot at 0x7f23e26259d0>"
            ]
          },
          "metadata": {},
          "execution_count": 30
        },
        {
          "output_type": "display_data",
          "data": {
            "image/png": "[encoded data removed]",
            "text/plain": [
              "<Figure size 864x720 with 2 Axes>"
            ]
          },
          "metadata": {
            "needs_background": "light"
          }
        }
      ]
    },
    {
      "cell_type": "markdown",
      "metadata": {
        "id": "3d3wCvJS-etX"
      },
      "source": [
        "Como cabía esperar tras el buen dato para la *accuracy* del modelo, la matriz de confusión tiene muy pocas observaciones fuera de la diagonal, lo cual implica un buen desempeño de la red neuronal como clasificador de noticias."
      ]
    },
    {
      "cell_type": "markdown",
      "metadata": {
        "id": "IPvMxZV0-etX"
      },
      "source": [
        "### *Classification report*\n",
        "\n",
        "En esta sección procedemos a aunar todos los resultados de la matriz de confusión para todas las categorías del *dataset* de validación:\n"
      ]
    },
    {
      "cell_type": "code",
      "metadata": {
        "colab": {
          "base_uri": "https://localhost:8080/"
        },
        "id": "9KcVPSd7-etX",
        "outputId": "a1f3861a-869a-4234-d880-82b51bd6bbc0"
      },
      "source": [
        "print(f\"Informe de Clasificación:\\n\"\n",
        "      f\"{classification_report(newsgroups_test.target, preds_test2,target_names=newsgroups_test.target_names)}\")"
      ],
      "execution_count": null,
      "outputs": [
        {
          "output_type": "stream",
          "name": "stdout",
          "text": [
            "Informe de Clasificación:\n",
            "                          precision    recall  f1-score   support\n",
            "\n",
            "             alt.atheism       0.90      0.87      0.88       319\n",
            "           comp.graphics       0.74      0.81      0.77       389\n",
            " comp.os.ms-windows.misc       0.85      0.82      0.83       394\n",
            "comp.sys.ibm.pc.hardware       0.78      0.79      0.78       392\n",
            "   comp.sys.mac.hardware       0.87      0.85      0.86       385\n",
            "          comp.windows.x       0.83      0.83      0.83       395\n",
            "            misc.forsale       0.83      0.86      0.85       390\n",
            "               rec.autos       0.91      0.91      0.91       396\n",
            "         rec.motorcycles       0.94      0.95      0.95       398\n",
            "      rec.sport.baseball       0.94      0.95      0.95       397\n",
            "        rec.sport.hockey       0.96      0.97      0.96       399\n",
            "               sci.crypt       0.94      0.91      0.92       396\n",
            "         sci.electronics       0.81      0.84      0.82       393\n",
            "                 sci.med       0.88      0.89      0.89       396\n",
            "               sci.space       0.93      0.94      0.93       394\n",
            "  soc.religion.christian       0.91      0.94      0.93       398\n",
            "      talk.politics.guns       0.90      0.89      0.89       364\n",
            "   talk.politics.mideast       0.97      0.97      0.97       376\n",
            "      talk.politics.misc       0.88      0.84      0.86       310\n",
            "      talk.religion.misc       0.85      0.74      0.79       251\n",
            "\n",
            "                accuracy                           0.88      7532\n",
            "               macro avg       0.88      0.88      0.88      7532\n",
            "            weighted avg       0.88      0.88      0.88      7532\n",
            "\n"
          ]
        }
      ]
    },
    {
      "cell_type": "markdown",
      "metadata": {
        "id": "r8VM184V-etX"
      },
      "source": [
        "En la tabla se puede comprobar que la *F1 Score* va desde el 77% para la categoría **comp.graphics** hasta el 97% para **talk.politics.mideast**. Si recordamos, esta última clase era también la que mejores resultados alcanzaba en el modelo KNN. \n",
        "\n",
        "En general, se concluye que la red neuronal de una sola capa con 200 neuronas es un buen clasificador para este tipo de conjunto de datos, si bien el coste computacional es abismalmente superior en comparación con el método KNN."
      ]
    },
    {
      "cell_type": "markdown",
      "metadata": {
        "id": "45XwSFTemFmg"
      },
      "source": [
        "| *Accuracy* sobre *test*|  Tiempo(s)  |\n",
        "|:----------------------:|:-----------:|\n",
        "|          88.5%         |    2600     |   "
      ]
    },
    {
      "cell_type": "markdown",
      "metadata": {
        "id": "tBdWa5CvJRRe"
      },
      "source": [
        "## *AdaBoost*\n",
        "\n",
        "En este caso, con el fin de poder comparar el desempeño del mismo modelo en distintos *datasets*, **los parámetros que vamos a definir son los mismos que para el conjunto de datos anterior** (*digits*): `learning_rate=0.5, n_estimators=500`."
      ]
    },
    {
      "cell_type": "code",
      "metadata": {
        "id": "QsqW5y87JYvn",
        "colab": {
          "base_uri": "https://localhost:8080/"
        },
        "outputId": "b4b546d9-fe9d-4f68-e02b-7152c0708850"
      },
      "source": [
        "from sklearn.ensemble import AdaBoostClassifier\n",
        "\n",
        "clf3 = AdaBoostClassifier(learning_rate=0.5, n_estimators=500)\n",
        "clf3.fit(vectors, newsgroups_train.target)"
      ],
      "execution_count": null,
      "outputs": [
        {
          "output_type": "execute_result",
          "data": {
            "text/plain": [
              "AdaBoostClassifier(algorithm='SAMME.R', base_estimator=None, learning_rate=0.5,\n",
              "                   n_estimators=500, random_state=None)"
            ]
          },
          "metadata": {},
          "execution_count": 5
        }
      ]
    },
    {
      "cell_type": "markdown",
      "metadata": {
        "id": "etqYwCrzH3-0"
      },
      "source": [
        "Una vez generado el modelo, calculamos la *accuracy* sobre el subconjunto de entrenamiento mediante el método de *cross validation*:"
      ]
    },
    {
      "cell_type": "code",
      "metadata": {
        "id": "ajHi__tAHwDe"
      },
      "source": [
        "score3_train = cross_val_score(clf3, vectors, newsgroups_train.target, cv=2, scoring=\"accuracy\")"
      ],
      "execution_count": null,
      "outputs": []
    },
    {
      "cell_type": "code",
      "metadata": {
        "colab": {
          "base_uri": "https://localhost:8080/"
        },
        "id": "t7Kv9-aIHzT4",
        "outputId": "425469ca-cad9-400b-9110-357b05433340"
      },
      "source": [
        "score3_train"
      ],
      "execution_count": null,
      "outputs": [
        {
          "output_type": "execute_result",
          "data": {
            "text/plain": [
              "array([0.43627364, 0.47357256])"
            ]
          },
          "metadata": {},
          "execution_count": 9
        }
      ]
    },
    {
      "cell_type": "code",
      "metadata": {
        "colab": {
          "base_uri": "https://localhost:8080/"
        },
        "id": "K1FQve_CH0zQ",
        "outputId": "b7664fe7-39b5-47da-8990-b4e1e21a8d04"
      },
      "source": [
        "score3_train.mean()"
      ],
      "execution_count": null,
      "outputs": [
        {
          "output_type": "execute_result",
          "data": {
            "text/plain": [
              "0.4549231041187909"
            ]
          },
          "metadata": {},
          "execution_count": 10
        }
      ]
    },
    {
      "cell_type": "markdown",
      "metadata": {
        "id": "_OzNlHR7IATE"
      },
      "source": [
        "Observamos que el resultado, 45.5%, es muy pobre incluso sobre el *training set*.\n",
        "\n",
        "Por último, procedemos a calcular la *accuracy* sobre el subconjunto de prueba:"
      ]
    },
    {
      "cell_type": "code",
      "metadata": {
        "id": "FDnV5Ex7KGdS"
      },
      "source": [
        "from sklearn.model_selection import cross_val_predict, cross_val_score\n",
        "preds_test3 = cross_val_predict(clf3, vectors_test,newsgroups_test.target, cv=2, method=\"predict\", n_jobs=-1)\n",
        "score3 = cross_val_score(clf3, vectors_test,newsgroups_test.target, cv=2, scoring=\"accuracy\")"
      ],
      "execution_count": null,
      "outputs": []
    },
    {
      "cell_type": "code",
      "metadata": {
        "colab": {
          "base_uri": "https://localhost:8080/"
        },
        "id": "VXYO9PLFKGdS",
        "outputId": "b40896c5-e13a-42b6-c670-849461c1b7d6"
      },
      "source": [
        "score3"
      ],
      "execution_count": null,
      "outputs": [
        {
          "output_type": "execute_result",
          "data": {
            "text/plain": [
              "array([0.36271907, 0.40971853])"
            ]
          },
          "metadata": {},
          "execution_count": 52
        }
      ]
    },
    {
      "cell_type": "markdown",
      "metadata": {
        "id": "Yz3zyFkaIdBH"
      },
      "source": [
        "**La precisión promedio en este caso no alcanza el 40%.**"
      ]
    },
    {
      "cell_type": "code",
      "metadata": {
        "colab": {
          "base_uri": "https://localhost:8080/"
        },
        "id": "_ADlzfPAgFN1",
        "outputId": "64c98ae6-6584-4fc1-fc2a-4e114cfc2be2"
      },
      "source": [
        "score3.mean()"
      ],
      "execution_count": null,
      "outputs": [
        {
          "output_type": "execute_result",
          "data": {
            "text/plain": [
              "0.386218799787573"
            ]
          },
          "metadata": {},
          "execution_count": 53
        }
      ]
    },
    {
      "cell_type": "markdown",
      "metadata": {
        "id": "rHnaZUFj-gro"
      },
      "source": [
        "En comparación con los modelos anteriores, **el algoritmo ensamblado no es ni el más rápido ni el más preciso**. Esto concuerda con las conclusiones alcanzadas para el anterior *dataset*, pues en aquel caso *AdaBoost* fue también el peor clasificador, aunque la discrepancia no fue tan marcada."
      ]
    },
    {
      "cell_type": "markdown",
      "metadata": {
        "id": "MzlYrf8g-g7c"
      },
      "source": [
        "###Matriz de confusión\n",
        "\n",
        "A continuación, con el objetivo de averiguar qué noticias se están clasificando mejor y con cuáles tiene más problemas el algoritmo, creamos la matriz de confusión:"
      ]
    },
    {
      "cell_type": "code",
      "metadata": {
        "colab": {
          "base_uri": "https://localhost:8080/",
          "height": 737
        },
        "id": "BVZLfZ-x-g7c",
        "outputId": "9e5bb6e4-b6b3-4e99-a068-e808026c225a"
      },
      "source": [
        "from sklearn.metrics import confusion_matrix, classification_report\n",
        "matriz=confusion_matrix(newsgroups_test.target, preds_test3)\n",
        "fig, ax = plt.subplots(figsize=(12,10))\n",
        "sn.heatmap(pd.DataFrame(matriz), \n",
        "           annot=True,fmt='g'\n",
        "           , xticklabels=newsgroups_test.target_names,yticklabels=newsgroups_test.target_names\n",
        "           )"
      ],
      "execution_count": null,
      "outputs": [
        {
          "output_type": "execute_result",
          "data": {
            "text/plain": [
              "<matplotlib.axes._subplots.AxesSubplot at 0x7f23aa7d36d0>"
            ]
          },
          "metadata": {},
          "execution_count": 54
        },
        {
          "output_type": "display_data",
          "data": {
            "image/png": "[encoded data removed]",
            "text/plain": [
              "<Figure size 864x720 with 2 Axes>"
            ]
          },
          "metadata": {
            "needs_background": "light"
          }
        }
      ]
    },
    {
      "cell_type": "markdown",
      "metadata": {
        "id": "aHIlM-9i-g7c"
      },
      "source": [
        "En la matriz, llama la atención la cantidad de falsos positivos de la categoría **sci.electronics**, así como **comp.windows.x**. En contraposición, los modelos anteriores no tuvieron grandes dificultades con las categorías relacionadas con electrónica y ordenadores."
      ]
    },
    {
      "cell_type": "markdown",
      "metadata": {
        "id": "Biz6o5L7-g7c"
      },
      "source": [
        "### *Classification report*\n",
        "\n",
        "En esta sección procedemos a aunar todos los resultados de la matriz de confusión para todas las categorías del *dataset* de validación:\n"
      ]
    },
    {
      "cell_type": "code",
      "metadata": {
        "colab": {
          "base_uri": "https://localhost:8080/"
        },
        "id": "ptcPBCx8-g7d",
        "outputId": "78d59247-103e-456d-af74-507970462e2d"
      },
      "source": [
        "print(f\"Informe de Clasificación:\\n\"\n",
        "      f\"{classification_report(newsgroups_test.target, preds_test3,target_names=newsgroups_test.target_names)}\")"
      ],
      "execution_count": null,
      "outputs": [
        {
          "output_type": "stream",
          "name": "stdout",
          "text": [
            "Informe de Clasificación:\n",
            "                          precision    recall  f1-score   support\n",
            "\n",
            "             alt.atheism       0.33      0.31      0.32       319\n",
            "           comp.graphics       0.22      0.21      0.22       389\n",
            " comp.os.ms-windows.misc       0.49      0.21      0.30       394\n",
            "comp.sys.ibm.pc.hardware       0.15      0.19      0.17       392\n",
            "   comp.sys.mac.hardware       0.41      0.32      0.36       385\n",
            "          comp.windows.x       0.15      0.26      0.19       395\n",
            "            misc.forsale       0.78      0.52      0.63       390\n",
            "               rec.autos       0.53      0.43      0.47       396\n",
            "         rec.motorcycles       0.81      0.51      0.63       398\n",
            "      rec.sport.baseball       0.53      0.50      0.51       397\n",
            "        rec.sport.hockey       0.83      0.45      0.58       399\n",
            "               sci.crypt       0.60      0.44      0.51       396\n",
            "         sci.electronics       0.12      0.38      0.19       393\n",
            "                 sci.med       0.22      0.36      0.27       396\n",
            "               sci.space       0.42      0.36      0.39       394\n",
            "  soc.religion.christian       0.73      0.57      0.64       398\n",
            "      talk.politics.guns       0.60      0.45      0.51       364\n",
            "   talk.politics.mideast       0.88      0.49      0.63       376\n",
            "      talk.politics.misc       0.44      0.41      0.42       310\n",
            "      talk.religion.misc       0.27      0.25      0.26       251\n",
            "\n",
            "                accuracy                           0.38      7532\n",
            "               macro avg       0.48      0.38      0.41      7532\n",
            "            weighted avg       0.48      0.38      0.41      7532\n",
            "\n"
          ]
        }
      ]
    },
    {
      "cell_type": "markdown",
      "metadata": {
        "id": "B0Xnl2N8-g7d"
      },
      "source": [
        "Profundizando en los resultados del clasificador, observamos un desempeño generalmente muy pobre, habiendo grandes discrepancias entre unas categorías y otras.\n",
        "\n",
        "Entre las clases que mejor son clasificadas se encuentran **soc.religion.christian**, **talk.politics.mideast** y **rec.motorcycles**. A pesar de ser las que tienen un mayor *F1 score* (superando el 60%), todas ellas presentan valores bastante pobres para el *recall*. Es decir, las noticias de estas tres categorías están siendo clasificadas como noticias de otro tipo en un gran número de instancias.\n",
        "\n",
        "Por el contrario, las noticias con un peor desempeño son **comp.sys.ibm.pc.hardware**, **comp.windows.x** y **sci.electronics**, todas ellas con un *F1 Score* inferior al 20%. Estas categorías abarcan noticias tecnológicas relacionadas con la computación y, si nos fijamos de nuevo en la matriz de confusión, comprobamos que están siendo mezcladas entre sí a la hora de ser clasificadas por el algoritmo."
      ]
    },
    {
      "cell_type": "markdown",
      "metadata": {
        "id": "RPFJVmEorpeG"
      },
      "source": [
        "| *Accuracy* sobre *test*|  Tiempo(s)  |\n",
        "|:----------------------:|:-----------:|\n",
        "|          38.6%         |    180      |   "
      ]
    },
    {
      "cell_type": "markdown",
      "metadata": {
        "id": "WLVvU9T5-qqQ"
      },
      "source": [
        "## Comparación entre modelos\n",
        "\n",
        "La siguiente tabla recoge los principales resultados alcanzados en esta sección:"
      ]
    },
    {
      "cell_type": "markdown",
      "metadata": {
        "id": "Hs_rmfm16msp"
      },
      "source": [
        "| Algoritmo        | *Accuracy* sobre *test*|  Tiempo(s)  |\n",
        "|------------------|:----------------------:|:-----------:|\n",
        "|  KNN             |          74.2%         |    0.01     |  \n",
        "|  Red neuronal    |         88.5%          |    2600     |   \n",
        "|  *AdaBoost*      |          38.6%         |    180      |"
      ]
    },
    {
      "cell_type": "markdown",
      "metadata": {
        "id": "Rm2YKsIo4MJt"
      },
      "source": [
        "El algoritmo **más preciso** es, por tanto, la **red neuronal**. Sin embargo, la implementación de este modelo acarrea un gran coste computacional ya que los tiempos de ejecución son varios órdenes de magnitud superiores a los del método KNN. A la hora de elegir entre ámbos métodos, habrá que tener en cuenta los beneficios y costes de cada uno de ellos. Si nuestras necesidades implican la máxima precisión, deberemos adoptar la red mientras que si lo que buscamos es un clasificador rápido, optaremos por el KNN.\n",
        "\n",
        "Además, al igual que sucedía con el *dataset* de *digits*, **el algoritmo ensamblado queda descartado** debido a su bajo rendimiento."
      ]
    },
    {
      "cell_type": "markdown",
      "metadata": {
        "id": "TGtlQh2_-iQG"
      },
      "source": [
        "# Conclusiones finales\n",
        "\n",
        "A lo largo de esta tarea, se han realizado un total de 6 implementaciones de 3 algoritmos diferentes sobre dos conjuntos de datos. En todas ellas se ha utilizado una *Grid Search* con la finalidad de averiguar la combinación de parámetros más óptima. Además, en todos los casos se han realizado los cálculos mediante el método de validación cruzada.\n",
        "\n",
        "A continuación se recogen los principales resultados:"
      ]
    },
    {
      "cell_type": "markdown",
      "metadata": {
        "id": "n936HSej7Zxq"
      },
      "source": [
        "| Algoritmo  |*Dataset*|*Accuracy* (*train*)| *Accuracy* (*test*)|Tiempo(s)|\n",
        "|------------|---------|:------------------:|:------------------:|:-------:|\n",
        "|KNN         |*Digits* |          95.7%     |  84.4%             |   0.01 | \n",
        "|Red neuronal|*Digits* |          95.0%     |  81.4%             |   0.57 |   \n",
        "|*AdaBoost*  |*Digits* |         81.8%      |  67.8%             | 1.8    |\n",
        "|KNN         |*20News* |          80.5%     |  74.2%             | 0.01   | \n",
        "|Red neuronal|*20News* |          88.9%     |  88.5%             | 2600   |   \n",
        "|*AdaBoost*  |*20News* |         45.5%      |  38.6%             | 180    |  "
      ]
    },
    {
      "cell_type": "markdown",
      "metadata": {
        "id": "CvxgG6rDtXcj"
      },
      "source": [
        "###¿Cómo afecta el *learner* a la eficacia de los resultados? ¿Cómo cambia la eficacia del *learner* en función del *set* de datos?\n",
        "\n",
        "Tras haber aplicado los mismos 3 algoritmos sobre dos conjuntos de datos diferentes, vemos que cada método implementado arroja resultados muy dispares tanto en precisión como en eficiencia. Así, para un mismo problema, es decir, trabajando sobre el mismo *dataset*, hemos comprobado que el método más rápido es con mucha diferencia KNN. \n",
        "\n",
        "Sin embargo, dependiendo del problema al que se aplique, el modelo KNN no es el más preciso a la hora de clasificar. Se tiene que, trabajando sobre un subconjunto más simple y reducido de apenas 64 atributos, este método es el que mayor precisión consigue alcanzar, superando ligeramente (3%) a la red neuronal.\n",
        "\n",
        "Por su parte, la red neuronal funciona muy bien en ambos *datasets*, superando el 80% de *accuracy* al ser aplicada sobre los dos subconjuntos de prueba. No obstante, el principal inconveniente de este método de aprendizaje automático es el coste computacional que acarrea. Así, implementando una única capa de dimensión 200, hemos comprobado que los tiempos de ejecución aumentan exponencialmente con el número de instancias del *subset* de entrenamiento, llegando a tardar más de 40 minutos en el segundo *dataset*, esto es, 3 órdenes de magnitud más que en el primer problema.\n",
        "\n",
        "Por último, el algoritmo ensamblado *AdaBoost* es el que peores resultados alcanza en ambas casuísticas. En concreto, para el segundo problema apenas somos capaces de clasificar correctamente el 40% de las observaciones. En cuanto a tiempos de ejecución, estos dependen del tamaño del conjunto de datos, pero no de manera tan pronunciada como en el caso de la red neuronal.  \n",
        "\n",
        "En definitiva, si lo que se busca es un **método eficiente que aporte una buena precisión con un bajo coste computacional**, se debe seleccionar el método **KNN**. Este método es además muy fácilmente parametrizable. Si no nos penaliza el coste computacional, entonces puede ser una buena idea implementar la **red neuronal**, sobre todo para ***datasets* más complejos** en los que KNN no es capaz de ajustarse lo suficiente. "
      ]
    }
  ]
}