{
  "nbformat": 4,
  "nbformat_minor": 0,
  "metadata": {
    "colab": {
      "name": "M7_AI1_AzabalAndrea.ipynb",
      "provenance": [],
      "collapsed_sections": [],
      "toc_visible": true
    },
    "kernelspec": {
      "name": "python3",
      "display_name": "Python 3"
    },
    "language_info": {
      "name": "python"
    }
  },
  "cells": [
    {
      "cell_type": "markdown",
      "metadata": {
        "id": "tW3jK_BDgjno"
      },
      "source": [
        "# **Aprendizaje Automático para Machine Learning**\n",
        "\n",
        "##Support Vector Machine - Reconocimiento de imágenes##\n",
        "\n",
        "###Andrea Azábal Lamoso###\n",
        "\n",
        "5 de julio de 2021\n",
        "\n",
        "---"
      ]
    },
    {
      "cell_type": "markdown",
      "metadata": {
        "id": "W_o9KYtnGUX_"
      },
      "source": [
        "#*Support Vector Machine*\n",
        "\n",
        "El objetivo de entrenar una SVM es construir un modelo que prediga una clase de una nueva muestra dado un conjunto de ejemplos de entrenamiento. Así, se separan las clases a $m$ espacios lo más amplios posibles mediante un hiperplano de separación definido como el vector entre los $m$ puntos de las $m$ clases más cercanos al que se llama *vector soporte*. \n",
        "\n",
        "Estos algoritmos son válidos incluso cuando la frontera entre las clases no es lineal o, lo que es lo mismo, los datos no son linealmente separables. La razón es que, mediante la introducción de *kernels*,  las SVM realizan una transformación no lineal del espacio de entrada de manera que pueda aplicarse un clasificador de vectores soporte por margen máximo. Los *kernels* más habituales son el lineal, el polinómico, el sigmoide y el radial (Gaussiano).\n",
        "\n",
        "De esta manera, se permiten una serie de *violaciones* al margen o hiperplano seleccionados, las cuales se determinan mediante el *parámetro de ajuste/afinación $C$* (**tuning**). \n",
        "\n",
        "En el algoritmo que vamos a aplicar, `SVC()` -*Support Vector Classifier*-, el hiperparámetro $C$ asigna una penalización a los puntos clasificados erróneamente, es decir, en el lado incorrecto del hiperplano. \n",
        "\n",
        "Si la penalización es baja, es decir, para valores bajos de $C$,  se tienen márgenes anchos que permiten mayores violaciones, incrementando el sesgo pero reduciendo la varianza. Esto conlleva a la generación de un modelo excesivamente simplista, que puede no ajustarse lo suficiente al *dataset* de entrenamiento (*underfitting*). \n",
        "\n",
        "Por el contrario, si $C$ es grande, las penalizaciones lo son también y existe un mayor ajuste al conjunto de datos, pudiendo incluso darse *overfitting*. En este caso se tienen márgenes estrechos que raramente son violados, lo que reduce el sesgo pero incrementa la varianza.\n",
        "\n",
        "El objetivo de esta entrega es implementar una SVM para dos *datasets*:\n",
        "\n",
        "- MNIST\n",
        "- Fashion-MNIST\n",
        "\n",
        "Para cada uno de ellos se implementará tanto un *kernel* lineal como uno Gaussiano con el objetivo de obtener la mejor especificación del modelo que arroje las predicciones más precisas.\n"
      ]
    },
    {
      "cell_type": "markdown",
      "metadata": {
        "id": "5zZfGqOugjnr"
      },
      "source": [
        "# Preparación del entorno\n",
        "\n",
        "Importamos los paquetes necesarios:"
      ]
    },
    {
      "cell_type": "code",
      "metadata": {
        "id": "JiKiPQdQgjnu"
      },
      "source": [
        "import pandas as pd\n",
        "import numpy as np\n",
        "import seaborn as sn\n",
        "import re\n",
        "import matplotlib.pyplot as plt"
      ],
      "execution_count": null,
      "outputs": []
    },
    {
      "cell_type": "code",
      "metadata": {
        "id": "0Ksll3khqLvN"
      },
      "source": [
        "from time import time\n",
        "import datetime\n",
        "from sklearn.svm import SVC\n",
        "from sklearn.model_selection import learning_curve,GridSearchCV\n",
        "from sklearn.metrics import confusion_matrix,classification_report\n",
        "import tensorflow as tf"
      ],
      "execution_count": null,
      "outputs": []
    },
    {
      "cell_type": "markdown",
      "metadata": {
        "id": "EljLebnxgjqM"
      },
      "source": [
        "# *Dataset MNIST*\n",
        "\n",
        "El primer conjunto de datos está compuesto por dígitos de MNIST (Modified-NIST, del Instituto Nacional de Estándares y Tecnología de EEUU). Disponemos de la siguiente información:\n",
        "\n",
        "- X_train: array de 60.000x28x28, donde cada celda representa un pixel de las diferentes imágenes. Es decir, que tenemos un set de entrenamiento de 60.000 dígitos de 28x28 píxeles (784 pixels) cada uno. Los valores de cada celda representan el código RGB en escala de grises de los diferentes píxeles (0 es blanco y 255 es negro). \n",
        "- Y_train: array de 60.000 filas, donde cada fila tiene el valor entero del dígito de la imagen. \n",
        "- X_test: array de 10.000x28x28, donde cada celda representa un pixel de las diferentes imágenes. Es decir, que tenemos un set de test de 10.000 dígitos de 28x28 píxeles (784 pixels) cada uno. Los valores de cada celda representan el código RGB en escala de grises de los diferentes píxeles (0 es blanco y 255 es negro). \n",
        "- Y_test: array de 10.000 filas, donde cada fila tiene el valor entero del dígito de la imagen.\n",
        "\n",
        "\n"
      ]
    },
    {
      "cell_type": "markdown",
      "metadata": {
        "id": "agzSjaAaBdFH"
      },
      "source": [
        "Importamos el conjunto de datos desde *TensorFlow*:"
      ]
    },
    {
      "cell_type": "code",
      "metadata": {
        "id": "EkGVgsFtgjqN",
        "colab": {
          "base_uri": "https://localhost:8080/"
        },
        "outputId": "0fc854cc-9db5-41c3-a12d-7cb4ab95a043"
      },
      "source": [
        "(x_train, y_train), (x_test, y_test) = tf.keras.datasets.mnist.load_data()"
      ],
      "execution_count": null,
      "outputs": [
        {
          "output_type": "stream",
          "text": [
            "Downloading data from https://storage.googleapis.com/tensorflow/tf-keras-datasets/mnist.npz\n",
            "11493376/11490434 [==============================] - 0s 0us/step\n"
          ],
          "name": "stdout"
        }
      ]
    },
    {
      "cell_type": "markdown",
      "metadata": {
        "id": "mjsmvJGnBkKg"
      },
      "source": [
        "Nos valemos de la función `reshape()` para almacenar una única línea (de 28x28=784 columnas) por cada imagen:"
      ]
    },
    {
      "cell_type": "code",
      "metadata": {
        "id": "ono-fCBHVSDh"
      },
      "source": [
        "x_train = x_train.reshape(60000,-1)\n",
        "x_test = x_test.reshape(10000,-1)"
      ],
      "execution_count": null,
      "outputs": []
    },
    {
      "cell_type": "code",
      "metadata": {
        "colab": {
          "base_uri": "https://localhost:8080/"
        },
        "id": "TVT9jd-qx0of",
        "outputId": "db0a81f4-80dc-4560-e670-515a858a3490"
      },
      "source": [
        "print(x_train.shape)\n",
        "print(x_test.shape)"
      ],
      "execution_count": null,
      "outputs": [
        {
          "output_type": "stream",
          "text": [
            "(60000, 784)\n",
            "(10000, 784)\n"
          ],
          "name": "stdout"
        }
      ]
    },
    {
      "cell_type": "markdown",
      "metadata": {
        "id": "Bdl0oQUVXhhj"
      },
      "source": [
        "A continuación se ha representado una muestra de las categorías contenidas en el *dataset* con sus imágenes correspondientes:"
      ]
    },
    {
      "cell_type": "code",
      "metadata": {
        "id": "8zcGCbLRYRmZ"
      },
      "source": [
        "y_u=pd.DataFrame(y_train).drop_duplicates()\n",
        "X_u=x_train[y_u[0].sort_values().index]"
      ],
      "execution_count": null,
      "outputs": []
    },
    {
      "cell_type": "code",
      "metadata": {
        "colab": {
          "base_uri": "https://localhost:8080/",
          "height": 118
        },
        "id": "6GCJno_inB8H",
        "outputId": "ef602fad-4448-4bb9-d0ca-6260801a4474"
      },
      "source": [
        "_, axes = plt.subplots(nrows=1, ncols=10, figsize=(15, 15))\n",
        "for ax, image, label in zip(axes, X_u, y_u[0].sort_values()):\n",
        "    ax.set_axis_off()\n",
        "    image = image.reshape(28, 28)\n",
        "    ax.imshow(image, cmap=plt.cm.gray_r, interpolation='nearest')\n",
        "    ax.set_title('Número: %i' % label)"
      ],
      "execution_count": null,
      "outputs": [
        {
          "output_type": "display_data",
          "data": {
            "image/png": "[encoded data removed]",
            "text/plain": [
              "<Figure size 1080x1080 with 10 Axes>"
            ]
          },
          "metadata": {
            "tags": [],
            "needs_background": "light"
          }
        }
      ]
    },
    {
      "cell_type": "markdown",
      "metadata": {
        "id": "vn1aVQxzb9_o"
      },
      "source": [
        "##Modelización\n",
        "\n",
        "A lo largo de la tarea, con el objetivo de obtener tiempos computacionales razonables, se va a seleccionar un subconjunto de 20.000 dígitos para el entrenamiento del modelo y 10.000 para la evaluación del mismo.\n",
        "\n"
      ]
    },
    {
      "cell_type": "code",
      "metadata": {
        "id": "sc1yZCtyyQ45"
      },
      "source": [
        "n_train = 20000 # digitos a usar en entrenamiento\n",
        "x_train1=x_train[0:n_train]\n",
        "y_train1=y_train[0:n_train]\n",
        "n_test = 10000 # digitos a usar en testing\n",
        "x_test1=x_test[0:n_test]\n",
        "y_test1=y_test[0:n_test]"
      ],
      "execution_count": null,
      "outputs": []
    },
    {
      "cell_type": "markdown",
      "metadata": {
        "id": "LR9AfYZsctlc"
      },
      "source": [
        "Podemos comprobar qué porcentaje del total supone cada dígito:"
      ]
    },
    {
      "cell_type": "code",
      "metadata": {
        "colab": {
          "base_uri": "https://localhost:8080/"
        },
        "id": "_DsngqQjcAd8",
        "outputId": "88d726a0-8ee1-4478-f4cb-8d94afaddf11"
      },
      "source": [
        "pd.Series(y_train1).value_counts()/20000"
      ],
      "execution_count": null,
      "outputs": [
        {
          "output_type": "execute_result",
          "data": {
            "text/plain": [
              "1    0.11405\n",
              "7    0.10465\n",
              "3    0.10380\n",
              "9    0.10070\n",
              "0    0.09970\n",
              "6    0.09855\n",
              "4    0.09725\n",
              "2    0.09645\n",
              "8    0.09610\n",
              "5    0.08875\n",
              "dtype: float64"
            ]
          },
          "metadata": {
            "tags": []
          },
          "execution_count": 7
        }
      ]
    },
    {
      "cell_type": "markdown",
      "metadata": {
        "id": "lHdIg9KhcyiS"
      },
      "source": [
        "Vemos que el número más abundante es el 1 en este *dataset* (11% de las observaciones), mientras que el menos repetido es el 5 (9%). Es un *dataset* bastante balanceado.\n",
        "\n",
        "Finalmente, como sabemos que cada píxel puede tomar valores entre 0 y 255, vamos a transformar los datos a tipo *float* y normalizar los valores dividiendo por su valor máximo."
      ]
    },
    {
      "cell_type": "code",
      "metadata": {
        "colab": {
          "base_uri": "https://localhost:8080/"
        },
        "id": "S0bQbFQNFsXY",
        "outputId": "864bc002-f41c-45be-ec08-4e0491cb7396"
      },
      "source": [
        "x_train1.max()"
      ],
      "execution_count": null,
      "outputs": [
        {
          "output_type": "execute_result",
          "data": {
            "text/plain": [
              "255"
            ]
          },
          "metadata": {
            "tags": []
          },
          "execution_count": 8
        }
      ]
    },
    {
      "cell_type": "code",
      "metadata": {
        "id": "JuDBBo6tFqHC"
      },
      "source": [
        "# convert from integers to floats\n",
        "x_train1 = x_train1.astype('float32')\n",
        "x_test1 = x_test1.astype('float32')\n",
        "# normalize to range 0-1\n",
        "x_train1 = x_train1 / 255.0\n",
        "x_test1 = x_test1 / 255.0"
      ],
      "execution_count": null,
      "outputs": []
    },
    {
      "cell_type": "markdown",
      "metadata": {
        "id": "tANVcHmtp6_m"
      },
      "source": [
        "Comprobamos que el nuevo máximo es 1:"
      ]
    },
    {
      "cell_type": "code",
      "metadata": {
        "colab": {
          "base_uri": "https://localhost:8080/"
        },
        "id": "5KYYIm5aoplC",
        "outputId": "9b50d2a7-c88e-47af-9cf8-4f50e301c035"
      },
      "source": [
        "x_train1.max()"
      ],
      "execution_count": null,
      "outputs": [
        {
          "output_type": "execute_result",
          "data": {
            "text/plain": [
              "1.0"
            ]
          },
          "metadata": {
            "tags": []
          },
          "execution_count": 10
        }
      ]
    },
    {
      "cell_type": "markdown",
      "metadata": {
        "id": "1WA5QAATeHeQ"
      },
      "source": [
        "###*Kernel* lineal\n",
        "\n",
        "A la hora de realizar el entrenamiento del modelo, vamos a comenzar por parametrizar un *kernel* lineal. Además, se van a probar diferentes valores del parámetro $C$ introducido previamente. Como ya se ha argumentado, este parámetro es inversamente proporcional al número de violaciones del margen permitidas o, lo que es lo mismo, el número de observaciones que pueden ser clasificadas erróneamente. El resto de parámetros tomarán sus valores por defecto.\n",
        "\n"
      ]
    },
    {
      "cell_type": "code",
      "metadata": {
        "colab": {
          "base_uri": "https://localhost:8080/"
        },
        "id": "8zfcXayaSYHS",
        "outputId": "93f817be-493d-4d9c-d128-01fd32fd7a50"
      },
      "source": [
        "minAcc = 100\n",
        "maxAcc = 0\n",
        "rapidoAcc = 0\n",
        "lentoAcc = 0\n",
        "mejorTime = 0\n",
        "peorTime = 0\n",
        "minTime = 1000000000\n",
        "maxTime = 0\n",
        "\n",
        "mejorModelo = SVC()\n",
        "peorModelo = SVC()\n",
        "rapidoModelo = SVC()\n",
        "lentoModelo = SVC()\n",
        "\n",
        "kernel = \"linear\"\n",
        "\n",
        "for c in (1, 10, 100, 1000):\n",
        "  print(\"Kernel lineal con C=\", c)\n",
        "  \n",
        "  timeIni = time()\n",
        "  modelo = SVC(kernel = kernel, C=c).fit(x_train1,y_train1)\n",
        "  print(modelo)\n",
        "  timeEnd = time()\n",
        "  timeDiff = datetime.datetime.fromtimestamp(timeEnd-timeIni).strftime(\"%M:%S:%f\")\n",
        "\n",
        "  acc_1 = modelo.score(x_train1, y_train1)\n",
        "  acc_2 = modelo.score(x_test1, y_test1)\n",
        "  print(\"Precisión train (accuracy): \", acc_1)\n",
        "  print(\"Precisión test (accuracy): \", acc_2)\n",
        "  print(\"Tiempo entrenamiento: \", timeDiff)\n",
        "\n",
        "  predicciones = modelo.predict(x_test1)\n",
        "  print(\"Matriz de confusión:\")\n",
        "  print(confusion_matrix(y_test1, predicciones))\n",
        "  print(classification_report(y_test1, predicciones))\n",
        "  print(\"---------------------------------------\")\n",
        "  print()\n",
        "\n",
        "  if (maxAcc < acc_2):\n",
        "      maxAcc = acc_2\n",
        "      mejorTime = timeEnd-timeIni\n",
        "      mejorModelo = modelo\n",
        "\n",
        "  if (minAcc > acc_2):\n",
        "      minAcc = acc_2\n",
        "      peorTime = timeEnd-timeIni\n",
        "      peorModelo = modelo\n",
        "\n",
        "  if (timeEnd-timeIni > maxTime):\n",
        "      lentoAcc = acc_2\n",
        "      maxTime = timeEnd-timeIni\n",
        "      lentoModelo = modelo\n",
        "\n",
        "  if (timeEnd-timeIni < minTime):\n",
        "      rapidoAcc = acc_2\n",
        "      minTime = timeEnd-timeIni\n",
        "      rapidoModelo = modelo"
      ],
      "execution_count": null,
      "outputs": [
        {
          "output_type": "stream",
          "text": [
            "Kernel lineal con C= 1\n",
            "SVC(C=1, break_ties=False, cache_size=200, class_weight=None, coef0=0.0,\n",
            "    decision_function_shape='ovr', degree=3, gamma='scale', kernel='linear',\n",
            "    max_iter=-1, probability=False, random_state=None, shrinking=True,\n",
            "    tol=0.001, verbose=False)\n",
            "Precisión train (accuracy):  0.9891\n",
            "Precisión test (accuracy):  0.9257\n",
            "Tiempo entrenamiento:  01:08:259303\n",
            "Matriz de confusión:\n",
            "[[ 951    0    4    3    0   11    8    1    1    1]\n",
            " [   0 1118    3    3    1    2    1    1    6    0]\n",
            " [   8    7  952   16    4    3    9   12   17    4]\n",
            " [   4    4   21  924    1   20    0   11   20    5]\n",
            " [   0    0    8    2  931    1    9    6    2   23]\n",
            " [  14    5    6   41    7  780   10    2   24    3]\n",
            " [   9    3   14    0    7   13  911    1    0    0]\n",
            " [   2    9   22   13   17    0    0  943    0   22]\n",
            " [   9    7   16   31   10   33    8    6  846    8]\n",
            " [  11    8    2   14   35    4    1   26    7  901]]\n",
            "              precision    recall  f1-score   support\n",
            "\n",
            "           0       0.94      0.97      0.96       980\n",
            "           1       0.96      0.99      0.97      1135\n",
            "           2       0.91      0.92      0.92      1032\n",
            "           3       0.88      0.91      0.90      1010\n",
            "           4       0.92      0.95      0.93       982\n",
            "           5       0.90      0.87      0.89       892\n",
            "           6       0.95      0.95      0.95       958\n",
            "           7       0.93      0.92      0.93      1028\n",
            "           8       0.92      0.87      0.89       974\n",
            "           9       0.93      0.89      0.91      1009\n",
            "\n",
            "    accuracy                           0.93     10000\n",
            "   macro avg       0.93      0.92      0.92     10000\n",
            "weighted avg       0.93      0.93      0.93     10000\n",
            "\n",
            "---------------------------------------\n",
            "\n",
            "Kernel lineal con C= 10\n",
            "SVC(C=10, break_ties=False, cache_size=200, class_weight=None, coef0=0.0,\n",
            "    decision_function_shape='ovr', degree=3, gamma='scale', kernel='linear',\n",
            "    max_iter=-1, probability=False, random_state=None, shrinking=True,\n",
            "    tol=0.001, verbose=False)\n",
            "Precisión train (accuracy):  0.9988\n",
            "Precisión test (accuracy):  0.9162\n",
            "Tiempo entrenamiento:  01:10:698510\n",
            "Matriz de confusión:\n",
            "[[ 953    0    4    2    0   12    6    1    1    1]\n",
            " [   0 1122    2    3    1    2    1    0    4    0]\n",
            " [  10    9  937   22    5    2   11   10   22    4]\n",
            " [   6    4   24  910    3   30    0    9   19    5]\n",
            " [   0    0    9    3  925    1    8    6    2   28]\n",
            " [  13    5    8   51    7  767   12    2   24    3]\n",
            " [   8    3   12    1    7   15  910    1    1    0]\n",
            " [   2    9   23   15   12    0    0  939    0   28]\n",
            " [   9    9   21   44   10   40    7    8  819    7]\n",
            " [  11    8    3   15   39    4    1   39    9  880]]\n",
            "              precision    recall  f1-score   support\n",
            "\n",
            "           0       0.94      0.97      0.96       980\n",
            "           1       0.96      0.99      0.97      1135\n",
            "           2       0.90      0.91      0.90      1032\n",
            "           3       0.85      0.90      0.88      1010\n",
            "           4       0.92      0.94      0.93       982\n",
            "           5       0.88      0.86      0.87       892\n",
            "           6       0.95      0.95      0.95       958\n",
            "           7       0.93      0.91      0.92      1028\n",
            "           8       0.91      0.84      0.87       974\n",
            "           9       0.92      0.87      0.90      1009\n",
            "\n",
            "    accuracy                           0.92     10000\n",
            "   macro avg       0.92      0.91      0.91     10000\n",
            "weighted avg       0.92      0.92      0.92     10000\n",
            "\n",
            "---------------------------------------\n",
            "\n",
            "Kernel lineal con C= 100\n",
            "SVC(C=100, break_ties=False, cache_size=200, class_weight=None, coef0=0.0,\n",
            "    decision_function_shape='ovr', degree=3, gamma='scale', kernel='linear',\n",
            "    max_iter=-1, probability=False, random_state=None, shrinking=True,\n",
            "    tol=0.001, verbose=False)\n",
            "Precisión train (accuracy):  1.0\n",
            "Precisión test (accuracy):  0.9143\n",
            "Tiempo entrenamiento:  01:10:730448\n",
            "Matriz de confusión:\n",
            "[[ 953    0    4    2    0   12    6    1    1    1]\n",
            " [   0 1123    3    2    0    2    1    0    4    0]\n",
            " [  10    9  938   23    6    2   11    8   22    3]\n",
            " [   6    4   26  905    3   34    0    9   18    5]\n",
            " [   0    0    9    3  927    1    8    7    2   25]\n",
            " [  13    5    8   55    7  763   12    1   25    3]\n",
            " [   8    3   13    1    7   14  910    1    1    0]\n",
            " [   2   10   23   13   12    0    0  940    0   28]\n",
            " [   9   10   23   50   10   40    8    6  810    8]\n",
            " [  11    8    1   15   44    4    1   43    8  874]]\n",
            "              precision    recall  f1-score   support\n",
            "\n",
            "           0       0.94      0.97      0.96       980\n",
            "           1       0.96      0.99      0.97      1135\n",
            "           2       0.90      0.91      0.90      1032\n",
            "           3       0.85      0.90      0.87      1010\n",
            "           4       0.91      0.94      0.93       982\n",
            "           5       0.88      0.86      0.87       892\n",
            "           6       0.95      0.95      0.95       958\n",
            "           7       0.93      0.91      0.92      1028\n",
            "           8       0.91      0.83      0.87       974\n",
            "           9       0.92      0.87      0.89      1009\n",
            "\n",
            "    accuracy                           0.91     10000\n",
            "   macro avg       0.91      0.91      0.91     10000\n",
            "weighted avg       0.91      0.91      0.91     10000\n",
            "\n",
            "---------------------------------------\n",
            "\n",
            "Kernel lineal con C= 1000\n",
            "SVC(C=1000, break_ties=False, cache_size=200, class_weight=None, coef0=0.0,\n",
            "    decision_function_shape='ovr', degree=3, gamma='scale', kernel='linear',\n",
            "    max_iter=-1, probability=False, random_state=None, shrinking=True,\n",
            "    tol=0.001, verbose=False)\n",
            "Precisión train (accuracy):  1.0\n",
            "Precisión test (accuracy):  0.9143\n",
            "Tiempo entrenamiento:  01:11:037950\n",
            "Matriz de confusión:\n",
            "[[ 953    0    4    2    0   12    6    1    1    1]\n",
            " [   0 1123    3    2    0    2    1    0    4    0]\n",
            " [  10    9  938   23    6    2   11    8   22    3]\n",
            " [   6    4   26  905    3   34    0    9   18    5]\n",
            " [   0    0    9    3  927    1    8    7    2   25]\n",
            " [  13    5    8   55    7  763   12    1   25    3]\n",
            " [   8    3   13    1    7   14  910    1    1    0]\n",
            " [   2   10   23   13   12    0    0  940    0   28]\n",
            " [   9   10   23   50   10   40    8    6  810    8]\n",
            " [  11    8    1   15   44    4    1   43    8  874]]\n",
            "              precision    recall  f1-score   support\n",
            "\n",
            "           0       0.94      0.97      0.96       980\n",
            "           1       0.96      0.99      0.97      1135\n",
            "           2       0.90      0.91      0.90      1032\n",
            "           3       0.85      0.90      0.87      1010\n",
            "           4       0.91      0.94      0.93       982\n",
            "           5       0.88      0.86      0.87       892\n",
            "           6       0.95      0.95      0.95       958\n",
            "           7       0.93      0.91      0.92      1028\n",
            "           8       0.91      0.83      0.87       974\n",
            "           9       0.92      0.87      0.89      1009\n",
            "\n",
            "    accuracy                           0.91     10000\n",
            "   macro avg       0.91      0.91      0.91     10000\n",
            "weighted avg       0.91      0.91      0.91     10000\n",
            "\n",
            "---------------------------------------\n",
            "\n"
          ],
          "name": "stdout"
        }
      ]
    },
    {
      "cell_type": "markdown",
      "metadata": {
        "id": "gZLlBsfHvFD-"
      },
      "source": [
        "Vemos que, según va aumentando $C$, la precisión sobre el subconjunto de entrenamiento va aumentando ligeramente, como cabría esperar pues las penalizaciones asignadas a cada punto erróneo van aumentando y, por tanto, se están permitiendo menos violaciones del margen. Si únicamente nos fijásemos en este parámetro, entonces elegiríamos el modelo con $C=100$ pues es el que tiene un *accuracy* del 100%. Sin embargo, estaríamos llegando a una conclusión errónea, pues hay que asegurarse de que no estamos generando *overfitting*.\n",
        "\n",
        "Así, vemos que sucede lo contrario con la precisión sobre el subconjunto de *test*, pues esta va disminuyendo desde un 92.6% hasta un 91.4% según sube el valor de $C$. La diferencia no es muy significativa, pero si nos fijamos en los tiempos de ejecución, vemos que hay 3s de diferencia entre el modelo más rápido y el más lento, siendo $C=1$ el mejor de entre los 4 planteados tanto en precisión como en tiempos de ejecución. Para valores $C>1$ estaríamos generando cierto *overfitting*, pues el algoritmo pierde capacidad de generalización de las predicciones sobre nuevos *datasets*.\n",
        "\n",
        "Por tanto, concluimos que **para el *kernel* lineal, el modelo óptimo es aquel con $C=1$.**\n",
        "\n",
        "Por último, si nos fijamos en las matrices de confusión, vemos que son muy similares entre los distintos modelos, puesto que, aunque sí que cambian los resultados del *F1-Score* por categoría de un modelo a otro, las precisiones de cada clase son siempre superiores al 85%."
      ]
    },
    {
      "cell_type": "markdown",
      "metadata": {
        "id": "CNgZnx4chRDO"
      },
      "source": [
        "### *Kernel* radial o *Gaussiano*\n",
        "\n",
        "En esta segunda parametrización, vamos a proceder de manera idéntica pero cambiando el *kernel* lineal por el *Gaussiano* `kernel='rbf'`. El resto de parámetros se dejan por defecto con el fin de obtener unos tiempos de computación razonables."
      ]
    },
    {
      "cell_type": "code",
      "metadata": {
        "colab": {
          "base_uri": "https://localhost:8080/"
        },
        "id": "JYieM9boYH63",
        "outputId": "1c01a236-8d93-46aa-bc27-20e45311eb85"
      },
      "source": [
        "kernel = \"rbf\"\n",
        "\n",
        "for c in (1, 10, 100, 1000):\n",
        "    print(\"Kernel Gaussiano con C \", c)\n",
        "    timeIni = time()\n",
        "    modelo = SVC(kernel = kernel , C=c).fit(x_train1,y_train1)\n",
        "    print(modelo)\n",
        "    timeEnd = time()\n",
        "    timeDiff = datetime.datetime.fromtimestamp(timeEnd-timeIni).strftime(\"%M:%S:%f\")\n",
        "\n",
        "    acc_1 = modelo.score(x_train1, y_train1)\n",
        "    acc_2 = modelo.score(x_test1, y_test1)\n",
        "    print(\"Precisión train (accuracy): \", acc_1)\n",
        "    print(\"Precisión test (accuracy): \", acc_2)\n",
        "    print(\"Tiempo entrenamiento: \", timeDiff)\n",
        "\n",
        "    predicciones = modelo.predict(x_test1)\n",
        "    print(\"Matriz de confusión:\")\n",
        "    print(confusion_matrix(y_test1, predicciones))\n",
        "    print(classification_report(y_test1, predicciones))\n",
        "    print(\"---------------------------------------\")\n",
        "    print()\n",
        "\n",
        "    if (maxAcc < acc_2):\n",
        "      maxAcc = acc_2\n",
        "      mejorTime = timeEnd-timeIni\n",
        "      mejorModelo = modelo\n",
        "\n",
        "    if (minAcc > acc_2):\n",
        "      minAcc = acc_2\n",
        "      peorTime = timeEnd-timeIni\n",
        "      peorModelo = modelo\n",
        "\n",
        "    if (timeEnd-timeIni > maxTime):\n",
        "      lentoAcc = acc_2\n",
        "      maxTime = timeEnd-timeIni\n",
        "      lentoModelo = modelo\n",
        "\n",
        "    if (timeEnd-timeIni < minTime):\n",
        "      rapidoAcc = acc_2\n",
        "      minTime = timeEnd-timeIni\n",
        "      rapidoModelo = modelo"
      ],
      "execution_count": null,
      "outputs": [
        {
          "output_type": "stream",
          "text": [
            "Kernel Gaussiano con C  1\n",
            "SVC(C=1, break_ties=False, cache_size=200, class_weight=None, coef0=0.0,\n",
            "    decision_function_shape='ovr', degree=3, gamma='scale', kernel='rbf',\n",
            "    max_iter=-1, probability=False, random_state=None, shrinking=True,\n",
            "    tol=0.001, verbose=False)\n",
            "Precisión train (accuracy):  0.98765\n",
            "Precisión test (accuracy):  0.9695\n",
            "Tiempo entrenamiento:  01:44:874406\n",
            "Matriz de confusión:\n",
            "[[ 969    0    1    0    0    3    4    1    2    0]\n",
            " [   0 1124    3    2    0    2    1    1    2    0]\n",
            " [   5    0 1001    1    4    0    2   10    9    0]\n",
            " [   0    0    5  982    0    5    0    9    7    2]\n",
            " [   1    0    3    0  955    0    6    1    2   14]\n",
            " [   5    1    0   14    1  856    6    1    6    2]\n",
            " [   8    3    0    1    2    5  937    0    2    0]\n",
            " [   0   11   16    7    2    0    0  980    0   12]\n",
            " [   4    0    3   12    4    8    2    4  935    2]\n",
            " [   5    6    2    8   17    1    0    8    6  956]]\n",
            "              precision    recall  f1-score   support\n",
            "\n",
            "           0       0.97      0.99      0.98       980\n",
            "           1       0.98      0.99      0.99      1135\n",
            "           2       0.97      0.97      0.97      1032\n",
            "           3       0.96      0.97      0.96      1010\n",
            "           4       0.97      0.97      0.97       982\n",
            "           5       0.97      0.96      0.97       892\n",
            "           6       0.98      0.98      0.98       958\n",
            "           7       0.97      0.95      0.96      1028\n",
            "           8       0.96      0.96      0.96       974\n",
            "           9       0.97      0.95      0.96      1009\n",
            "\n",
            "    accuracy                           0.97     10000\n",
            "   macro avg       0.97      0.97      0.97     10000\n",
            "weighted avg       0.97      0.97      0.97     10000\n",
            "\n",
            "---------------------------------------\n",
            "\n",
            "Kernel Gaussiano con C  10\n",
            "SVC(C=10, break_ties=False, cache_size=200, class_weight=None, coef0=0.0,\n",
            "    decision_function_shape='ovr', degree=3, gamma='scale', kernel='rbf',\n",
            "    max_iter=-1, probability=False, random_state=None, shrinking=True,\n",
            "    tol=0.001, verbose=False)\n",
            "Precisión train (accuracy):  0.9999\n",
            "Precisión test (accuracy):  0.9767\n",
            "Tiempo entrenamiento:  01:35:708721\n",
            "Matriz de confusión:\n",
            "[[ 970    0    2    1    0    2    2    1    2    0]\n",
            " [   0 1128    4    0    0    1    2    0    0    0]\n",
            " [   4    1 1009    0    2    0    2    9    5    0]\n",
            " [   0    0    2  990    0    5    0    6    5    2]\n",
            " [   1    0    2    0  960    0    4    1    2   12]\n",
            " [   3    1    0   12    2  861    7    1    3    2]\n",
            " [   6    3    1    0    2    5  939    0    2    0]\n",
            " [   0   12   10    3    3    0    0  990    1    9]\n",
            " [   3    1    2    5    3    5    1    3  949    2]\n",
            " [   3    2    1    7   12    2    0   10    1  971]]\n",
            "              precision    recall  f1-score   support\n",
            "\n",
            "           0       0.98      0.99      0.98       980\n",
            "           1       0.98      0.99      0.99      1135\n",
            "           2       0.98      0.98      0.98      1032\n",
            "           3       0.97      0.98      0.98      1010\n",
            "           4       0.98      0.98      0.98       982\n",
            "           5       0.98      0.97      0.97       892\n",
            "           6       0.98      0.98      0.98       958\n",
            "           7       0.97      0.96      0.97      1028\n",
            "           8       0.98      0.97      0.98       974\n",
            "           9       0.97      0.96      0.97      1009\n",
            "\n",
            "    accuracy                           0.98     10000\n",
            "   macro avg       0.98      0.98      0.98     10000\n",
            "weighted avg       0.98      0.98      0.98     10000\n",
            "\n",
            "---------------------------------------\n",
            "\n",
            "Kernel Gaussiano con C  100\n",
            "SVC(C=100, break_ties=False, cache_size=200, class_weight=None, coef0=0.0,\n",
            "    decision_function_shape='ovr', degree=3, gamma='scale', kernel='rbf',\n",
            "    max_iter=-1, probability=False, random_state=None, shrinking=True,\n",
            "    tol=0.001, verbose=False)\n",
            "Precisión train (accuracy):  1.0\n",
            "Precisión test (accuracy):  0.9764\n",
            "Tiempo entrenamiento:  01:36:382210\n",
            "Matriz de confusión:\n",
            "[[ 970    0    2    1    0    2    2    1    2    0]\n",
            " [   0 1128    4    0    0    1    2    0    0    0]\n",
            " [   4    1 1009    0    2    0    2    9    5    0]\n",
            " [   0    0    2  990    0    5    0    6    5    2]\n",
            " [   1    0    2    0  960    0    4    1    2   12]\n",
            " [   3    1    0   12    2  861    7    1    3    2]\n",
            " [   6    3    1    0    2    5  939    0    2    0]\n",
            " [   0   12   10    3    3    0    0  989    1   10]\n",
            " [   3    1    2    6    3    4    1    3  949    2]\n",
            " [   3    3    1    7   13    2    0   10    1  969]]\n",
            "              precision    recall  f1-score   support\n",
            "\n",
            "           0       0.98      0.99      0.98       980\n",
            "           1       0.98      0.99      0.99      1135\n",
            "           2       0.98      0.98      0.98      1032\n",
            "           3       0.97      0.98      0.98      1010\n",
            "           4       0.97      0.98      0.98       982\n",
            "           5       0.98      0.97      0.97       892\n",
            "           6       0.98      0.98      0.98       958\n",
            "           7       0.97      0.96      0.97      1028\n",
            "           8       0.98      0.97      0.98       974\n",
            "           9       0.97      0.96      0.97      1009\n",
            "\n",
            "    accuracy                           0.98     10000\n",
            "   macro avg       0.98      0.98      0.98     10000\n",
            "weighted avg       0.98      0.98      0.98     10000\n",
            "\n",
            "---------------------------------------\n",
            "\n",
            "Kernel Gaussiano con C  1000\n",
            "SVC(C=1000, break_ties=False, cache_size=200, class_weight=None, coef0=0.0,\n",
            "    decision_function_shape='ovr', degree=3, gamma='scale', kernel='rbf',\n",
            "    max_iter=-1, probability=False, random_state=None, shrinking=True,\n",
            "    tol=0.001, verbose=False)\n",
            "Precisión train (accuracy):  1.0\n",
            "Precisión test (accuracy):  0.9764\n",
            "Tiempo entrenamiento:  01:36:301601\n",
            "Matriz de confusión:\n",
            "[[ 970    0    2    1    0    2    2    1    2    0]\n",
            " [   0 1128    4    0    0    1    2    0    0    0]\n",
            " [   4    1 1009    0    2    0    2    9    5    0]\n",
            " [   0    0    2  990    0    5    0    6    5    2]\n",
            " [   1    0    2    0  960    0    4    1    2   12]\n",
            " [   3    1    0   12    2  861    7    1    3    2]\n",
            " [   6    3    1    0    2    5  939    0    2    0]\n",
            " [   0   12   10    3    3    0    0  989    1   10]\n",
            " [   3    1    2    6    3    4    1    3  949    2]\n",
            " [   3    3    1    7   13    2    0   10    1  969]]\n",
            "              precision    recall  f1-score   support\n",
            "\n",
            "           0       0.98      0.99      0.98       980\n",
            "           1       0.98      0.99      0.99      1135\n",
            "           2       0.98      0.98      0.98      1032\n",
            "           3       0.97      0.98      0.98      1010\n",
            "           4       0.97      0.98      0.98       982\n",
            "           5       0.98      0.97      0.97       892\n",
            "           6       0.98      0.98      0.98       958\n",
            "           7       0.97      0.96      0.97      1028\n",
            "           8       0.98      0.97      0.98       974\n",
            "           9       0.97      0.96      0.97      1009\n",
            "\n",
            "    accuracy                           0.98     10000\n",
            "   macro avg       0.98      0.98      0.98     10000\n",
            "weighted avg       0.98      0.98      0.98     10000\n",
            "\n",
            "---------------------------------------\n",
            "\n"
          ],
          "name": "stdout"
        }
      ]
    },
    {
      "cell_type": "markdown",
      "metadata": {
        "id": "909cfN3Z3b1N"
      },
      "source": [
        "Como se puede observar, con este nuevo *kernel*, tanto la precisión global de cada modelo sobre el subconjunto de *testing* como sus respectivos tiempos de computación han aumentado con respecto a los modelizados previos. \n",
        "\n",
        "Si nos fijamos en la precisión sobre el subconjunto de entrenamiento, vemos que de nuevo esta va aumentando con $C$ por las razones ya argumentadas. Por tanto, para seleccionar el modelo más óptimo y evitar tanto el *overfitting* como el *underfitting*, vamos a fijarnos en la *accuracy* del subconjunto de prueba.\n",
        "\n",
        "Así, contrariamente a los modelizados realizados para el *kernel* lineal, en este caso el hecho de aumentar el parámetro $C$ desde 1 hasta 10 hace que mejore la precisión y se reduzca el tiempo de ejecución. Para los valores $C=100, 1000$ se obtienen precisiones ligeramente inferiores y tiempos muy similares, teniéndose el máximo de la *accuracy* (*test*) para $C=10$. \n",
        "\n",
        "Esto se traduce en que, para valores $C<10$, tenemos *underfitting* pues tanto la precisión sobre el subconjunto de entrenamiento como la precisión sobre el subconjunto de *test* son relativamente bajas (en comparación con el resto de los resultados de las parametrizaciones planteadas). En este caso, se están permitiendo demasiadas violaciones al margen, lo cual se traduce en un modelo demasiado simple que no se ajusta lo suficiente al conjunto de datos.\n",
        "\n",
        "Para $C>10$, se tiene un alto valor de la *accuracy* del *set* de entrenamiento pero la del *set* de *test* no aumenta, sino que disminuye muy levemente. Estamos, por tanto, ante la presencia de un ligero sobreajuste para $C>10$, pues no se permiten los suficientes errores de clasificación.\n",
        "\n",
        "Por tanto, concluimos que **para el *kernel* radial o *Gaussiano*, el valor óptimo del hiperparámetro es $C=10$.**\n",
        "\n",
        "Respecto a las matrices de confusión resultantes, vemos que en todas ellas se supera el 95% tanto de *precision* como de *recall* en todas las categorías, valores muy superiores a los alcanzados con el *kernel* lineal."
      ]
    },
    {
      "cell_type": "markdown",
      "metadata": {
        "id": "HwDRj_Ozhyg6"
      },
      "source": [
        "##Comparativa entre modelos\n",
        "\n",
        "De entre todos los modelos propuestos para este *dataset*, se procede a realizar un resumen de los resultados obtenidos:"
      ]
    },
    {
      "cell_type": "code",
      "metadata": {
        "colab": {
          "base_uri": "https://localhost:8080/"
        },
        "id": "PkrXNiechze4",
        "outputId": "c7182a03-d8cf-4dea-9516-8b219d551d30"
      },
      "source": [
        "print(\"El mejor modelo es: \", mejorModelo.kernel)\n",
        "print(mejorModelo)\n",
        "print(\"Accuracy: \", maxAcc)\n",
        "print(\"Tiempo: \", datetime.datetime.fromtimestamp(mejorTime).strftime(\"%M:%S:%f\"))\n",
        "print()\n",
        "\n",
        "print(\"El peor modelo es: \", peorModelo.kernel)\n",
        "print(peorModelo)\n",
        "print(\"Accuracy: \", minAcc)\n",
        "print(\"Tiempo: \", datetime.datetime.fromtimestamp(peorTime).strftime(\"%M:%S:%f\"))\n",
        "print()\n",
        "\n",
        "print(\"El modelo más rápido es: \", rapidoModelo.kernel)\n",
        "print(rapidoModelo)\n",
        "print(\"Accuracy: \", rapidoAcc)\n",
        "print(\"Tiempo: \", datetime.datetime.fromtimestamp(minTime).strftime(\"%M:%S:%f\"))\n",
        "print()\n",
        "\n",
        "print(\"El modelo más lento es: \", lentoModelo.kernel)\n",
        "print(lentoModelo)\n",
        "print(\"Accuracy: \", lentoAcc)\n",
        "print(\"Tiempo: \", datetime.datetime.fromtimestamp(maxTime).strftime(\"%M:%S:%f\"))"
      ],
      "execution_count": null,
      "outputs": [
        {
          "output_type": "stream",
          "text": [
            "El mejor modelo es:  rbf\n",
            "SVC(C=10, break_ties=False, cache_size=200, class_weight=None, coef0=0.0,\n",
            "    decision_function_shape='ovr', degree=3, gamma='scale', kernel='rbf',\n",
            "    max_iter=-1, probability=False, random_state=None, shrinking=True,\n",
            "    tol=0.001, verbose=False)\n",
            "Accuracy:  0.9767\n",
            "Tiempo:  01:35:708721\n",
            "\n",
            "El peor modelo es:  linear\n",
            "SVC(C=100, break_ties=False, cache_size=200, class_weight=None, coef0=0.0,\n",
            "    decision_function_shape='ovr', degree=3, gamma='scale', kernel='linear',\n",
            "    max_iter=-1, probability=False, random_state=None, shrinking=True,\n",
            "    tol=0.001, verbose=False)\n",
            "Accuracy:  0.9143\n",
            "Tiempo:  01:10:730448\n",
            "\n",
            "El modelo más rápido es:  linear\n",
            "SVC(C=1, break_ties=False, cache_size=200, class_weight=None, coef0=0.0,\n",
            "    decision_function_shape='ovr', degree=3, gamma='scale', kernel='linear',\n",
            "    max_iter=-1, probability=False, random_state=None, shrinking=True,\n",
            "    tol=0.001, verbose=False)\n",
            "Accuracy:  0.9257\n",
            "Tiempo:  01:08:259303\n",
            "\n",
            "El modelo más lento es:  rbf\n",
            "SVC(C=1, break_ties=False, cache_size=200, class_weight=None, coef0=0.0,\n",
            "    decision_function_shape='ovr', degree=3, gamma='scale', kernel='rbf',\n",
            "    max_iter=-1, probability=False, random_state=None, shrinking=True,\n",
            "    tol=0.001, verbose=False)\n",
            "Accuracy:  0.9695\n",
            "Tiempo:  01:44:874406\n"
          ],
          "name": "stdout"
        }
      ]
    },
    {
      "cell_type": "markdown",
      "metadata": {
        "id": "gdytr4Q32F2p"
      },
      "source": [
        "En la siguiente tabla se recoge una comparación de todos los modelos ejecutados hasta ahora:\n",
        "\n",
        "|$C$|*Accuracy* lineal (%)|*Accuracy Gaussiano* (%)|Tiempo lineal|Tiempo *Gaussiano*|\n",
        "|:-----:|:--------:|:-------:|:---------:|:---------:|\n",
        "|  $1$  |  92.57   |   96.95    | 1min 08s  |1min 44s   | \n",
        "|  $10$ |  91.62   |   97.67    | 1min 10s  |1min 35s   |\n",
        "| $100$ |  91.43   |   97.64    | 1min 10s  |1min 36s   |\n",
        "|$1000$ |  91.43   |   97.64    | 1min 11s  |1min 36s   |\n",
        "\n"
      ]
    },
    {
      "cell_type": "markdown",
      "metadata": {
        "id": "DH0i1KJy3awq"
      },
      "source": [
        "Se concluye, por tanto, que el modelo más preciso es el *Gaussiano* con $C=10$, aunque, como ya habíamos visto, los resultados para $C=100$ o $C=1000$ son muy similares (con un ligero sobreajuste) y ligeramente más rápidos, por lo que también serían una buena especificación a elegir.\n",
        "\n",
        "Por otra parte, el modelo más rápido es el lineal con $C=1$, siendo su precisión muy inferior en comparación al *kernel* radial (4.5% menos).\n",
        "\n",
        "Concluimos, por tanto, que el *kernel* óptimo dependerá de nuestras necesidades particulares. Si necesitamos un modelo muy preciso, entonces seleccionaremos el *Gaussiano*. Si, en cambio, podemos permitirnos una *accuracy* inferior o buscamos un modelo que no consuma tantos recursos computacionales, entonces bastará con seleccionar el *kernel* lineal.\n",
        "\n"
      ]
    },
    {
      "cell_type": "markdown",
      "metadata": {
        "id": "p2gwPvgH2qBN"
      },
      "source": [
        "##Evaluación del modelo\n",
        "\n",
        "Si generamos el modelo más preciso con `kernel='rbf'` y `C=10`:"
      ]
    },
    {
      "cell_type": "code",
      "metadata": {
        "id": "hH23VcwR1x4V"
      },
      "source": [
        "modelo_rbf_10 = SVC(kernel = \"rbf\" , C=10).fit(x_train1,y_train1)\n",
        "acc_rbf_10 = modelo_rbf_10.score(x_test1, y_test1)\n",
        "predicciones_rbf_10 = modelo_rbf_10.predict(x_test1)"
      ],
      "execution_count": null,
      "outputs": []
    },
    {
      "cell_type": "markdown",
      "metadata": {
        "id": "r6HqyCUY7NSJ"
      },
      "source": [
        "- **Matriz de confusión**\n",
        "\n",
        "A continuación generamos su matriz de confusión sobre el subconjunto de *test*:"
      ]
    },
    {
      "cell_type": "code",
      "metadata": {
        "colab": {
          "base_uri": "https://localhost:8080/",
          "height": 614
        },
        "id": "fVNgRXpVDb0-",
        "outputId": "fb567298-46e7-4d21-f0d7-713f9bf96dfe"
      },
      "source": [
        "from sklearn import metrics\n",
        "print(f\"Confusion matrix:\\n\")\n",
        "fig, ax = plt.subplots(figsize=(10, 10))\n",
        "metrics.plot_confusion_matrix(modelo_rbf_10, x_test1, y_test1, cmap=plt.cm.viridis, ax=ax, values_format = '.0f')\n",
        "plt.show()"
      ],
      "execution_count": null,
      "outputs": [
        {
          "output_type": "stream",
          "text": [
            "Confusion matrix:\n",
            "\n"
          ],
          "name": "stdout"
        },
        {
          "output_type": "display_data",
          "data": {
            "image/png": "[encoded data removed]",
            "text/plain": [
              "<Figure size 720x720 with 2 Axes>"
            ]
          },
          "metadata": {
            "tags": [],
            "needs_background": "light"
          }
        }
      ]
    },
    {
      "cell_type": "markdown",
      "metadata": {
        "id": "WtRkT7T_lHL4"
      },
      "source": [
        "Así, comprobamos que el algoritmo está funcionando bastante bien pues la mayoría de las observaciones están en la diagonal, es decir, ha predicho el valor correcto (verdaderos positivos). Los valores fuera de la diagonal indican falsos positivos si se encuentran a lo largo de la columna de la etiqueta predicha y falsos negativos si se encuentran a lo largo de la fila del valor real.\n",
        "\n",
        "Si, por ejemplo, nos fijamos en el dígito 1, podemos obtener su *precision* y *recall* de la siguiente forma:\n",
        "\n",
        "$$ Precision_1 =  \\frac{TP}{TP+FP} = \\frac{1128}{1128+1+1+3+12+1+2}= 0.9826$$ \n",
        "\n",
        "$$ Recall_1 =  \\frac{TP}{TP+FN}=\\frac{1128}{1128+4+1+2}=0.9938$$ \n",
        "\n",
        "Por tanto, para esta clase no se están generando muchos falsos negativos pues el *recall* es muy alto pero sí que se están dando algunos falsos positivos (*precision* ligeramente más bajo aunque sigue siendo muy bueno)."
      ]
    },
    {
      "cell_type": "markdown",
      "metadata": {
        "id": "x-VYT9HyC4J-"
      },
      "source": [
        "-  ***Precision* y *recall***\n",
        "\n",
        "Si obtenemos estos indicadores para todas las clases (gracias a `classification_report()`):"
      ]
    },
    {
      "cell_type": "code",
      "metadata": {
        "colab": {
          "base_uri": "https://localhost:8080/"
        },
        "id": "LCBq7C0GFOfO",
        "outputId": "e66dd036-30a7-4a04-8747-06b52b417140"
      },
      "source": [
        "print(f\"Classification report for classifier {modelo_rbf_10}:\\n\"\n",
        "      f\"{metrics.classification_report(y_test1, predicciones_rbf_10)}\\n\")"
      ],
      "execution_count": null,
      "outputs": [
        {
          "output_type": "stream",
          "text": [
            "Classification report for classifier SVC(C=10, break_ties=False, cache_size=200, class_weight=None, coef0=0.0,\n",
            "    decision_function_shape='ovr', degree=3, gamma='scale', kernel='rbf',\n",
            "    max_iter=-1, probability=False, random_state=None, shrinking=True,\n",
            "    tol=0.001, verbose=False):\n",
            "              precision    recall  f1-score   support\n",
            "\n",
            "           0       0.98      0.99      0.98       980\n",
            "           1       0.98      0.99      0.99      1135\n",
            "           2       0.98      0.98      0.98      1032\n",
            "           3       0.97      0.98      0.98      1010\n",
            "           4       0.98      0.98      0.98       982\n",
            "           5       0.98      0.97      0.97       892\n",
            "           6       0.98      0.98      0.98       958\n",
            "           7       0.97      0.96      0.97      1028\n",
            "           8       0.98      0.97      0.98       974\n",
            "           9       0.97      0.96      0.97      1009\n",
            "\n",
            "    accuracy                           0.98     10000\n",
            "   macro avg       0.98      0.98      0.98     10000\n",
            "weighted avg       0.98      0.98      0.98     10000\n",
            "\n",
            "\n"
          ],
          "name": "stdout"
        }
      ]
    },
    {
      "cell_type": "markdown",
      "metadata": {
        "id": "JG7yiDOoph62"
      },
      "source": [
        "El dígito que mejor se está clasificando por el algoritmo (atendiendo al *F1-Score*) es el 1 (99%). \n",
        "\n",
        "Por el contrario, los números 5, 7 y 9 son los que peores resultados están dando. De hecho, si nos fijamos en la matriz de confusión representada, vemos que el número 5 se está clasificando erróneamente como un 3 en la mayoría de falsos negativos, lo cual hace que disminuya el *recall*.\n",
        "\n",
        "Por otra parte, en el caso del número 9, este se está clasificando mayoritariamente como un 4 o un 7 en las predicciones erróneas (fuera de la diagonal), lo cual hace que disminuya el *recall* para esta clase. De manera análoga, los dígitos 4 y 7 tienden a clasificarse como 9, lo cual hace que disminuya la *precision* de la clase 9.\n",
        "\n",
        "Por último, para la categoría 7 se tiene que la causa de los falsos negativos es que este dígito se confunde con un 1, 2 o 9 mientras que la causa de los falsos positivos es que los dígitos 9 y 2 se clasifican como 7.\n",
        "\n",
        "Concluimos así que el algoritmo tiene problemas principalmente a la hora de distinguir un 5 de un 3 y los dígitos 4-9-7 entre sí.\n",
        "\n",
        "Por último, podemos representar algunas predicciones del algoritmo:"
      ]
    },
    {
      "cell_type": "code",
      "metadata": {
        "colab": {
          "base_uri": "https://localhost:8080/",
          "height": 142
        },
        "id": "R7IrbhaXoUhF",
        "outputId": "b276ea36-e11d-4c0e-ec81-cddd3443584d"
      },
      "source": [
        "_, axes = plt.subplots(nrows=1, ncols=9, figsize=(18, 18))\n",
        "for ax, image, prediction, real in zip(axes, x_test1, predicciones_rbf_10, y_test1):\n",
        "    ax.set_axis_off()\n",
        "    image = image.reshape(28, 28)\n",
        "    ax.imshow(image, cmap=plt.cm.gray_r, interpolation='nearest')\n",
        "    ax.set_title(f'Pred: {prediction}, Real:{real}')"
      ],
      "execution_count": null,
      "outputs": [
        {
          "output_type": "display_data",
          "data": {
            "image/png": "[encoded data removed]",
            "text/plain": [
              "<Figure size 1296x1296 with 9 Axes>"
            ]
          },
          "metadata": {
            "tags": [],
            "needs_background": "light"
          }
        }
      ]
    },
    {
      "cell_type": "markdown",
      "metadata": {
        "id": "SshRjSYP3jF_"
      },
      "source": [
        "Vemos que, en este ejemplo, ha acertado la mayoría de imágenes excepto un 5 que ha clasificado como 6. "
      ]
    },
    {
      "cell_type": "markdown",
      "metadata": {
        "id": "b5PY3m4FiXIh"
      },
      "source": [
        "#*Dataset* Fashion-MNIST\n",
        "\n",
        "## **Fashion MNIST**\n",
        "\n",
        "Fashion-MNIST es un conjunto de datos de las imágenes de los artículos de Zalando (https://www.zalando.es/), que consta de un conjunto de entrenamiento de 60.000 ejemplos y un conjunto de test de 10.000. \n",
        "\n",
        "Cada ejemplo es una imagen en escala de grises de 28x28, asociada con una etiqueta con 10 clases. Zalando pretende que Fashion-MNIST sirva como un reemplazo directo del conjunto de datos MNIST original, dedicado a al reconocimiento de dígitos escritos a mano. Comparte el mismo tamaño de imagen y estructura de divisiones de entrenamiento y test. \n",
        "\n",
        "**Contenido**\n",
        "\n",
        "Cada imagen tiene 28 píxeles de alto y 28 de ancho, para un total de 784 píxeles en total. Cada píxel tiene un solo valor de píxel asociado, lo que indica la claridad u oscuridad de ese píxel; los números más altos significan más oscuro. Este valor de píxel es un número entero entre 0 y 255. Los conjuntos de datos de entrenamiento y prueba tienen 785 columnas. \n",
        "\n",
        "La primera columna consta de las etiquetas de clase y representa la prenda de vestir. El resto de las columnas contienen los valores de píxeles de la imagen asociada. Cada fila es una imagen separada con sus 784 píxeles.\n",
        "\n",
        "**Etiquetas**\n",
        "\n",
        "Cada ejemplo de entrenamiento y prueba se asigna a una de las siguientes etiquetas:\n",
        "\n",
        "* 0 camiseta / top\n",
        "* 1 pantalón\n",
        "* 2 suéter\n",
        "* 3 vestido\n",
        "* 4 abrigo\n",
        "* 5 sandalia\n",
        "* 6 camiseta\n",
        "* 7 zapatilla\n",
        "* 8 bolsa\n",
        "* 9 bota de tobillo\n",
        "\n",
        "En primer lugar, importamos los subconjuntos de entrenamiento y *test* desde *TensorFlow*:\n"
      ]
    },
    {
      "cell_type": "code",
      "metadata": {
        "id": "NFQLMCWJriTX",
        "colab": {
          "base_uri": "https://localhost:8080/"
        },
        "outputId": "8efdf211-a0d4-4926-da3c-84e281f1f9a6"
      },
      "source": [
        "(x_train_2, y_train_2), (x_test_2, y_test_2) = tf.keras.datasets.fashion_mnist.load_data()"
      ],
      "execution_count": null,
      "outputs": [
        {
          "output_type": "stream",
          "text": [
            "Downloading data from https://storage.googleapis.com/tensorflow/tf-keras-datasets/train-labels-idx1-ubyte.gz\n",
            "32768/29515 [=================================] - 0s 0us/step\n",
            "Downloading data from https://storage.googleapis.com/tensorflow/tf-keras-datasets/train-images-idx3-ubyte.gz\n",
            "26427392/26421880 [==============================] - 0s 0us/step\n",
            "Downloading data from https://storage.googleapis.com/tensorflow/tf-keras-datasets/t10k-labels-idx1-ubyte.gz\n",
            "8192/5148 [===============================================] - 0s 0us/step\n",
            "Downloading data from https://storage.googleapis.com/tensorflow/tf-keras-datasets/t10k-images-idx3-ubyte.gz\n",
            "4423680/4422102 [==============================] - 0s 0us/step\n"
          ],
          "name": "stdout"
        }
      ]
    },
    {
      "cell_type": "markdown",
      "metadata": {
        "id": "lMs2b7VAriTj"
      },
      "source": [
        "A continuación, nos valemos de la función `reshape()` para almacenar una única línea (de 28x28=784 columnas) por cada imagen:"
      ]
    },
    {
      "cell_type": "code",
      "metadata": {
        "id": "jYOXjKPdriTk"
      },
      "source": [
        "x_train_2 = x_train_2.reshape(60000,-1)\n",
        "x_test_2 = x_test_2.reshape(10000,-1)"
      ],
      "execution_count": null,
      "outputs": []
    },
    {
      "cell_type": "code",
      "metadata": {
        "colab": {
          "base_uri": "https://localhost:8080/"
        },
        "id": "-Fp8tthtriTk",
        "outputId": "5cf40380-43d7-46f7-86dd-f5e65380f441"
      },
      "source": [
        "print(x_train_2.shape)\n",
        "print(x_test_2.shape)"
      ],
      "execution_count": null,
      "outputs": [
        {
          "output_type": "stream",
          "text": [
            "(60000, 784)\n",
            "(10000, 784)\n"
          ],
          "name": "stdout"
        }
      ]
    },
    {
      "cell_type": "markdown",
      "metadata": {
        "id": "mGR4PQvvriTl"
      },
      "source": [
        "A continuación se ha representado una muestra de las categorías contenidas en el *dataset* con sus imágenes correspondientes:"
      ]
    },
    {
      "cell_type": "code",
      "metadata": {
        "id": "diB2hEdHriTm"
      },
      "source": [
        "y_u=pd.DataFrame(y_train_2).drop_duplicates()\n",
        "X_u=x_train_2[y_u[0].sort_values().index]"
      ],
      "execution_count": null,
      "outputs": []
    },
    {
      "cell_type": "code",
      "metadata": {
        "colab": {
          "base_uri": "https://localhost:8080/",
          "height": 118
        },
        "id": "1wOeGlezriTm",
        "outputId": "3d6b4839-5e2a-4b43-867b-249d08ba3d55"
      },
      "source": [
        "_, axes = plt.subplots(nrows=1, ncols=10, figsize=(15, 15))\n",
        "for ax, image, label in zip(axes, X_u, y_u[0].sort_values()):\n",
        "    ax.set_axis_off()\n",
        "    image = image.reshape(28, 28)\n",
        "    ax.imshow(image, cmap=plt.cm.gray_r, interpolation='nearest')\n",
        "    ax.set_title('Etiqueta: %i' % label)"
      ],
      "execution_count": null,
      "outputs": [
        {
          "output_type": "display_data",
          "data": {
            "image/png": "[encoded data removed]",
            "text/plain": [
              "<Figure size 1080x1080 with 10 Axes>"
            ]
          },
          "metadata": {
            "tags": [],
            "needs_background": "light"
          }
        }
      ]
    },
    {
      "cell_type": "markdown",
      "metadata": {
        "id": "ypkg4FKrdCpe"
      },
      "source": [
        "Podemos comprobar qué porcentaje del total supone cada dígito:"
      ]
    },
    {
      "cell_type": "code",
      "metadata": {
        "colab": {
          "base_uri": "https://localhost:8080/"
        },
        "id": "kW9iwPKIdCpe",
        "outputId": "f099e399-56ac-40e8-d529-d20813bf48da"
      },
      "source": [
        "pd.Series(y_train_2).value_counts()/60000"
      ],
      "execution_count": null,
      "outputs": [
        {
          "output_type": "execute_result",
          "data": {
            "text/plain": [
              "9    0.1\n",
              "8    0.1\n",
              "7    0.1\n",
              "6    0.1\n",
              "5    0.1\n",
              "4    0.1\n",
              "3    0.1\n",
              "2    0.1\n",
              "1    0.1\n",
              "0    0.1\n",
              "dtype: float64"
            ]
          },
          "metadata": {
            "tags": []
          },
          "execution_count": 25
        }
      ]
    },
    {
      "cell_type": "markdown",
      "metadata": {
        "id": "ssvVA-xS9Ftq"
      },
      "source": [
        "Vemos que es un *dataset* completamente balanceado.\n",
        "\n",
        "Al igual que para el *dataset* anterior, cada pixel de una imagen puede tomar valores entre 0 y 255, por lo que vamos a proceder a normalizar las cantidades dividiendo por dicha cifra."
      ]
    },
    {
      "cell_type": "code",
      "metadata": {
        "colab": {
          "base_uri": "https://localhost:8080/"
        },
        "id": "Odq2J7DwxOyO",
        "outputId": "e772736d-6af3-4422-c81f-f2310665c975"
      },
      "source": [
        "x_train_2.max()"
      ],
      "execution_count": null,
      "outputs": [
        {
          "output_type": "execute_result",
          "data": {
            "text/plain": [
              "255"
            ]
          },
          "metadata": {
            "tags": []
          },
          "execution_count": 18
        }
      ]
    },
    {
      "cell_type": "code",
      "metadata": {
        "id": "rQwaeNKKxETi"
      },
      "source": [
        "# convert from integers to floats\n",
        "x_train_2 = x_train_2.astype('float32')\n",
        "x_test_2 = x_test_2.astype('float32')\n",
        "# normalize to range 0-1\n",
        "x_train_2 = x_train_2 / 255.0\n",
        "x_test_2 = x_test_2 / 255.0"
      ],
      "execution_count": null,
      "outputs": []
    },
    {
      "cell_type": "markdown",
      "metadata": {
        "id": "LGLoiH1F6M2y"
      },
      "source": [
        "Comprobamos que ahora el valor máximo es 1:"
      ]
    },
    {
      "cell_type": "code",
      "metadata": {
        "colab": {
          "base_uri": "https://localhost:8080/"
        },
        "id": "3gtzOgcmxV00",
        "outputId": "27a4be6a-2b48-43ca-81b3-5cd03716c417"
      },
      "source": [
        "x_train_2.max()"
      ],
      "execution_count": null,
      "outputs": [
        {
          "output_type": "execute_result",
          "data": {
            "text/plain": [
              "1.0"
            ]
          },
          "metadata": {
            "tags": []
          },
          "execution_count": 20
        }
      ]
    },
    {
      "cell_type": "markdown",
      "metadata": {
        "id": "dj-DBF8EdCpf"
      },
      "source": [
        "Por último, nos quedamos con los 20.000 primeros registros para el subconjunto de entrenamiento y 10.000 para el de *test*:"
      ]
    },
    {
      "cell_type": "code",
      "metadata": {
        "id": "_J2lYygG3WZF"
      },
      "source": [
        "n_train=20000\n",
        "x_train_2n=x_train_2[0:n_train]\n",
        "y_train_2n=y_train_2[0:n_train]\n",
        "n_test=10000\n",
        "x_test_2n=x_test_2[0:n_test]\n",
        "y_test_2n=y_test_2[0:n_test]"
      ],
      "execution_count": null,
      "outputs": []
    },
    {
      "cell_type": "markdown",
      "metadata": {
        "id": "zWW83z_Y4uq9"
      },
      "source": [
        "##Modelización\n",
        "\n",
        "Vamos a repetir los pasos realizados en el anterior *set* de datos, esto es, en primer lugar vamos a comenzar probando a implementar un *kernel* lineal y posteriormente compararemos los resultados con uno *Gaussiano*."
      ]
    },
    {
      "cell_type": "markdown",
      "metadata": {
        "id": "shyZ6MX44IbS"
      },
      "source": [
        "###*Kernel* lineal\n",
        "\n",
        "Debido al gran impacto que tiene aplicar este *kernel* sobre el *dataset*, únicamente se van a parametrizar valores de $C=1$, $C=10$ y $C=100$ con el objetivo de reducir los tiempos de ejecución. El resto de parámetros serán los definidos por defecto.\n",
        "\n"
      ]
    },
    {
      "cell_type": "code",
      "metadata": {
        "id": "pipGuPo90rkh"
      },
      "source": [
        "minAcc = 100\n",
        "maxAcc = 0\n",
        "rapidoAcc = 0\n",
        "lentoAcc = 0\n",
        "mejorTime = 0\n",
        "peorTime = 0\n",
        "minTime = 1000000000\n",
        "maxTime = 0\n",
        "\n",
        "mejorModelo = SVC()\n",
        "peorModelo = SVC()\n",
        "rapidoModelo = SVC()\n",
        "lentoModelo = SVC()"
      ],
      "execution_count": null,
      "outputs": []
    },
    {
      "cell_type": "code",
      "metadata": {
        "colab": {
          "base_uri": "https://localhost:8080/"
        },
        "id": "r31F3OzP4IbT",
        "outputId": "40222b03-2548-4fe0-92c0-cf88441b5f71"
      },
      "source": [
        "kernel = \"linear\"\n",
        "\n",
        "for c in (1, 10, 100):\n",
        "  print(\"Kernel lineal con C=\", c)\n",
        "  \n",
        "  timeIni = time()\n",
        "  modelo = SVC(kernel = kernel, C=c).fit(x_train_2n,y_train_2n)\n",
        "  print(modelo)\n",
        "  timeEnd = time()\n",
        "  timeDiff = datetime.datetime.fromtimestamp(timeEnd-timeIni).strftime(\"%M:%S:%f\")\n",
        "\n",
        "  acc_1 = modelo.score(x_train_2n, y_train_2n)\n",
        "  acc_2 = modelo.score(x_test_2n, y_test_2n)\n",
        "  print(\"Precisión train (accuracy): \", acc_1)\n",
        "  print(\"Precisión test (accuracy): \", acc_2)\n",
        "  print(\"Tiempo entrenamiento: \", timeDiff)\n",
        "\n",
        "  predicciones = modelo.predict(x_test_2n)\n",
        "  print(\"Matriz de confusión:\")\n",
        "  print(confusion_matrix(y_test_2n, predicciones))\n",
        "  print(classification_report(y_test_2n, predicciones))\n",
        "  print(\"---------------------------------------\")\n",
        "  print()\n",
        "\n",
        "  if (maxAcc < acc_2):\n",
        "      maxAcc = acc_2\n",
        "      mejorTime = timeEnd-timeIni\n",
        "      mejorModelo = modelo\n",
        "\n",
        "  if (minAcc > acc_2):\n",
        "      minAcc = acc_2\n",
        "      peorTime = timeEnd-timeIni\n",
        "      peorModelo = modelo\n",
        "\n",
        "  if (timeEnd-timeIni > maxTime):\n",
        "      lentoAcc = acc_2\n",
        "      maxTime = timeEnd-timeIni\n",
        "      lentoModelo = modelo\n",
        "\n",
        "  if (timeEnd-timeIni < minTime):\n",
        "      rapidoAcc = acc_2\n",
        "      minTime = timeEnd-timeIni\n",
        "      rapidoModelo = modelo"
      ],
      "execution_count": null,
      "outputs": [
        {
          "output_type": "stream",
          "text": [
            "Kernel lineal con C= 1\n",
            "SVC(C=1, break_ties=False, cache_size=200, class_weight=None, coef0=0.0,\n",
            "    decision_function_shape='ovr', degree=3, gamma='scale', kernel='linear',\n",
            "    max_iter=-1, probability=False, random_state=None, shrinking=True,\n",
            "    tol=0.001, verbose=False)\n",
            "Precisión train (accuracy):  0.93265\n",
            "Precisión test (accuracy):  0.8329\n",
            "Tiempo entrenamiento:  01:43:942435\n",
            "Matriz de confusión:\n",
            "[[820   2  16  38   3   4 104   0  13   0]\n",
            " [  9 960   2  21   3   0   3   0   2   0]\n",
            " [ 26   5 752  11 118   0  84   0   4   0]\n",
            " [ 57  19  23 815  35   0  46   0   5   0]\n",
            " [  1   2 141  37 739   0  78   0   2   0]\n",
            " [  0   1   0   0   0 924   0  44   3  28]\n",
            " [172   4 132  31 106   0 536   0  19   0]\n",
            " [  0   0   0   0   0  43   0 929   1  27]\n",
            " [ 14   1  11  11   5  10  22   6 920   0]\n",
            " [  1   0   0   0   0  18   1  46   0 934]]\n",
            "              precision    recall  f1-score   support\n",
            "\n",
            "           0       0.75      0.82      0.78      1000\n",
            "           1       0.97      0.96      0.96      1000\n",
            "           2       0.70      0.75      0.72      1000\n",
            "           3       0.85      0.81      0.83      1000\n",
            "           4       0.73      0.74      0.74      1000\n",
            "           5       0.92      0.92      0.92      1000\n",
            "           6       0.61      0.54      0.57      1000\n",
            "           7       0.91      0.93      0.92      1000\n",
            "           8       0.95      0.92      0.93      1000\n",
            "           9       0.94      0.93      0.94      1000\n",
            "\n",
            "    accuracy                           0.83     10000\n",
            "   macro avg       0.83      0.83      0.83     10000\n",
            "weighted avg       0.83      0.83      0.83     10000\n",
            "\n",
            "---------------------------------------\n",
            "\n",
            "Kernel lineal con C= 10\n",
            "SVC(C=10, break_ties=False, cache_size=200, class_weight=None, coef0=0.0,\n",
            "    decision_function_shape='ovr', degree=3, gamma='scale', kernel='linear',\n",
            "    max_iter=-1, probability=False, random_state=None, shrinking=True,\n",
            "    tol=0.001, verbose=False)\n",
            "Precisión train (accuracy):  0.95445\n",
            "Precisión test (accuracy):  0.8157\n",
            "Tiempo entrenamiento:  02:49:546539\n",
            "Matriz de confusión:\n",
            "[[791   2  23  38   7   1 122   0  16   0]\n",
            " [  9 963   3  17   3   0   4   0   1   0]\n",
            " [ 28   9 747  11 117   0  83   0   5   0]\n",
            " [ 64  34  40 793  28   0  37   0   4   0]\n",
            " [  1   1 167  44 697   0  87   0   3   0]\n",
            " [  0   1   0   0   0 921   0  47   3  28]\n",
            " [185   5 145  35 112   0 502   0  16   0]\n",
            " [  0   0   0   0   0  59   0 897   1  43]\n",
            " [ 21   2  10   8   7   8  25   5 914   0]\n",
            " [  0   0   0   0   0  21   2  45   0 932]]\n",
            "              precision    recall  f1-score   support\n",
            "\n",
            "           0       0.72      0.79      0.75      1000\n",
            "           1       0.95      0.96      0.95      1000\n",
            "           2       0.66      0.75      0.70      1000\n",
            "           3       0.84      0.79      0.82      1000\n",
            "           4       0.72      0.70      0.71      1000\n",
            "           5       0.91      0.92      0.92      1000\n",
            "           6       0.58      0.50      0.54      1000\n",
            "           7       0.90      0.90      0.90      1000\n",
            "           8       0.95      0.91      0.93      1000\n",
            "           9       0.93      0.93      0.93      1000\n",
            "\n",
            "    accuracy                           0.82     10000\n",
            "   macro avg       0.82      0.82      0.81     10000\n",
            "weighted avg       0.82      0.82      0.81     10000\n",
            "\n",
            "---------------------------------------\n",
            "\n",
            "Kernel lineal con C= 100\n",
            "SVC(C=100, break_ties=False, cache_size=200, class_weight=None, coef0=0.0,\n",
            "    decision_function_shape='ovr', degree=3, gamma='scale', kernel='linear',\n",
            "    max_iter=-1, probability=False, random_state=None, shrinking=True,\n",
            "    tol=0.001, verbose=False)\n",
            "Precisión train (accuracy):  0.9622\n",
            "Precisión test (accuracy):  0.8104\n",
            "Tiempo entrenamiento:  13:57:149670\n",
            "Matriz de confusión:\n",
            "[[787   4  23  43   5   2 121   0  15   0]\n",
            " [ 12 963   1  16   3   0   3   0   2   0]\n",
            " [ 28  11 742  10 112   0  91   0   6   0]\n",
            " [ 68  36  44 779  31   0  38   0   4   0]\n",
            " [  1   1 173  47 689   0  86   0   3   0]\n",
            " [  0   1   0   0   0 918   0  50   3  28]\n",
            " [186   5 146  38 118   0 492   0  15   0]\n",
            " [  0   0   0   0   0  65   0 889   1  45]\n",
            " [ 16   3   8   8   8   7  28   5 917   0]\n",
            " [  0   0   0   0   0  28   2  42   0 928]]\n",
            "              precision    recall  f1-score   support\n",
            "\n",
            "           0       0.72      0.79      0.75      1000\n",
            "           1       0.94      0.96      0.95      1000\n",
            "           2       0.65      0.74      0.69      1000\n",
            "           3       0.83      0.78      0.80      1000\n",
            "           4       0.71      0.69      0.70      1000\n",
            "           5       0.90      0.92      0.91      1000\n",
            "           6       0.57      0.49      0.53      1000\n",
            "           7       0.90      0.89      0.90      1000\n",
            "           8       0.95      0.92      0.93      1000\n",
            "           9       0.93      0.93      0.93      1000\n",
            "\n",
            "    accuracy                           0.81     10000\n",
            "   macro avg       0.81      0.81      0.81     10000\n",
            "weighted avg       0.81      0.81      0.81     10000\n",
            "\n",
            "---------------------------------------\n",
            "\n"
          ],
          "name": "stdout"
        }
      ]
    },
    {
      "cell_type": "markdown",
      "metadata": {
        "id": "7qWbBl7b9wHM"
      },
      "source": [
        "En este caso sucede algo similar a la casuística observada para el *kernel* lineal en el *dataset* previo: mientras que la *accuracy* del subconjunto de entrenamiento aumenta con $C$, la del subconjunto de *testing* va disminuyendo. Además, vemos que ahora la precisión global nunca llega a alcanzar un 100%, mientras que los tiempos de ejecución aumentan drásticamente. \n",
        "\n",
        "Así, se tiene que al aumentar $C$, aumenta el ajuste del modelo al *set* de entrenamiento pero disminuye ligeramente su capacidad de predicción sobre nuevos subconjuntos de datos. Es decir, estamos observando las consecuencias de un ligero sobreajuste u *overfitting*. Para evitarlo, **seleccionamos $C=1$ como parámetro óptimo**, de manera que no se esté penalizando excesivamente cada error de clasificación del modelo. De todas formas, parece evidente que el *kernel* lineal no es una buena elección para la modelización de este conjunto de datos. \n",
        "\n",
        "Si nos fijamos en las matrices de confusión del modelo, vemos que en esta ocasión hay muchas disparidades entre clases, al contrario de lo que ocurría para el *dataset* de dígitos del MNIST. En general, los tres modelos arrojan resultados similares, siendo la clase 6 (camiseta) la que peor funciona y la 1 (pantalón) la que mejor funciona en todos ellos.\n",
        "\n"
      ]
    },
    {
      "cell_type": "markdown",
      "metadata": {
        "id": "4HBp0cSh4IbV"
      },
      "source": [
        "### *Kernel* radial o *Gaussiano*\n",
        "\n",
        "Procedemos a parametrizar una SVM con un *kernel* radial para los valores de $C=1$, $C=10$, $C=100$ y $C=1000$. El resto de parámetros serán los definidos por defecto."
      ]
    },
    {
      "cell_type": "code",
      "metadata": {
        "colab": {
          "base_uri": "https://localhost:8080/"
        },
        "id": "Zo_IrcbqqQNA",
        "outputId": "35a5fb54-aa09-431d-b23b-42631ec1b9e6"
      },
      "source": [
        "kernel = \"rbf\"\n",
        "\n",
        "for c in (1, 10, 100, 1000):\n",
        "    print(\"Kernel Gaussiano con C \", c)\n",
        "    timeIni = time()\n",
        "    modelo = SVC(kernel = kernel , C=c).fit(x_train_2n,y_train_2n)\n",
        "    print(modelo)\n",
        "    timeEnd = time()\n",
        "    timeDiff = datetime.datetime.fromtimestamp(timeEnd-timeIni).strftime(\"%M:%S:%f\")\n",
        "\n",
        "    acc_1 = modelo.score(x_train_2n, y_train_2n)\n",
        "    acc_2 = modelo.score(x_test_2n, y_test_2n)\n",
        "    print(\"Precisión train (accuracy): \", acc_1)\n",
        "    print(\"Precisión test (accuracy): \", acc_2)\n",
        "    print(\"Tiempo entrenamiento: \", timeDiff)\n",
        "\n",
        "    predicciones = modelo.predict(x_test_2n)\n",
        "    print(\"Matriz de confusión:\")\n",
        "    print(confusion_matrix(y_test_2n, predicciones))\n",
        "    print(classification_report(y_test_2n, predicciones))\n",
        "    print(\"---------------------------------------\")\n",
        "    print()\n",
        "\n",
        "    if (maxAcc < acc_2):\n",
        "      maxAcc = acc_2\n",
        "      mejorTime = timeEnd-timeIni\n",
        "      mejorModelo = modelo\n",
        "\n",
        "    if (minAcc > acc_2):\n",
        "      minAcc = acc_2\n",
        "      peorTime = timeEnd-timeIni\n",
        "      peorModelo = modelo\n",
        "\n",
        "    if (timeEnd-timeIni > maxTime):\n",
        "      lentoAcc = acc_2\n",
        "      maxTime = timeEnd-timeIni\n",
        "      lentoModelo = modelo\n",
        "\n",
        "    if (timeEnd-timeIni < minTime):\n",
        "      rapidoAcc = acc_2\n",
        "      minTime = timeEnd-timeIni\n",
        "      rapidoModelo = modelo"
      ],
      "execution_count": null,
      "outputs": [
        {
          "output_type": "stream",
          "text": [
            "Kernel Gaussiano con C  1\n",
            "SVC(C=1, break_ties=False, cache_size=200, class_weight=None, coef0=0.0,\n",
            "    decision_function_shape='ovr', degree=3, gamma='scale', kernel='rbf',\n",
            "    max_iter=-1, probability=False, random_state=None, shrinking=True,\n",
            "    tol=0.001, verbose=False)\n",
            "Precisión train (accuracy):  0.90425\n",
            "Precisión test (accuracy):  0.8639\n",
            "Tiempo entrenamiento:  01:58:598535\n",
            "Matriz de confusión:\n",
            "[[810   0  14  53   3   2 107   0  11   0]\n",
            " [  3 955   5  30   3   0   3   0   1   0]\n",
            " [ 14   1 790  11 113   0  67   0   4   0]\n",
            " [ 23   5  12 887  29   0  41   0   3   0]\n",
            " [  0   0  93  33 793   0  77   0   4   0]\n",
            " [  0   0   0   1   0 942   0  40   1  16]\n",
            " [134   1 112  36  77   0 624   0  16   0]\n",
            " [  0   0   0   0   0  31   0 927   0  42]\n",
            " [  2   1   1   6   2   4  12   5 967   0]\n",
            " [  0   0   0   0   0  15   0  40   1 944]]\n",
            "              precision    recall  f1-score   support\n",
            "\n",
            "           0       0.82      0.81      0.82      1000\n",
            "           1       0.99      0.95      0.97      1000\n",
            "           2       0.77      0.79      0.78      1000\n",
            "           3       0.84      0.89      0.86      1000\n",
            "           4       0.78      0.79      0.79      1000\n",
            "           5       0.95      0.94      0.94      1000\n",
            "           6       0.67      0.62      0.65      1000\n",
            "           7       0.92      0.93      0.92      1000\n",
            "           8       0.96      0.97      0.96      1000\n",
            "           9       0.94      0.94      0.94      1000\n",
            "\n",
            "    accuracy                           0.86     10000\n",
            "   macro avg       0.86      0.86      0.86     10000\n",
            "weighted avg       0.86      0.86      0.86     10000\n",
            "\n",
            "---------------------------------------\n",
            "\n",
            "Kernel Gaussiano con C  10\n",
            "SVC(C=10, break_ties=False, cache_size=200, class_weight=None, coef0=0.0,\n",
            "    decision_function_shape='ovr', degree=3, gamma='scale', kernel='rbf',\n",
            "    max_iter=-1, probability=False, random_state=None, shrinking=True,\n",
            "    tol=0.001, verbose=False)\n",
            "Precisión train (accuracy):  0.97915\n",
            "Precisión test (accuracy):  0.8797\n",
            "Tiempo entrenamiento:  01:46:487308\n",
            "Matriz de confusión:\n",
            "[[826   0  12  33   2   2 116   0   9   0]\n",
            " [  2 966   2  24   3   0   3   0   0   0]\n",
            " [ 16   1 816  11  92   0  62   0   2   0]\n",
            " [ 39   6  12 881  36   0  22   0   4   0]\n",
            " [  2   1  94  28 809   0  64   0   2   0]\n",
            " [  0   0   0   1   0 962   0  25   1  11]\n",
            " [120   1 106  30  70   0 664   0   9   0]\n",
            " [  0   0   0   0   0  21   0 954   0  25]\n",
            " [  3   1   2   5   5   1  10   5 968   0]\n",
            " [  0   0   0   0   0  14   0  34   1 951]]\n",
            "              precision    recall  f1-score   support\n",
            "\n",
            "           0       0.82      0.83      0.82      1000\n",
            "           1       0.99      0.97      0.98      1000\n",
            "           2       0.78      0.82      0.80      1000\n",
            "           3       0.87      0.88      0.88      1000\n",
            "           4       0.80      0.81      0.80      1000\n",
            "           5       0.96      0.96      0.96      1000\n",
            "           6       0.71      0.66      0.68      1000\n",
            "           7       0.94      0.95      0.95      1000\n",
            "           8       0.97      0.97      0.97      1000\n",
            "           9       0.96      0.95      0.96      1000\n",
            "\n",
            "    accuracy                           0.88     10000\n",
            "   macro avg       0.88      0.88      0.88     10000\n",
            "weighted avg       0.88      0.88      0.88     10000\n",
            "\n",
            "---------------------------------------\n",
            "\n",
            "Kernel Gaussiano con C  100\n",
            "SVC(C=100, break_ties=False, cache_size=200, class_weight=None, coef0=0.0,\n",
            "    decision_function_shape='ovr', degree=3, gamma='scale', kernel='rbf',\n",
            "    max_iter=-1, probability=False, random_state=None, shrinking=True,\n",
            "    tol=0.001, verbose=False)\n",
            "Precisión train (accuracy):  1.0\n",
            "Precisión test (accuracy):  0.8756\n",
            "Tiempo entrenamiento:  01:47:395346\n",
            "Matriz de confusión:\n",
            "[[803   1  12  29   5   2 141   0   7   0]\n",
            " [  3 969   5  21   1   0   1   0   0   0]\n",
            " [ 18   2 825  10  84   0  59   0   2   0]\n",
            " [ 39   7  19 867  39   0  24   0   5   0]\n",
            " [  3   1 104  37 780   0  73   0   2   0]\n",
            " [  0   0   0   1   0 965   0  21   1  12]\n",
            " [119   1 105  24  69   0 673   0   9   0]\n",
            " [  0   0   0   0   0  20   0 958   0  22]\n",
            " [  5   1   4   5   3   2   7   5 968   0]\n",
            " [  0   0   0   0   0  11   0  40   1 948]]\n",
            "              precision    recall  f1-score   support\n",
            "\n",
            "           0       0.81      0.80      0.81      1000\n",
            "           1       0.99      0.97      0.98      1000\n",
            "           2       0.77      0.82      0.80      1000\n",
            "           3       0.87      0.87      0.87      1000\n",
            "           4       0.80      0.78      0.79      1000\n",
            "           5       0.96      0.96      0.96      1000\n",
            "           6       0.69      0.67      0.68      1000\n",
            "           7       0.94      0.96      0.95      1000\n",
            "           8       0.97      0.97      0.97      1000\n",
            "           9       0.97      0.95      0.96      1000\n",
            "\n",
            "    accuracy                           0.88     10000\n",
            "   macro avg       0.88      0.88      0.88     10000\n",
            "weighted avg       0.88      0.88      0.88     10000\n",
            "\n",
            "---------------------------------------\n",
            "\n",
            "Kernel Gaussiano con C  1000\n",
            "SVC(C=1000, break_ties=False, cache_size=200, class_weight=None, coef0=0.0,\n",
            "    decision_function_shape='ovr', degree=3, gamma='scale', kernel='rbf',\n",
            "    max_iter=-1, probability=False, random_state=None, shrinking=True,\n",
            "    tol=0.001, verbose=False)\n",
            "Precisión train (accuracy):  1.0\n",
            "Precisión test (accuracy):  0.8756\n",
            "Tiempo entrenamiento:  01:47:291645\n",
            "Matriz de confusión:\n",
            "[[804   1  12  29   5   2 140   0   7   0]\n",
            " [  3 969   5  21   1   0   1   0   0   0]\n",
            " [ 18   2 822  10  85   0  61   0   2   0]\n",
            " [ 39   7  19 867  39   0  24   0   5   0]\n",
            " [  3   1 102  37 781   0  74   0   2   0]\n",
            " [  0   0   0   1   0 965   0  21   1  12]\n",
            " [118   1 105  24  69   0 674   0   9   0]\n",
            " [  0   0   0   0   0  20   0 958   0  22]\n",
            " [  5   1   4   5   3   2   7   5 968   0]\n",
            " [  0   0   0   0   0  11   0  40   1 948]]\n",
            "              precision    recall  f1-score   support\n",
            "\n",
            "           0       0.81      0.80      0.81      1000\n",
            "           1       0.99      0.97      0.98      1000\n",
            "           2       0.77      0.82      0.79      1000\n",
            "           3       0.87      0.87      0.87      1000\n",
            "           4       0.79      0.78      0.79      1000\n",
            "           5       0.96      0.96      0.96      1000\n",
            "           6       0.69      0.67      0.68      1000\n",
            "           7       0.94      0.96      0.95      1000\n",
            "           8       0.97      0.97      0.97      1000\n",
            "           9       0.97      0.95      0.96      1000\n",
            "\n",
            "    accuracy                           0.88     10000\n",
            "   macro avg       0.88      0.88      0.88     10000\n",
            "weighted avg       0.88      0.88      0.88     10000\n",
            "\n",
            "---------------------------------------\n",
            "\n"
          ],
          "name": "stdout"
        }
      ]
    },
    {
      "cell_type": "markdown",
      "metadata": {
        "id": "ExKhVLbOBp4r"
      },
      "source": [
        "\n",
        "\n",
        "En esta última modelización, observamos un gran salto en la precisión global sobre el subconjunto de entrenamiento al pasar de $C=1$ (90%) a $C=10$ (97%). Asimismo, también aumenta levemente la precisión sobre el subconjunto de *testing*. Se trata, pues, de un claro ejemplo de *underfitting* para valores $C<10$, tal y como se había obtenido en el *dataset* de dígitos del MNIST. De nuevo, para $C=10$ existe un máximo en la *accuracy* (*test*), mientras que para $C>10$ esta vuelve a disminuir ligeramente, es decir, existe cierto *overfitting* para valores superiores a 10.\n",
        "\n",
        "\n",
        "En general, hemos conseguido aumentar las precisiones con respecto al *kernel* lineal, sobre todo para valores $C>1$. En lo referente a tiempos de ejecución, todos ellos están por debajo de los 2 minutos, siendo $C=1$ el más lento mientras que $C=10$ es el más rápido. Concluimos, por tanto, que este *kernel* parece ser una elección mucho mejor para este subconjunto de datos con el que estamos trabajando con respecto al *kernel* lineal, en particular si **seleccionamos $C=10$**.\n",
        "\n",
        "Si nos fijamos en las matrices de confusión, vemos que, como era de esperar, las precisiones de todas las categorías han aumentado con respecto al *kernel* lineal. Además, se sigue teniendo que la peor clase es la 6 (camiseta) mientras que la que mejor funciona es la 1 (pantalón) en los 4 modelos planteados."
      ]
    },
    {
      "cell_type": "markdown",
      "metadata": {
        "id": "ToSeiuc_4IbW"
      },
      "source": [
        "##Comparativa entre modelos\n",
        "\n",
        "De entre todos los modelos propuestos para este *dataset*, se procede a realizar un resumen de los resultados obtenidos:"
      ]
    },
    {
      "cell_type": "code",
      "metadata": {
        "colab": {
          "base_uri": "https://localhost:8080/"
        },
        "id": "vNZei4Vn4IbX",
        "outputId": "a78dbbe5-21a5-4d67-938f-33d8cbd14aa6"
      },
      "source": [
        "print(\"El mejor modelo es: \", mejorModelo.kernel)\n",
        "print(mejorModelo)\n",
        "print(\"Accuracy: \", maxAcc)\n",
        "print(\"Tiempo: \", datetime.datetime.fromtimestamp(mejorTime).strftime(\"%M:%S:%f\"))\n",
        "print()\n",
        "\n",
        "print(\"El peor modelo es: \", peorModelo.kernel)\n",
        "print(peorModelo)\n",
        "print(\"Accuracy: \", minAcc)\n",
        "print(\"Tiempo: \", datetime.datetime.fromtimestamp(peorTime).strftime(\"%M:%S:%f\"))\n",
        "print()\n",
        "\n",
        "print(\"El modelo más rápido es: \", rapidoModelo.kernel)\n",
        "print(rapidoModelo)\n",
        "print(\"Accuracy: \", rapidoAcc)\n",
        "print(\"Tiempo: \", datetime.datetime.fromtimestamp(minTime).strftime(\"%M:%S:%f\"))\n",
        "print()\n",
        "\n",
        "print(\"El modelo más lento es: \", lentoModelo.kernel)\n",
        "print(lentoModelo)\n",
        "print(\"Accuracy: \", lentoAcc)\n",
        "print(\"Tiempo: \", datetime.datetime.fromtimestamp(maxTime).strftime(\"%M:%S:%f\"))"
      ],
      "execution_count": null,
      "outputs": [
        {
          "output_type": "stream",
          "text": [
            "El mejor modelo es:  rbf\n",
            "SVC(C=10, break_ties=False, cache_size=200, class_weight=None, coef0=0.0,\n",
            "    decision_function_shape='ovr', degree=3, gamma='scale', kernel='rbf',\n",
            "    max_iter=-1, probability=False, random_state=None, shrinking=True,\n",
            "    tol=0.001, verbose=False)\n",
            "Accuracy:  0.8797\n",
            "Tiempo:  01:46:487308\n",
            "\n",
            "El peor modelo es:  linear\n",
            "SVC(C=100, break_ties=False, cache_size=200, class_weight=None, coef0=0.0,\n",
            "    decision_function_shape='ovr', degree=3, gamma='scale', kernel='linear',\n",
            "    max_iter=-1, probability=False, random_state=None, shrinking=True,\n",
            "    tol=0.001, verbose=False)\n",
            "Accuracy:  0.8104\n",
            "Tiempo:  13:57:149670\n",
            "\n",
            "El modelo más rápido es:  linear\n",
            "SVC(C=1, break_ties=False, cache_size=200, class_weight=None, coef0=0.0,\n",
            "    decision_function_shape='ovr', degree=3, gamma='scale', kernel='linear',\n",
            "    max_iter=-1, probability=False, random_state=None, shrinking=True,\n",
            "    tol=0.001, verbose=False)\n",
            "Accuracy:  0.8329\n",
            "Tiempo:  01:43:942435\n",
            "\n",
            "El modelo más lento es:  linear\n",
            "SVC(C=100, break_ties=False, cache_size=200, class_weight=None, coef0=0.0,\n",
            "    decision_function_shape='ovr', degree=3, gamma='scale', kernel='linear',\n",
            "    max_iter=-1, probability=False, random_state=None, shrinking=True,\n",
            "    tol=0.001, verbose=False)\n",
            "Accuracy:  0.8104\n",
            "Tiempo:  13:57:149670\n"
          ],
          "name": "stdout"
        }
      ]
    },
    {
      "cell_type": "markdown",
      "metadata": {
        "id": "ksEN7SBm7DFH"
      },
      "source": [
        "En la siguiente tabla se recoge una comparación de todos los modelos ejecutados hasta ahora:\n",
        "\n",
        "|$C$|*Accuracy* lineal (%)|*Accuracy Gaussiano* (%)|Tiempo lineal|Tiempo *Gaussiano*|\n",
        "|:-----:|:--------:|:-------:|:---------:|:---------:|\n",
        "|  $1$  |  83.29   |   86.39    | 1min 44s  |1min 59s   | \n",
        "|  $10$ |  81.57   |   87.97    | 2min 50s  |1min 46s   |\n",
        "| $100$ |  81.04   |   87.56    | 13min 57s |1min 47s   |\n",
        "|$1000$ |  NA      |   87.56    | NA        |1min 47s   |"
      ]
    },
    {
      "cell_type": "markdown",
      "metadata": {
        "id": "WRWt6oLUEqcJ"
      },
      "source": [
        "En general, el *kernel Gaussiano* obtiene mejores resultados en las precisiones globales. De hecho, vemos que el modelo más preciso es el *Gaussiano* con $C=10$ mientras que el más rápido es el lineal con $C=1$. Por el contrario, el *kernel* lineal funciona muy mal para valores altos del parámetro $C$. Estos resultados coinciden con los obtenidos para el *dataset* de dígitos del MNIST. \n",
        "\n",
        "En definitiva, el modelo óptimo para este *dataset* es el radial con $C=10$ pues, si bien es ligeramente más lento que el lineal con $C=1$, la diferencia no es muy notable (2s) y la mejora obtenida en la precisión global es significativa (4.5% más)."
      ]
    },
    {
      "cell_type": "markdown",
      "metadata": {
        "id": "3umn_RuXml_T"
      },
      "source": [
        "##Evaluación del modelo\n",
        "\n",
        "De nuevo, si generamos el modelo más preciso con `kernel='rbf'` y `C=10`:"
      ]
    },
    {
      "cell_type": "code",
      "metadata": {
        "id": "zGChoFZo42ld"
      },
      "source": [
        "modelo_rbf_10_2 = SVC(kernel = \"rbf\" , C=10).fit(x_train_2n,y_train_2n)\n",
        "acc_rbf_10_2 = modelo_rbf_10_2.score(x_test_2n, y_test_2n)\n",
        "predicciones_rbf_10_2 = modelo_rbf_10_2.predict(x_test_2n)"
      ],
      "execution_count": null,
      "outputs": []
    },
    {
      "cell_type": "markdown",
      "metadata": {
        "id": "Q8qPIMJkml_T"
      },
      "source": [
        "- **Matriz de confusión**\n",
        "\n",
        "A continuación generamos su matriz de confusión sobre el subconjunto de *test*:"
      ]
    },
    {
      "cell_type": "code",
      "metadata": {
        "colab": {
          "base_uri": "https://localhost:8080/",
          "height": 614
        },
        "id": "3-Qh9xOfml_T",
        "outputId": "ea33180f-8bdd-4f02-c930-6f41caf78f68"
      },
      "source": [
        "print(f\"Confusion matrix:\\n\")\n",
        "fig, ax = plt.subplots(figsize=(10, 10))\n",
        "metrics.plot_confusion_matrix(modelo_rbf_10_2, x_test_2n, y_test_2n, cmap=plt.cm.viridis, ax=ax, values_format = '.0f')\n",
        "plt.show()"
      ],
      "execution_count": null,
      "outputs": [
        {
          "output_type": "stream",
          "text": [
            "Confusion matrix:\n",
            "\n"
          ],
          "name": "stdout"
        },
        {
          "output_type": "display_data",
          "data": {
            "image/png": "[encoded data removed]",
            "text/plain": [
              "<Figure size 720x720 with 2 Axes>"
            ]
          },
          "metadata": {
            "tags": [],
            "needs_background": "light"
          }
        }
      ]
    },
    {
      "cell_type": "markdown",
      "metadata": {
        "id": "b2xBsjtGtiPu"
      },
      "source": [
        "Vemos que, para este *dataset*, hay muchos más elementos fuera de la diagonal con respecto al *dataset* de dígitos como era de esperar pues tanto la *precision* como el *recall* han disminuido en todas las categorías.\n",
        "\n",
        "En particular, destaca el gran número de falsos positivos y negativos para la etiqueta 6. Si calculamos su *precision* y su *recall*:\n",
        "\n",
        "$$ Precision_6 =  \\frac{TP}{TP+FP} = \\frac{664}{116+3+62+22+64+10}= 0.7056$$ \n",
        "\n",
        "$$ Recall_6 =  \\frac{TP}{TP+FN}=\\frac{664}{664+120+1+106+30+70+9}=0.664$$ "
      ]
    },
    {
      "cell_type": "markdown",
      "metadata": {
        "id": "5YttIfLzDEIh"
      },
      "source": [
        "- ***Precision* y *recall***\n",
        "\n",
        "Si obtenemos estos indicadores para todas las clases (gracias a `classification_report()`):"
      ]
    },
    {
      "cell_type": "code",
      "metadata": {
        "colab": {
          "base_uri": "https://localhost:8080/"
        },
        "id": "5NNDntLeml_T",
        "outputId": "3f60d072-cdf2-4be3-b3eb-1618ac9a0c3f"
      },
      "source": [
        "print(f\"Classification report for classifier {modelo_rbf_10_2}:\\n\"\n",
        "      f\"{metrics.classification_report(y_test_2n, predicciones_rbf_10_2)}\\n\")"
      ],
      "execution_count": null,
      "outputs": [
        {
          "output_type": "stream",
          "text": [
            "Classification report for classifier SVC(C=10, break_ties=False, cache_size=200, class_weight=None, coef0=0.0,\n",
            "    decision_function_shape='ovr', degree=3, gamma='scale', kernel='rbf',\n",
            "    max_iter=-1, probability=False, random_state=None, shrinking=True,\n",
            "    tol=0.001, verbose=False):\n",
            "              precision    recall  f1-score   support\n",
            "\n",
            "           0       0.82      0.83      0.82      1000\n",
            "           1       0.99      0.97      0.98      1000\n",
            "           2       0.78      0.82      0.80      1000\n",
            "           3       0.87      0.88      0.88      1000\n",
            "           4       0.80      0.81      0.80      1000\n",
            "           5       0.96      0.96      0.96      1000\n",
            "           6       0.71      0.66      0.68      1000\n",
            "           7       0.94      0.95      0.95      1000\n",
            "           8       0.97      0.97      0.97      1000\n",
            "           9       0.96      0.95      0.96      1000\n",
            "\n",
            "    accuracy                           0.88     10000\n",
            "   macro avg       0.88      0.88      0.88     10000\n",
            "weighted avg       0.88      0.88      0.88     10000\n",
            "\n",
            "\n"
          ],
          "name": "stdout"
        }
      ]
    },
    {
      "cell_type": "markdown",
      "metadata": {
        "id": "OWD3sb_5t2RV"
      },
      "source": [
        "La clase 6 (camiseta) es, con diferencia, la categoría con la que más dificultades está teniendo el algoritmo de clasificación. Para las observaciones erróneas, es decir, aquellas fuera de la diagonal, se tiene que la mayoría de falsos negativos están causados por el hecho de que el algoritmo clasifica las camisetas como 0 (top), 2 (suéter) y 4 (abrigo). Es razonable que la predicción sea mala en estos casos pues son prendas de ropa muy similares. Asimismo, la mayoría de falsos positivos también están originados por esas 3 categorías, las cuáles están confundiéndose con camisetas.\n",
        "\n",
        "Para el resto de categorías excepto la 6 (camiseta), el modelo tiene un *F1-Score* superior al 80%. Destacan las clases 1 (pantalón), 5 (sandalia), 8 (bolso) y 9 (botín) por sus altos valores tanto del *precision* como del *recall* (>95%). Tiene sentido que estas categorías sean las que mejores predicciones arrojan pues son las más diferentes al resto visualmente.\n",
        "\n",
        "Por último, podemos representar algunas predicciones del algoritmo:"
      ]
    },
    {
      "cell_type": "code",
      "metadata": {
        "colab": {
          "base_uri": "https://localhost:8080/",
          "height": 142
        },
        "id": "9PuWYvn5Fpsp",
        "outputId": "637f8418-48e3-452b-af23-5e478ef2bdd0"
      },
      "source": [
        "_, axes = plt.subplots(nrows=1, ncols=9, figsize=(18, 18))\n",
        "for ax, image, prediction, real in zip(axes, x_test_2n, predicciones_rbf_10_2, y_test_2n):\n",
        "    ax.set_axis_off()\n",
        "    image = image.reshape(28, 28)\n",
        "    ax.imshow(image, cmap=plt.cm.gray_r, interpolation='nearest')\n",
        "    ax.set_title(f'Pred: {prediction}, Real:{real}')"
      ],
      "execution_count": null,
      "outputs": [
        {
          "output_type": "display_data",
          "data": {
            "image/png": "[encoded data removed]",
            "text/plain": [
              "<Figure size 1296x1296 with 9 Axes>"
            ]
          },
          "metadata": {
            "tags": [],
            "needs_background": "light"
          }
        }
      ]
    },
    {
      "cell_type": "markdown",
      "metadata": {
        "id": "tlPbCA5jH036"
      },
      "source": [
        "En este ejemplo, vemos cómo se han clasificado correctamente todas las imágenes excepto una camiseta (6) que ha sido clasificada como \"top\" (0)."
      ]
    },
    {
      "cell_type": "markdown",
      "metadata": {
        "id": "nRSNbZvXncEi"
      },
      "source": [
        "#Conclusiones\n",
        "\n",
        "A lo largo de la tarea se han implementado varios algoritmos de tipo *Support Vector Machine* sobre dos *datasets* de imágenes mediante la función `SVC`, para la cual se ha tratado de obtener la parametrización más óptima en función del *kernel* (lineal o radial) y del hiperparámetro $C$.\n",
        "\n",
        "Se han observado comportamientos similares para ambos *datasets*, los cuales contenían 60.000 registros de imágenes 28x28. Para el entrenamiento de cada modelo se han seleccionado las 20.000 primeras instancias de cada conjunto, y posteriormente se han evaluado sobre 10.000 registros del conjunto de *test*.\n",
        "\n",
        "El modelo óptimo se ha seleccionado teniendo en cuenta que no existiera un sobreajuste al *dataset* de entrenamiento ($C$ demasiado alto) ni una simplificación excesiva o *underfitting* ($C$ excesivamente bajo). En ambos *datasets*, el *kernel* radial con $C=10$ es el que mejores predicciones arroja a la hora de evaluar el modelo, si bien es ligeramente más lento que el *kernel* lineal con $C=1$, opción que elegiríamos si quisiéramos reducir el coste computacional.\n",
        "\n",
        "En la siguiente tabla se resumen los principales resultados para la precisión (%) sobre el subconjunto de *testing* obtenidos para cada *dataset*:\n",
        "\n",
        "\n",
        "    "
      ]
    },
    {
      "cell_type": "markdown",
      "metadata": {
        "id": "mThGV2IlL_I9"
      },
      "source": [
        "|    *Kernel*                        |MNIST *dataset*|*Fashion*-MNIST|\n",
        "|-------------------------------------------|:--------:|:-------:|\n",
        "| **Lineal** - *Accuracy* promedio  |     91.76    |    81.97     | \n",
        "| **Radial** - *Accuracy* promedio  |      97.48   |    87.37    |\n",
        "| **Lineal** - *Accuracy* máxima    |92.57 ($C=1$) |83.29 ($C=1$) | \n",
        "| **Radial** - *Accuracy* máxima    |97.67 ($C=10$)|87.97 ($C=10$)| "
      ]
    },
    {
      "cell_type": "markdown",
      "metadata": {
        "id": "ayiBxOEP0M5r"
      },
      "source": [
        "Como puede comprobarse, existe una diferencia de aproximadamente un 10% de un *dataset* a otro tanto para la precisión máxima como para el promedio por cada *kernel*. Este hecho se debe a que el segundo *dataset* contiene imágenes que, si bien tienen la misma resolución (28x28), contienen más información. \n",
        "\n",
        "Si nos fijamos en las representaciones gráficas realizadas como ejemplo de algunas imágenes de cada conjunto de datos, vemos que mientras que para el *dataset* de dígitos la mayoría de píxeles están en blanco y el resto en negro, para el *dataset* de ropa existen muchos más grises y prendas de ropa similares entre sí. Por tanto, el algoritmo tiene más dificultad a la hora de clasificar la ropa, pues es mucho más difícil de extraer el patrón subyacente de cada categoría. En otras palabras, el segundo *dataset* no es tan fácilmente separable, lo que se traduce en una disminución de la precisión global del modelo.\n",
        "\n",
        "Asimismo, concluimos que un *kernel* radial parece ser una mejor opción para este tipo de *datasets*, ya que debido a su complejidad y poca separabilidad, el *kernel* lineal tiene más dificultades a la hora de clasificar."
      ]
    }
  ]
}