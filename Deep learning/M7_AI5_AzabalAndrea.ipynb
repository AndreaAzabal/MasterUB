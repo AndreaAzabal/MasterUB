{
  "nbformat": 4,
  "nbformat_minor": 0,
  "metadata": {
    "colab": {
      "name": "M7_AI5_AzabalAndrea.ipynb",
      "provenance": [],
      "collapsed_sections": [],
      "toc_visible": true
    },
    "kernelspec": {
      "name": "python3",
      "display_name": "Python 3"
    },
    "language_info": {
      "name": "python"
    },
    "accelerator": "GPU"
  },
  "cells": [
    {
      "cell_type": "markdown",
      "metadata": {
        "id": "tW3jK_BDgjno"
      },
      "source": [
        "# **Aprendizaje Automático para Machine Learning**\n",
        "\n",
        "##Generación de texto##\n",
        "\n",
        "###Andrea Azábal Lamoso###\n",
        "\n",
        "27 de julio de 2021\n",
        "\n",
        "---"
      ]
    },
    {
      "cell_type": "markdown",
      "metadata": {
        "id": "tgmzVhKhmJHM"
      },
      "source": [
        "# Generación de texto con una red LSTM\n",
        "En esta actividad vamos a utilizar una red recurrente LSTM para generar texto.\n",
        "\n",
        "El corpus que sirve de referencia para generar los textos se compone de obras de H.P. Lovecraft, aunque se puede utilizar cualquier otro.\n",
        "\n",
        "El interés de esta actividad es utilizar las redes **LSTM para algo distinto de una clasificación**, aunque, como se puede observar, la calidad de los textos generados es inferior a la que se consigue con otros modelos más actuales, como los transformer.\n",
        "\n",
        "**Debes completar el código en las secciones indicadas con # COMPLETAR CODIGO**"
      ]
    },
    {
      "cell_type": "markdown",
      "metadata": {
        "id": "lUGDPYoH6Vmh"
      },
      "source": [
        "## Instalación e importación de paquetes"
      ]
    },
    {
      "cell_type": "code",
      "metadata": {
        "id": "XkmvTyPxA9bp",
        "colab": {
          "base_uri": "https://localhost:8080/"
        },
        "outputId": "a2144987-fd6d-4d9d-f0cc-a43f1b630578"
      },
      "source": [
        "!pip install progressbar2"
      ],
      "execution_count": null,
      "outputs": [
        {
          "output_type": "stream",
          "text": [
            "Requirement already satisfied: progressbar2 in /usr/local/lib/python3.7/dist-packages (3.38.0)\n",
            "Requirement already satisfied: python-utils>=2.3.0 in /usr/local/lib/python3.7/dist-packages (from progressbar2) (2.5.6)\n",
            "Requirement already satisfied: six in /usr/local/lib/python3.7/dist-packages (from progressbar2) (1.15.0)\n"
          ],
          "name": "stdout"
        }
      ]
    },
    {
      "cell_type": "code",
      "metadata": {
        "colab": {
          "base_uri": "https://localhost:8080/"
        },
        "id": "hg_-Lc8WBBiu",
        "outputId": "d7234e87-146e-4a30-efd6-fb48909b0f94"
      },
      "source": [
        "import os\n",
        "import urllib\n",
        "import numpy as np\n",
        "import matplotlib.pyplot as plt\n",
        "from collections import Counter\n",
        "import html\n",
        "\n",
        "import nltk\n",
        "from nltk import word_tokenize\n",
        "nltk.download('punkt')\n",
        "import pickle\n",
        "import random\n",
        "import progressbar\n",
        "from tensorflow.keras import models, layers\n",
        "from tensorflow.keras.utils import to_categorical\n",
        "\n",
        "try:\n",
        "    from nltk.tokenize.moses import MosesDetokenizer\n",
        "    detokenizer = MosesDetokenizer()\n",
        "    use_moses_detokenizer = True\n",
        "except:\n",
        "    use_moses_detokenizer = False\n",
        "\n",
        "print(f\"use_moses_detokenizer={use_moses_detokenizer}\")"
      ],
      "execution_count": null,
      "outputs": [
        {
          "output_type": "stream",
          "text": [
            "[nltk_data] Downloading package punkt to /root/nltk_data...\n",
            "[nltk_data]   Unzipping tokenizers/punkt.zip.\n",
            "use_moses_detokenizer=False\n"
          ],
          "name": "stdout"
        }
      ]
    },
    {
      "cell_type": "markdown",
      "metadata": {
        "id": "-WtteF7Mu9r-"
      },
      "source": [
        "## Definición de parámetros del corpus y su preprocesado"
      ]
    },
    {
      "cell_type": "code",
      "metadata": {
        "id": "uhtm7a7aCIr_"
      },
      "source": [
        "corpus_url = \"https://archive.org/stream/TheCollectedWorksOfH.p.Lovecraft/The-Collected-Works-of-HP-Lovecraft_djvu.txt\"\n",
        "corpus_path = \"lovecraft.txt\"\n",
        "preprocessed_corpus_path = \"lovecraft_preprocessed.p\"\n",
        "most_common_words_number = 10000\n"
      ],
      "execution_count": null,
      "outputs": []
    },
    {
      "cell_type": "markdown",
      "metadata": {
        "id": "kH8wS9yCvRXc"
      },
      "source": [
        "## Transformación entre palabras e índices\n",
        "Se definen dos funciones:\n",
        "* **encode_sequence**: codifica una secuencia de palabras en una secuencia de índices\n",
        "* **decode_indices**: decodifica una secuencia de índices en la secuencia de palabras correspondiente"
      ]
    },
    {
      "cell_type": "code",
      "metadata": {
        "id": "6uqjM9GSKNxM"
      },
      "source": [
        "def encode_sequence(sequence, vocabulary):\n",
        "\n",
        "    return [vocabulary.index(element) for element in sequence if element in vocabulary]\n",
        "\n",
        "\n",
        "def decode_indices(indices, vocabulary):\n",
        "\n",
        "    decoded_tokens = [vocabulary[index] for index in indices]\n",
        "    if use_moses_detokenizer  == True:\n",
        "        return detokenizer.detokenize(decoded_tokens, return_str=True)\n",
        "    else:\n",
        "        return \" \".join(decoded_tokens)"
      ],
      "execution_count": null,
      "outputs": []
    },
    {
      "cell_type": "markdown",
      "metadata": {
        "id": "V0YFmoL9hXHi"
      },
      "source": [
        "## Descarga del corpus\n",
        "Solo se descarga si no se encuentra en local (Colab o disco)"
      ]
    },
    {
      "cell_type": "code",
      "metadata": {
        "colab": {
          "base_uri": "https://localhost:8080/"
        },
        "id": "U1NGiz_3hUru",
        "outputId": "928e0e71-db7c-4a85-86ce-d8184f4bd0e4"
      },
      "source": [
        "def download_corpus_if_necessary():\n",
        "\n",
        "    if not os.path.exists(corpus_path):\n",
        "        print(\"Descargamos el corpus...\")\n",
        "\n",
        "        # Descargamos el contenido\n",
        "        corpus_string = urllib.request.urlopen(corpus_url).read().decode('utf-8')\n",
        "\n",
        "        # Eliminamos etiquetas HTML\n",
        "        index = corpus_string.index(\"<pre>\")\n",
        "        corpus_string = corpus_string[index + 5:]\n",
        "        index = corpus_string.find(\"</pre>\")\n",
        "        corpus_string = corpus_string[:index ]\n",
        "        corpus_string = html.unescape(corpus_string)\n",
        "\n",
        "        # Grabamos en fichero\n",
        "        corpus_file = open(corpus_path, \"w\")\n",
        "        corpus_file.write(corpus_string)\n",
        "        corpus_file.close()\n",
        "\n",
        "        print(\"El corpus se ha grabado en\", corpus_path)\n",
        "    else:\n",
        "        print(\"El corpus ya estaba grabado\")\n",
        "\n",
        "download_corpus_if_necessary()"
      ],
      "execution_count": null,
      "outputs": [
        {
          "output_type": "stream",
          "text": [
            "Descargamos el corpus...\n",
            "El corpus se ha grabado en lovecraft.txt\n"
          ],
          "name": "stdout"
        }
      ]
    },
    {
      "cell_type": "code",
      "metadata": {
        "id": "_M7bf0HoFlct"
      },
      "source": [
        "# SI NO FUNCIONA, EJECUTAR:\n",
        "#!rm lovecraft.txt\n",
        "#!wget https://github.com/albertojulian/master-ub/raw/main/lovecraft.txt\n",
        "#!ls -al lovecraft.txt"
      ],
      "execution_count": null,
      "outputs": []
    },
    {
      "cell_type": "markdown",
      "metadata": {
        "id": "yd8FM41ODLCf"
      },
      "source": [
        "## Preprocesado del corpus\n",
        "Solo se preprocesa si no se ha hecho antes."
      ]
    },
    {
      "cell_type": "code",
      "metadata": {
        "colab": {
          "base_uri": "https://localhost:8080/"
        },
        "id": "ekKisSsb_fje",
        "outputId": "c0b6f1e0-076b-4956-cc4f-2da6c539679c"
      },
      "source": [
        "def preprocess_corpus_if_necessary():\n",
        "\n",
        "    if not os.path.exists(preprocessed_corpus_path):\n",
        "        print(\"Preprocesamos el corpus...\")\n",
        "\n",
        "        corpus_file = open(corpus_path, \"r\")\n",
        "        corpus_string = corpus_file.read()\n",
        "\n",
        "        # Generación del vocabulario\n",
        "        print(\"Extraemos las palabras (tokens)...\")\n",
        "        corpus_tokens = word_tokenize(corpus_string)\n",
        "        print(\"Número de tokens:\", len(corpus_tokens))\n",
        "        print(\"Generamos el vocabulario...\")\n",
        "        word_counter = Counter()\n",
        "        word_counter.update(corpus_tokens)\n",
        "        print(\"Longitud del vocabulario antes del corte:\", len(word_counter))\n",
        "        vocabulary = [key for key, value in word_counter.most_common(most_common_words_number)]\n",
        "        print(\"Longitud del vocabulario después del corte:\", len(vocabulary))\n",
        "\n",
        "        # Conversión a índices\n",
        "        print(\"Codificamos a índices...\")\n",
        "        indices = encode_sequence(corpus_tokens, vocabulary)\n",
        "        print(\"Número de índices:\", len(indices))\n",
        "\n",
        "        # Saving.\n",
        "        print(\"Grabamos fichero de preprocesado del corpus...\")\n",
        "        pickle.dump((indices, vocabulary), open(preprocessed_corpus_path, \"wb\"))\n",
        "    else:\n",
        "        print(\"El corpus ya estaba preprocesado\")\n",
        "\n",
        "preprocess_corpus_if_necessary()"
      ],
      "execution_count": null,
      "outputs": [
        {
          "output_type": "stream",
          "text": [
            "Preprocesamos el corpus...\n",
            "Extraemos las palabras (tokens)...\n",
            "Número de tokens: 703845\n",
            "Generamos el vocabulario...\n",
            "Longitud del vocabulario antes del corte: 35697\n",
            "Longitud del vocabulario después del corte: 10000\n",
            "Codificamos a índices...\n",
            "Número de índices: 662558\n",
            "Grabamos fichero de preprocesado del corpus...\n"
          ],
          "name": "stdout"
        }
      ]
    },
    {
      "cell_type": "markdown",
      "metadata": {
        "id": "uUGvyFcb0u4s"
      },
      "source": [
        "## Generación del dataset\n",
        "Enfocamos la generación del dataset como un **aprendizaje auto-supervisado (self-supervised learning)**:\n",
        "* para generar secuencias de entrada, seleccionamos de forma aleatoria una secuencia de índices (correspondientes a palabras) del corpus\n",
        "* para asignar una etiqueta, escogemos el índice de la palabra siguiente a la secuencia de entrada"
      ]
    },
    {
      "cell_type": "code",
      "metadata": {
        "id": "z79RLSh50veq"
      },
      "source": [
        "# Parámetros de generación del dataset\n",
        "dataset_size = 50000\n",
        "sequence_length = 30 # longitud de los textos del dataset de entrenamiento\n",
        "\n",
        "def get_dataset(indices):\n",
        "\n",
        "    data_input = []\n",
        "    data_output = []\n",
        "    current_size = 0\n",
        "    bar = progressbar.ProgressBar(max_value=dataset_size)\n",
        "    while current_size < dataset_size:\n",
        "\n",
        "        # seleccionamos de forma aleatoria una secuencia de índices (correspondientes a palabras)\n",
        "        random_index = random.randint(0, len(indices) - (sequence_length + 1))\n",
        "        input_sequence = indices[random_index:random_index + sequence_length]\n",
        "        # la etiqueta de la secuencia aleatoria es el índice de la siguiente palabra\n",
        "        output_label = indices[random_index + sequence_length]\n",
        "\n",
        "        data_input.append(input_sequence)\n",
        "        data_output.append(output_label)\n",
        "\n",
        "        current_size += 1\n",
        "        bar.update(current_size)\n",
        "    bar.finish()\n",
        "\n",
        "    # Transformamos las listas a numpy arrays\n",
        "    data_input = np.array(data_input)\n",
        "    data_output = np.array(data_output)\n",
        "    return (data_input, data_output)\n"
      ],
      "execution_count": null,
      "outputs": []
    },
    {
      "cell_type": "markdown",
      "metadata": {
        "id": "hHOclEylxLOR"
      },
      "source": [
        "## Definición de la red LSTM y entrenamiento\n",
        "\n",
        "\n"
      ]
    },
    {
      "cell_type": "markdown",
      "metadata": {
        "id": "aa1gdVDaOW25"
      },
      "source": [
        "En este apartado se definirá el algoritmo de la red neuronal para posteriormente entrenarla y evaluar su precisión (solo se define y entrena si no se ha hecho antes, o si se fuerza con el parámetro `train_anyway`).\n",
        "\n",
        "Así, la primera capa de la red consistirá en una capa de `Embedding()`, la cual convierte cada palabra (referenciada por índices) en un vector de dimensión `hidden_size=1000`, es decir, se han seleccionado las 10.000 palabras más repetidas en el corpus y se les ha asignado un vector de dimensión 1.000 a cada una de ellas. También debe indicarse la longitud de los textos del *dataset* de entrenamiento, donde se ha seleccionado `sequence_length = 30` palabras.\n",
        "\n",
        "A continuación, se añade la capa `LSTM` de dimensión 1.000, esto es, su dimensión es la misma que la salida de la capa anterior.\n",
        "\n",
        "Finalmente, se añade una capa `Dense()` de dimensión igual al número total de palabras, 10.000. De esta forma, a cada palabra del *dataset* se le asigna una probabilidad aplicando la función `Softmax`.\n",
        "\n",
        "Por último, se graba el modelo."
      ]
    },
    {
      "cell_type": "code",
      "metadata": {
        "colab": {
          "base_uri": "https://localhost:8080/",
          "height": 1000
        },
        "id": "mDbtuIYeA8Rk",
        "outputId": "ed3ab266-63c2-4fc6-9aa9-788af8b63556"
      },
      "source": [
        "# Parámetros del modelo y entrenamiento\n",
        "train_anyway = True # fuerza el entrenamiento, aunque se haya realizado antes\n",
        "epochs = 10 # número de iteraciones a entrenar\n",
        "batch_size = 128 # tamaño de lote\n",
        "hidden_size = 1000 # número de nodos en la red LSTM\n",
        "model_path = \"lovecraft_model.h5\"\n",
        "\n",
        "def train_neural_network():\n",
        "\n",
        "    if not os.path.exists(model_path) or train_anyway == True:\n",
        "\n",
        "        # Carga de las palabras del corpus y sus índices\n",
        "        indices, vocabulary = pickle.load(open(preprocessed_corpus_path, \"rb\"))\n",
        "\n",
        "        # Generación del dataset\n",
        "        print(\"\\nGeneramos el dataset...\")\n",
        "        data_input, data_output = get_dataset(indices)\n",
        "        data_output = to_categorical(data_output, num_classes=len(vocabulary))\n",
        "\n",
        "        # Creación del modelo\n",
        "        print(\"Creamos el modelo...\")\n",
        "        # COMPLETAR CODIGO (debes seguir las indicaciones de la actividad para generar la red LSTM) \n",
        "        model = models.Sequential()\n",
        "        model.add(layers.Embedding(len(vocabulary), hidden_size, input_length=sequence_length))\n",
        "        model.add(layers.LSTM(hidden_size))\n",
        "        model.add(layers.Dense(len(vocabulary)))\n",
        "        model.add(layers.Activation('softmax'))\n",
        "        model.summary()\n",
        "\n",
        "        # Definimos el resto del modelo: optimizador, función de pérdidas y métrica\n",
        "        model.compile(\n",
        "            loss='categorical_crossentropy',\n",
        "            optimizer='adam',\n",
        "            metrics=['accuracy']\n",
        "        )\n",
        "\n",
        "        # Entrenamiento del modelo\n",
        "        print(\"Entrenamos el modelo...\")\n",
        "        history = model.fit(data_input, data_output, epochs=epochs, \n",
        "                            batch_size=batch_size, validation_split=0.2)\n",
        "        \n",
        "        # Grabación del modelo\n",
        "        print(\"...y grabamos el modelo\")\n",
        "        model.save(model_path)\n",
        "\n",
        "        plot_history(history)\n",
        "        \n",
        "\n",
        "def plot_history(history):\n",
        "\n",
        "    print(history.history.keys())\n",
        "\n",
        "    # Gráfica de función de pérdida\n",
        "    plt.plot(history.history['loss'], label='Train data')\n",
        "    plt.plot(history.history['val_loss'], label='Validation data')\n",
        "    plt.title('model loss')\n",
        "    plt.ylabel('loss')\n",
        "    plt.xlabel('epoch')\n",
        "    plt.legend()\n",
        "    plt.savefig(\"history_loss.png\")\n",
        "    # plt.clf()\n",
        "    plt.show()\n",
        "    plt.close()\n",
        "    \n",
        "    # Gráfica de accuracy.\n",
        "    plt.plot(history.history['accuracy'], label='Train data')\n",
        "    plt.plot(history.history['val_accuracy'], label='Validation data')\n",
        "    plt.title('model accuracy')\n",
        "    plt.ylabel('accuracy')\n",
        "    plt.xlabel('epoch')\n",
        "    plt.legend()\n",
        "    plt.savefig(\"history_accuracy.png\")\n",
        "    # plt.clf()\n",
        "\n",
        "    plt.show()\n",
        "    plt.close()\n",
        "        \n",
        "train_neural_network()"
      ],
      "execution_count": null,
      "outputs": [
        {
          "output_type": "stream",
          "text": [
            "\r                                                                               \r\rN/A% (0 of 50000) |                      | Elapsed Time: 0:00:00 ETA:  --:--:--"
          ],
          "name": "stderr"
        },
        {
          "output_type": "stream",
          "text": [
            "\n",
            "Generamos el dataset...\n"
          ],
          "name": "stdout"
        },
        {
          "output_type": "stream",
          "text": [
            "100% (50000 of 50000) |##################| Elapsed Time: 0:00:00 Time:  0:00:00\n"
          ],
          "name": "stderr"
        },
        {
          "output_type": "stream",
          "text": [
            "Creamos el modelo...\n",
            "Model: \"sequential\"\n",
            "_________________________________________________________________\n",
            "Layer (type)                 Output Shape              Param #   \n",
            "=================================================================\n",
            "embedding (Embedding)        (None, 30, 1000)          10000000  \n",
            "_________________________________________________________________\n",
            "lstm (LSTM)                  (None, 1000)              8004000   \n",
            "_________________________________________________________________\n",
            "dense (Dense)                (None, 10000)             10010000  \n",
            "_________________________________________________________________\n",
            "activation (Activation)      (None, 10000)             0         \n",
            "=================================================================\n",
            "Total params: 28,014,000\n",
            "Trainable params: 28,014,000\n",
            "Non-trainable params: 0\n",
            "_________________________________________________________________\n",
            "Entrenamos el modelo...\n",
            "Epoch 1/10\n",
            "313/313 [==============================] - 59s 163ms/step - loss: 6.6497 - accuracy: 0.0899 - val_loss: 6.1972 - val_accuracy: 0.1227\n",
            "Epoch 2/10\n",
            "313/313 [==============================] - 50s 160ms/step - loss: 5.7914 - accuracy: 0.1340 - val_loss: 6.0825 - val_accuracy: 0.1374\n",
            "Epoch 3/10\n",
            "313/313 [==============================] - 51s 161ms/step - loss: 5.2641 - accuracy: 0.1651 - val_loss: 6.1208 - val_accuracy: 0.1474\n",
            "Epoch 4/10\n",
            "313/313 [==============================] - 51s 162ms/step - loss: 4.6359 - accuracy: 0.2034 - val_loss: 6.2876 - val_accuracy: 0.1445\n",
            "Epoch 5/10\n",
            "313/313 [==============================] - 51s 163ms/step - loss: 3.7950 - accuracy: 0.2705 - val_loss: 6.5492 - val_accuracy: 0.1374\n",
            "Epoch 6/10\n",
            "313/313 [==============================] - 51s 163ms/step - loss: 2.7570 - accuracy: 0.4225 - val_loss: 6.8462 - val_accuracy: 0.1443\n",
            "Epoch 7/10\n",
            "313/313 [==============================] - 51s 164ms/step - loss: 1.7304 - accuracy: 0.6422 - val_loss: 7.1586 - val_accuracy: 0.1454\n",
            "Epoch 8/10\n",
            "313/313 [==============================] - 50s 161ms/step - loss: 0.9436 - accuracy: 0.8298 - val_loss: 7.4770 - val_accuracy: 0.1510\n",
            "Epoch 9/10\n",
            "313/313 [==============================] - 51s 162ms/step - loss: 0.4260 - accuracy: 0.9486 - val_loss: 7.7189 - val_accuracy: 0.1472\n",
            "Epoch 10/10\n",
            "313/313 [==============================] - 51s 162ms/step - loss: 0.1534 - accuracy: 0.9929 - val_loss: 7.9617 - val_accuracy: 0.1477\n",
            "...y grabamos el modelo\n",
            "dict_keys(['loss', 'accuracy', 'val_loss', 'val_accuracy'])\n"
          ],
          "name": "stdout"
        },
        {
          "output_type": "display_data",
          "data": {
            "image/png": "[encoded data removed]",
            "text/plain": [
              "<Figure size 432x288 with 1 Axes>"
            ]
          },
          "metadata": {
            "tags": [],
            "needs_background": "light"
          }
        },
        {
          "output_type": "display_data",
          "data": {
            "image/png": "[encoded data removed]",
            "text/plain": [
              "<Figure size 432x288 with 1 Axes>"
            ]
          },
          "metadata": {
            "tags": [],
            "needs_background": "light"
          }
        }
      ]
    },
    {
      "cell_type": "markdown",
      "metadata": {
        "id": "INP0SrkfSvRz"
      },
      "source": [
        "Al entrenar el modelo, vemos cómo a medida que avanzan las iteraciones o *epochs*, disminuye la función de pérdida y aumenta la precisión sobre el *dataset* de entrenamiento, de manera que al transcurso de 10 iteraciones se tiene una precisión muy próxima al 100%.\n",
        "\n",
        "Para el subconjunto de evaluación, sin embargo, no se aprecia lo mismo, sino que la función de pérdida alcanza un mínimo para después ir aumentando con el avance en las iteraciones. La precisión sobre este subconjunto se mantiene constante, en torno al 15%, lo cual indica que el modelo no es capaz de predecir la siguiente palabra en la mayoría de casos. Se tiene, por tanto, un sobreajuste al *dataset* de entrenamiento (*overfitting*). \n",
        "\n",
        "El hecho de que la red no sea capaz de predecir la siguiente palabra en nuevos textos no implica necesariamente que el generador de texto no vaya  a ser capaz de elaborar textos coherentes. Sin embargo, debido a esta escasa capacidad de predicción sobre nuevos conjuntos de datos, cabe esperar que las palabras generadas no \"encajen\" con el texto semilla. Para comprobarlo, vamos a proceder a evaluar si el algoritmo entrenado es capaz de generar textos coherentes y con sentido."
      ]
    },
    {
      "cell_type": "markdown",
      "metadata": {
        "id": "MCzZpOgI3U-T"
      },
      "source": [
        "## Generación de texto\n",
        "\n",
        "La generación de texto se basa en la función **get_index_from_prediction**, que obtiene un índice a partir de una predicción y un parámetro de temperatura.\n",
        "\n",
        "Con el objetivo de generar 15 textos de 50 palabras cada uno, en primer lugar cargamos de nuevo el corpus y el modelo generado.\n",
        "\n",
        "A continuación, para cada texto seleccionamos un valor aleatorio y lo almacenamos en el parámetro `temperature`. Este parámetro añade variabilidad en la predicción, de manera que con una temperatura baja  se modificará la distribución para maximizar todavía más las probabilidades más altas y minimizar las más bajas. En cambio, una temperatura alta igualará más la distribución de probabilidad, dando opción a palabras menos probables a ser las seleccionadas. Es decir, las temperaturas bajas son más conservadoras, mientras que para las temperaturas altas se tienen predicciones más \"arriesgadas\". Además, se tiene el caso particular $T = 0$, para el cual simplemente se selecciona la predicción más probable, lo que equivale a una ausencia de aleatoriedad.\n",
        "\n",
        "Asimismo, se selecciona una secuencia aleatoria de índices (palabras) del corpus a partir de la cual queremos generar el texto. Pasamos esta secuencia al modelo (`model.predict()`) y extraemos el índice de la predicción, introduciendo una cierta aleatoriedad mediante `temperature` con el objetivo de no predecir siempre la misma palabra/índice.\n",
        "\n",
        "Se realiza la predicción del modelo hasta llegar al número máximo de palabras: 50. En cada predicción, se va modificando el *input* que se le introduce al modelo, añadiendo una nueva palabra generada y deshaciéndonos de una de las palabras originales en la secuencia `input_sequence`, de manera que el tamaño del *input* se mantiene siempre constante. Además, vamos almacenando los índices de cada predicción y, una vez se tienen todos, se utiliza la función `decode_indices()` para \"decodificar\" cada uno y recuperar la palabra original del corpus. \n",
        "\n",
        "El resultado que se obtiene es el siguiente:"
      ]
    },
    {
      "cell_type": "code",
      "metadata": {
        "colab": {
          "base_uri": "https://localhost:8080/"
        },
        "id": "mry9VsvlW2yU",
        "outputId": "41ddc165-e071-44b1-8726-d6d1b970762f"
      },
      "source": [
        "# Parámetros de generación de texto\n",
        "generated_sequence_length = 50 # longitud de los textos generados\n",
        "n_generated_texts = 15 # número de textos a generar\n",
        "\n",
        "def generate_texts(n_generated_texts=10):\n",
        "\n",
        "    print(f\"Generamos {n_generated_texts} textos...\")\n",
        "\n",
        "    # carga del corpus\n",
        "    indices, vocabulary = pickle.load(open(preprocessed_corpus_path, \"rb\"))\n",
        "\n",
        "    # carga del modelo previamente grabado\n",
        "    model = models.load_model(model_path)\n",
        "\n",
        "    # Generamos tantos textos como indique el parámetro n_generated_texts\n",
        "    for i in range(n_generated_texts):\n",
        "        print(\"# texto:\", i+1)\n",
        "        # Escogemos un parámetro aleatorio \"temperature\" para la predicción\n",
        "        temperature = random.uniform(0.0, 1.0)\n",
        "        print(\"Temperatura:\", temperature)\n",
        "\n",
        "        # Obtenemos una muestra aleatoria a modo de secuencia semilla a partir de la cual se generarán textos\n",
        "        random_index = random.randint(0, len(indices) - (generated_sequence_length))\n",
        "        input_sequence = indices[random_index:random_index + sequence_length]\n",
        "\n",
        "        # Mostramos la secuancia aleatoria y el texto a continuación\n",
        "        text_input = decode_indices(input_sequence, vocabulary)\n",
        "        print(\"- Texto semilla:\")\n",
        "        print(text_input)\n",
        "        original_sequence = indices[random_index:random_index + sequence_length + 50]\n",
        "        text_original = decode_indices(original_sequence, vocabulary)\n",
        "        print(\"- Texto semilla y continuación:\")\n",
        "        print(text_original)\n",
        "\n",
        "        # Generamos la secuenca de salida repitiendo la predicción\n",
        "        generated_sequence = []\n",
        "        while len(generated_sequence) < generated_sequence_length:\n",
        "            prediction = model.predict(np.expand_dims(input_sequence, axis=0))\n",
        "            predicted_index = get_index_from_prediction(prediction[0], temperature)\n",
        "            generated_sequence.append(predicted_index)\n",
        "            input_sequence = input_sequence[1:]\n",
        "            input_sequence.append(predicted_index)\n",
        "            \n",
        "\n",
        "        # Convertimos la secuencia de índices generada en una frase\n",
        "        print(\"- Texto generado:\")\n",
        "        text = decode_indices(generated_sequence, vocabulary)\n",
        "        print(text)\n",
        "        print(\"\")\n",
        "\n",
        "        \n",
        "def get_index_from_prediction(prediction, temperature=0.0):\n",
        "\n",
        "    # Temperatura cero - usamos argmax.\n",
        "    if temperature == 0.0:\n",
        "        return np.argmax(prediction)\n",
        "\n",
        "    # Temperatura distinta de cero - aplicamos cierta aleatoriedad\n",
        "    else:\n",
        "        prediction = np.asarray(prediction).astype('float64')\n",
        "        prediction = np.log(prediction) / temperature\n",
        "        exp_prediction= np.exp(prediction)\n",
        "        prediction = exp_prediction / np.sum(exp_prediction)\n",
        "        probabilities = np.random.multinomial(1, prediction, 1)\n",
        "        return np.argmax(probabilities)\n",
        "\n",
        "\n",
        "generate_texts(n_generated_texts)"
      ],
      "execution_count": null,
      "outputs": [
        {
          "output_type": "stream",
          "text": [
            "Generamos 15 textos...\n",
            "# texto: 1\n",
            "Temperatura: 0.6488112213561746\n",
            "- Texto semilla:\n",
            "hysteria . He insisted that this shadowy bungalow possessed no library possessed no library or laboratory beyond the visible ones , and waxed in explaining the absence from the house\n",
            "- Texto semilla y continuación:\n",
            "hysteria . He insisted that this shadowy bungalow possessed no library possessed no library or laboratory beyond the visible ones , and waxed in explaining the absence from the house of such odours as now all his clothing . gossip he attributed to nothing more than the cheap of baffled curiousity . Of the whereabouts of Dr. Allen he said he did not feel at liberty to speak definitely , but assured his that the bearded and spectacled man would\n",
            "- Texto generado:\n",
            "was a signs of sweet , April columns with a quiet with sight of his fevered steep peaks , whose gods may have been during the nameless city ; where which had the many orbit of face had held down in certain vast the seaport of the illusion illusion of\n",
            "\n",
            "# texto: 2\n",
            "Temperatura: 0.40505497370725796\n",
            "- Texto semilla:\n",
            "led me into - something of the age-old horrors that even now are festering in corners with a few monstrous priests to keep them alive . Some people know things\n",
            "- Texto semilla y continuación:\n",
            "led me into - something of the age-old horrors that even now are festering in corners with a few monstrous priests to keep them alive . Some people know things about the universe that nobody ought to know , and can do things that nobody ought to be able to do . I 've been in it up to my neck , but that 's the end . Today I 'd burn that damned Necronomicon and all the rest if\n",
            "- Texto generado:\n",
            "about the stars in the room and the few were the small white than whose horrible , the ancient walls . Not thus through the dark , we did 'd use out of the little to the old house . The man 's library was such a highly distance ,\n",
            "\n",
            "# texto: 3\n",
            "Temperatura: 0.7732650177833318\n",
            "- Texto semilla:\n",
            ". `` What 's me ? Good God , Georgina , what is n't ? Look at the cages and see if you have to ask again ! out -\n",
            "- Texto semilla y continuación:\n",
            ". `` What 's me ? Good God , Georgina , what is n't ? Look at the cages and see if you have to ask again ! out - dry - not a cursed specimen left ; and a line of the most important cultures in their tubes without a chance to do an ounce of good ! ' work wasted - whole programme set back - it 's enough to drive a man mad ! How shall I\n",
            "- Texto generado:\n",
            "he was really like this man , for I see the searchers on me to it , and I could not help to the of the club in a book . If he complained , my boy for no man , but at what it will not be decided that\n",
            "\n",
            "# texto: 4\n",
            "Temperatura: 0.8761905707349624\n",
            "- Texto semilla:\n",
            "evidence exists to the youth 's claim regarding his crucial discovery . In the first place , two workmen of high intelligence saw Joseph Curwen 's ancient papers found .\n",
            "- Texto semilla y continuación:\n",
            "evidence exists to the youth 's claim regarding his crucial discovery . In the first place , two workmen of high intelligence saw Joseph Curwen 's ancient papers found . , the boy once shewed Dr. Willett those papers and a page of the Curwen diary , and each of the documents had every appearance of genuineness . The hole where Ward claimed to have found them was long a visible reality , and Willett had a very convincing final\n",
            "- Texto generado:\n",
            "After are the sound said that there could not be be heard from the darkness ; and two in the town that the washed was still with him . Yet there even no week Nyarlathotep , nor were no reason in weaving save . They were all , and they\n",
            "\n",
            "# texto: 5\n",
            "Temperatura: 0.8555658302600174\n",
            "- Texto semilla:\n",
            "eyes were fixed upon this singular tract , that I first felt the ground in motion beneath me . with a kind of throbbing agitation which held a fiendish suggestion\n",
            "- Texto semilla y continuación:\n",
            "eyes were fixed upon this singular tract , that I first felt the ground in motion beneath me . with a kind of throbbing agitation which held a fiendish suggestion of conscious action , the bit of bank on which I stood detached itself from the grassy shore and commenced to float away ; borne slowly onward as if by some current of force . I did not move , astonished and startled as I was by the unprecedented phenomenon\n",
            "- Texto generado:\n",
            "of such dream ' forth ! So A strange gold took curious ai n't explain if all the world 's sech - leader , in a process , clock of the sinister unexplainable ; that appeared to be a highly tendency of awe . No by the end of Father\n",
            "\n",
            "# texto: 6\n",
            "Temperatura: 0.27947991379461445\n",
            "- Texto semilla:\n",
            "things . He and the boys continued to use the tainted supply , drinking it as listlessly and mechanically as they ate their meagre and and did their and monotonous\n",
            "- Texto semilla y continuación:\n",
            "things . He and the boys continued to use the tainted supply , drinking it as listlessly and mechanically as they ate their meagre and and did their and monotonous through the aimless days . There was something of stolid resignation about them all , as if they walked half in another world between lines of nameless guards to a certain and familiar doom . Thaddeus went mad in September after a visit to the well . He had gone\n",
            "- Texto generado:\n",
            "rather than its bizarre as to have down it ; and the old man was still , and had not surprised a long as if such a sea being very dark . As I stood closer from his door ; and when he looked said that he could n't it\n",
            "\n",
            "# texto: 7\n",
            "Temperatura: 0.36594574870661867\n",
            "- Texto semilla:\n",
            "form the least notion of even their remotest kinship . They , like the subject and material , belonged to something horribly remote and distinct from mankind as we know\n",
            "- Texto semilla y continuación:\n",
            "form the least notion of even their remotest kinship . They , like the subject and material , belonged to something horribly remote and distinct from mankind as we know it . something frightfully suggestive of old and unhallowed cycles of life in which our world and our conceptions have no part . And yet , as the members shook their heads and confessed defeat at the Inspector 's problem , there was one man in that gathering who suspected\n",
            "- Texto generado:\n",
            ", and in their paws utter , and in the moon 's death I could not have done their ; for its 's face was a very small of a well at any human ? All my brain is a few , I thought I saw a curious rigidity in\n",
            "\n",
            "# texto: 8\n",
            "Temperatura: 0.7034180537893069\n",
            "- Texto semilla:\n",
            "maimed victims of war and , and monsters like de and de there were other things which had made him breathe faster and stay till the ringing of the closing\n",
            "- Texto semilla y continuación:\n",
            "maimed victims of war and , and monsters like de and de there were other things which had made him breathe faster and stay till the ringing of the closing bell . The man who had fashioned this collection could be no ordinary . There was a kind of diseased some of this stuff . Later he had learned about George Rogers . The man had been on the staff , but some trouble had developed which led to his\n",
            "- Texto generado:\n",
            "of the dead black things . Once in the great stone stream of earth 's gods were joined with results which seemed more with its range , and to find the men of the terrible men of the Great One gloom with the bridge before by the omnipresent Ones ,\n",
            "\n",
            "# texto: 9\n",
            "Temperatura: 0.5152257800166421\n",
            "- Texto semilla:\n",
            "as a captive mind of the Great Race . At moments I fancied I saw those , conical horrors moving about at their accustomed , and I feared to look\n",
            "- Texto semilla y continuación:\n",
            "as a captive mind of the Great Race . At moments I fancied I saw those , conical horrors moving about at their accustomed , and I feared to look down lest I find myself one with them in aspect . Yet all the while I saw the blocks as well as the rooms and corridors ; the evil , burning moon as well as the lamps of luminous crystal ; the endless desert as well as the waving ferns\n",
            "- Texto generado:\n",
            "at it the outside the grim horror which seemed ahead of us and hidden seen or worlds and wholly of madness . Dylath-Leen - he would not but much so things down to do it away from the elevated and horror upon the two accursed world which grew visits to\n",
            "\n",
            "# texto: 10\n",
            "Temperatura: 0.4290422126942752\n",
            "- Texto semilla:\n",
            ". As he the coffins he felt his weight very ; especially when , upon reaching the topmost one , he heard that aggravated which the wholesale rending of wood\n",
            "- Texto semilla y continuación:\n",
            ". As he the coffins he felt his weight very ; especially when , upon reaching the topmost one , he heard that aggravated which the wholesale rending of wood . He had , it seems , planned in vain when the stoutest coffin for the platform ; for no sooner was his full bulk again upon it than the rotting lid gave way , him two feet down on a surface which even he did not care to imagine\n",
            "- Texto generado:\n",
            ", and all the of the city at night . On the soil '' wherein the few were the small small , where a mile drew so as it as the other city of the distant region . Of course , the ruins of the great trees , and now\n",
            "\n",
            "# texto: 11\n",
            "Temperatura: 0.15217188709183482\n",
            "- Texto semilla:\n",
            "I later came to study . But the chief point is that my own ancestry and background are altogether normal . What came , came from somewhere else - where\n",
            "- Texto semilla y continuación:\n",
            "I later came to study . But the chief point is that my own ancestry and background are altogether normal . What came , came from somewhere else - where I even now hesitate to in plain words . I am the son of and Hannah ( Wingate ) Peaslee , both of wholesome old stock . I was born and reared in - at the old homestead in Street near Golden Hill - and did not go to Arkham\n",
            "- Texto generado:\n",
            "I could have to go to give them to come - and nothing came to me from him . He would not to him for a moment that he could see the approaching the picture at the first time the light I came to be shunned , but had cast\n",
            "\n",
            "# texto: 12\n",
            "Temperatura: 0.6043904860278994\n",
            "- Texto semilla:\n",
            "shall stand firmly against this course because I do not believe he is dead . There are of time and space , of vision and reality , which only a\n",
            "- Texto semilla y continuación:\n",
            "shall stand firmly against this course because I do not believe he is dead . There are of time and space , of vision and reality , which only a dreamer can divine ; and from what I know of Carter I think he has merely found a way to traverse these mazes . Whether or not he will ever come back , I can not say . He wanted the lands of dream he had lost , and yearned\n",
            "- Texto generado:\n",
            "fine grey of legend ; but whose is on in a place , I would to have down the place of the thin days which we had always ever dared to follow . My fingers was so in the course , and I knew it was only a session indeed\n",
            "\n",
            "# texto: 13\n",
            "Temperatura: 0.351526894230775\n",
            "- Texto semilla:\n",
            "grey scenes I feel I knew before . Then a sadness o'er me , and a tremor seems to start - For I know the are 'd hopes - the\n",
            "- Texto semilla y continuación:\n",
            "grey scenes I feel I knew before . Then a sadness o'er me , and a tremor seems to start - For I know the are 'd hopes - the garden is my heart . The House a dwelling close to a hill . Where the branches are telling Strange legends of ill ; Over timbers so old That they breathe of the dead . the vines , green and cold . By strange nourishment fed ; And no man\n",
            "- Texto generado:\n",
            "old house was still in his , but only only a good discovery of my friend , but it would be opened to the bottom of a strange and to the . In the place , the sound of a great ship ' out of the deep , and I\n",
            "\n",
            "# texto: 14\n",
            "Temperatura: 0.2887587690307728\n",
            "- Texto semilla:\n",
            "Parker Place and rapidly spreading up the hill , and welcomed with curious by the other denizens of the region . Their squat figures and characteristic , grotesquely combined with\n",
            "- Texto semilla y continuación:\n",
            "Parker Place and rapidly spreading up the hill , and welcomed with curious by the other denizens of the region . Their squat figures and characteristic , grotesquely combined with American clothing , appeared more and more among the and of the Borough Hall section ; till at length it was deemed necessary to their numbers , ascertain their sources and , and find if possible a way to round them up and deliver them to the proper authorities .\n",
            "- Texto generado:\n",
            "its age . That was all his , and listened only in a curious magic - but it without its people to teach to him to me . The next day devils , Mr. , was not a very old , whose stealthy is thickest of - and identity came\n",
            "\n",
            "# texto: 15\n",
            "Temperatura: 0.6533186554034782\n",
            "- Texto semilla:\n",
            "and paper , geologist 's hammer and chisel , specimen , coil of climbing rope , and powerful electric torches with extra batteries ; this equipment having been carried in\n",
            "- Texto semilla y continuación:\n",
            "and paper , geologist 's hammer and chisel , specimen , coil of climbing rope , and powerful electric torches with extra batteries ; this equipment having been carried in the plane on the chance that we might be able to effect a landing , take ground pictures , make drawings and sketches , and obtain rock specimens from some bare slope , outcropping , or mountain cave . Fortunately we had a supply of extra paper to tear up\n",
            "- Texto generado:\n",
            "the vast the distance near the house . I could not see their feet , and listened the distinct at the temple 's southward at the narrow way . The night was of three Published less than usual , and with the curious sea . The night thus followed the\n",
            "\n"
          ],
          "name": "stdout"
        }
      ]
    },
    {
      "cell_type": "markdown",
      "metadata": {
        "id": "XKtS4jg_X1ji"
      },
      "source": [
        "En el *output* se pueden ver tres textos:\n",
        "\n",
        "- Texto semilla: secuencia aleatoria que se ha utilizado para realizar la predicción.\n",
        "- Texto semilla y continuación: la secuencia aleatoria original y el texto que le continúa en el corpus.\n",
        "- Texto generado: texto resultante de la predicción.\n",
        "\n",
        "\n",
        "\n",
        "Como se puede comprobar, las sentencias generadas no tienen coherencia o sentido independientemente de la temperatura seleccionada. Si nos fijamos, en muchos casos la primera palabra del texto generado coincide con la palabra del corpus que prosigue al *input*, por ejemplo palabras nexo como \"*the*\" en el texto 15 u \"*of*\" en el texto 5. Sin embargo, el algoritmo enseguida \"diverge\" y, por tanto, las predicciones de las palabras siguientes no concuerdan con el corpus original.\n",
        "\n",
        "\n",
        "Aun así, sí que se observa que las palabras generadas siguen ciertas reglas gramaticales como la presencia de verbos después del sujeto (\"*I could not have done*\",  \"*the old man was*\", etc.). Los signos de puntuación no se emplean correctamente, aunque parece que todas las oraciones tienen longitudes razonables hasta la aparición de un punto o una coma. El vocabulario que utiliza es bastante amplio y se hace evidente que la red ha aprendido de obras literarias relativamente antiguas, cuyo estilo de escritura es formal e incluso arcaico. \n",
        "\n",
        "Por otra parte, comprobamos que se repiten algunas de las palabras en cada texto generado independientemente del valor del parámetro `temperature`. Por ejemplo, en el texto 4 ($T=0,87$), se repite el verbo (\"*be be*\"), mientras que en el texto 13 ($T=0.35$) se repite un adverbio (\"*only only*\"). En resumen, no parece que el hecho de haber añadido el parámetro de temperatura esté afectando mucho a los resultados, pues no observamos grandes diferencias entre una temperatura alta (suaviza la distribución de probabilidad y proporciona más diversidad) y una temperatura baja (proporciona una distribución de probabilidad más conservadora y  menos libertad en la generación).\n",
        "\n"
      ]
    },
    {
      "cell_type": "markdown",
      "metadata": {
        "id": "xmOSwE799Rgd"
      },
      "source": [
        "#Conclusiones\n",
        "\n",
        "A lo largo de esta tarea, se ha entrenado una red neuronal recurrente  (RNN) con el fin de generar textos. A diferencia de una red neuronal simple, una RNN es capaz de recordar *inputs* de capas anteriores de la red. Es decir, el *output* de las capas no están únicamente influenciados por los pesos de los *output* de las capas previas, sino que también tienen en cuenta el \"contexto\" derivado de *inputs* y *outputs* previos.\n",
        "\n",
        "Este tipo de redes son muy útiles a la hora de generar textos, pues pueden memorizar palabras previas de una oración con el fin de aprender qué palabra es más probable que aparezca a continuación (dado un *random seed*). \n",
        "\n",
        "En nuestro caso, observamos cómo tras tan solo 10 iteraciones en el entrenamiento, la red es capaz de predecir casi al 100% la siguiente palabra en el subconjunto de entrenamiento, mientras que este porcentaje se reduce a apenas un 15% sobre el *dataset* de *testing*.\n",
        "\n",
        "A la hora de generar el texto, observamos que las sentencias no tienen sentido, si bien parecen seguir cierta estructura semántica aprendida del corpus original, así como un estilo de escritura similar al de las obras literarias de H.P. Lovecraft. El hecho de modificar el parámetro de aleatoriedad `temperature` tampoco parece tener gran repercusión en las predicciones, observándose características muy similares en los 15 textos generados.\n",
        "\n",
        "Con el fin de mejorar la RNN, podríamos aumentar la profundidad de la red neuronal, añadiendo más capas LSTM (con más neuronas) junto con capas *Dropout* para evitar el *overfitting*. Sin embargo, hay que tener en cuenta que entrenar este tipo de modelos es costoso computacionalmente. \n",
        "\n"
      ]
    }
  ]
}